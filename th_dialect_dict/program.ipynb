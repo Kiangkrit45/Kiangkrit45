{
 "cells": [
  {
   "cell_type": "code",
   "execution_count": 3,
   "id": "ad69cf55-a308-4e93-a52a-4610b92686f1",
   "metadata": {},
   "outputs": [
    {
     "name": "stdout",
     "output_type": "stream",
     "text": [
      "Collecting openpyxl\n",
      "  Downloading openpyxl-3.1.5-py2.py3-none-any.whl.metadata (2.5 kB)\n",
      "Collecting et-xmlfile (from openpyxl)\n",
      "  Downloading et_xmlfile-1.1.0-py3-none-any.whl.metadata (1.8 kB)\n",
      "Downloading openpyxl-3.1.5-py2.py3-none-any.whl (250 kB)\n",
      "Downloading et_xmlfile-1.1.0-py3-none-any.whl (4.7 kB)\n",
      "Installing collected packages: et-xmlfile, openpyxl\n",
      "Successfully installed et-xmlfile-1.1.0 openpyxl-3.1.5\n"
     ]
    }
   ],
   "source": [
    "# !pip3 install numpy\n",
    "# !pip3 install pandas\n",
    "# !pip3 install csv\n",
    "!pip3 install openpyxl"
   ]
  },
  {
   "cell_type": "code",
   "execution_count": 4,
   "id": "8a1777e3-6d0b-4063-96a1-d307038f3200",
   "metadata": {},
   "outputs": [],
   "source": [
    "import pandas as pd\n",
    "import numpy as np\n",
    "import csv\n",
    "import re\n",
    "\n",
    "north = pd.read_excel(r\"datasets\\พจนานุกรมภาษาถิ่นเหนือ.xlsx\", header=None)\n",
    "northeast = pd.read_excel(r\"datasets\\พจนานุกรมภาษาถิ่นอีสาน.xlsx\", header=None)\n",
    "south = pd.read_excel(r\"datasets\\พจนานุกรมภาษาถิ่นใต้.xlsx\", header=None)"
   ]
  },
  {
   "cell_type": "code",
   "execution_count": 8,
   "id": "0fed98bc-37a4-44da-8541-e64608c31eee",
   "metadata": {},
   "outputs": [
    {
     "data": {
      "text/plain": [
       "0       น. กก, ชื่อไม้ล้มลุกชนิดหนึ่งเกิดในที่ชุ่มน้ำ ...\n",
       "1       น. กกลังกาชนิดหนึ่ง แต่ต้นเล็กกว่า ใช้เป็นสมุนไพร\n",
       "2                          น. กกชนิดต้นกลม ใช้เป็นสมุนไพร\n",
       "3                                                     NaN\n",
       "4       ว. มาก, ยิ่ง เช่น แก่กกกก - แก่มาก, แห้งกกกก -...\n",
       "                              ...                        \n",
       "1717                            น. กรรไกรแบบจีน ใช้ตัดผ้า\n",
       "1718             น. กรรไกรที่ทำหัวเป็นรูปหงส์ ; สำ. โบราณ\n",
       "1719                                             ก็เรียก.\n",
       "1720                                                  NaN\n",
       "1721                                 น. รกมะพร้าว (ช.พ.).\n",
       "Name: 1, Length: 1722, dtype: object"
      ]
     },
     "execution_count": 8,
     "metadata": {},
     "output_type": "execute_result"
    }
   ],
   "source": [
    "south_dict = south.to_dict(orient='records')\n",
    "\n",
    "def shift_values_left(d):\n",
    "    values = [v for v in d.values() if pd.notna(v)]\n",
    "    return {i: values[i] if i < len(values) else np.nan for i in d.keys()}\n",
    "\n",
    "south = pd.DataFrame([shift_values_left(d) for d in south_dict])\n",
    "\n",
    "first_col = south.iloc[:, 1]"
   ]
  },
  {
   "cell_type": "code",
   "execution_count": 6,
   "id": "62e52de2",
   "metadata": {},
   "outputs": [],
   "source": [
    "def split_definition(row):\n",
    "    word = str(row[0]) if pd.notna(row[0]) else ''\n",
    "    definition = str(row[1]) if pd.notna(row[1]) else ''\n",
    "    if not isinstance(definition, str):\n",
    "        return [[word, '', str(definition)]]\n",
    "    parts = re.split(r'(?:(?<=\\s)|^)(?=(?:น\\.|ก\\.|ว\\.|สัน\\.|สำ\\.|ลัก\\.)|\\d+\\s+(?:น\\.|ก\\.|ว\\.|สัน\\.|สำ\\.|ลัก\\.))', definition)\n",
    "    result = []\n",
    "    current_pos = ''\n",
    "    for part in parts:\n",
    "        pos_match = re.match(r'^(?:\\d+\\s+)?(น\\.|ก\\.|ว\\.|สัน\\.|สำ\\.|ลัก\\.)', part)\n",
    "        if pos_match:\n",
    "            current_pos = pos_match.group(1)\n",
    "            def_part = part[pos_match.end():].strip()\n",
    "        else:\n",
    "            def_part = part.strip()\n",
    "        sub_parts = re.split(r'(?<=\\.)\\s*(?:\\d+\\.|\\d+\\)\\.)\\s*', def_part)\n",
    "        for sub_part in sub_parts:\n",
    "            if sub_part.strip():\n",
    "                result.append([word, current_pos.strip(), sub_part.strip()])\n",
    "    return result if result else [[word, '', definition]]"
   ]
  },
  {
   "cell_type": "code",
   "execution_count": null,
   "id": "f8a8a87b-c796-4fdc-9d5a-0c0c00949f50",
   "metadata": {},
   "outputs": [],
   "source": [
    "# ver1\n",
    "\n",
    "# def split_definition(row):\n",
    "#     word = row[0]\n",
    "#     definition = row[1] if pd.notna(row[1]) else ''\n",
    "#     parts = re.split(r',\\s*(?=(?:น\\.|ก\\.|ว\\.|สัน\\.|สำ\\.|ลัก\\.))', definition) \n",
    "#     result = []\n",
    "#     for part in parts:\n",
    "#         match = re.match(r'(น\\.|ก\\.|ว\\.|สัน\\.|สำ\\.|ลัก\\.)\\s*(.*)', part)\n",
    "#         if match:\n",
    "#             pos, def_part = match.groups()\n",
    "#             sub_parts = re.split(r'(?<=\\.)\\s*\\d+\\)\\.\\s*', def_part)\n",
    "#             for sub_part in sub_parts:\n",
    "#                 if sub_part.strip():\n",
    "#                     result.append([word, pos.strip(), sub_part.strip()])\n",
    "#         else:\n",
    "#             result.append([word, '', part.strip()])\n",
    "#     return result\n",
    "\n",
    "# ver 2\n",
    "\n",
    "# def split_definition(row):\n",
    "#     word = str(row[0]) if pd.notna(row[0]) else ''\n",
    "#     definition = str(row[1]) if pd.notna(row[1]) else ''\n",
    "#     if not isinstance(definition, str):\n",
    "#         return [[word, '', str(definition)]]\n",
    "#     parts = re.split(r'(?:(?<=\\s)|^)(?=(?:น\\.|ก\\.|ว\\.|สัน\\.|สำ\\.|ลัก\\.)|\\d+\\s+(?:น\\.|ก\\.|ว\\.|สัน\\.|สำ\\.|ลัก\\.))', definition)\n",
    "#     result = []\n",
    "#     current_pos = ''\n",
    "#     for part in parts:\n",
    "#         pos_match = re.match(r'^(?:\\d+\\s+)?(น\\.|ก\\.|ว\\.|สัน\\.|สำ\\.|ลัก\\.)', part)\n",
    "#         if pos_match:\n",
    "#             current_pos = pos_match.group(1)\n",
    "#             def_part = part[pos_match.end():].strip()\n",
    "#         else:\n",
    "#             def_part = part.strip()\n",
    "#         sub_parts = re.split(r'(?<=\\.)\\s*(?:\\d+\\.|\\d+\\)\\.)\\s*', def_part)\n",
    "#         for sub_part in sub_parts:\n",
    "#             if sub_part.strip():\n",
    "#                 result.append([word, current_pos.strip(), sub_part.strip()])\n",
    "#     return result if result else [[word, '', definition]]\n",
    "\n",
    "# ver 3\n",
    "\n",
    "# def split_definition(row):\n",
    "#     word = str(row[0]) if pd.notna(row[0]) else ''\n",
    "#     definition = str(row[1]) if pd.notna(row[1]) else ''\n",
    "    \n",
    "#     if not isinstance(definition, str):\n",
    "#         return [word, '', '', str(definition)]\n",
    "    \n",
    "#     def remove_thai_numbers(s):\n",
    "#         return re.sub(r'^[๑๒๓๔๕๖๗๘๙๐]+\\.\\s*', '', s)\n",
    "    \n",
    "#     pos_splits = re.split(r'(?:(?<=\\s)|^)(?=(น\\.|ก\\.|ว\\.|สัน\\.|สำ\\.|ลัก\\.))', definition)\n",
    "    \n",
    "#     alternative_forms = []\n",
    "#     pos_definitions = []\n",
    "    \n",
    "#     for i, part in enumerate(pos_splits):\n",
    "#         if part in ['น.', 'ก.', 'ว.', 'สัน.', 'สำ.', 'ลัก.']:\n",
    "#             current_pos = part\n",
    "#         else:\n",
    "#             number_splits = re.split(r'(?:(?<=\\s)|^)(?=[๑๒๓๔๕๖๗๘๙๐]+\\.)', part)\n",
    "            \n",
    "#             for sub_part in number_splits:\n",
    "#                 clean_part = remove_thai_numbers(sub_part.strip())\n",
    "#                 if clean_part:\n",
    "#                     if i == 0:\n",
    "#                         alternative_forms.append(clean_part)\n",
    "#                     else:\n",
    "#                         pos_definitions.append((current_pos.strip(), clean_part))\n",
    "    \n",
    "#     alt_forms_str = ', '.join(alternative_forms) if alternative_forms else ''\n",
    "    \n",
    "#     if pos_definitions:\n",
    "#         pos_str = pos_definitions[0][0]\n",
    "#         def_str = ', '.join([d[1] for d in pos_definitions])\n",
    "#         return [word, alt_forms_str, pos_str, def_str]\n",
    "#     else:\n",
    "#         return [word, alt_forms_str, '', '']"
   ]
  }
 ],
 "metadata": {
  "kernelspec": {
   "display_name": "Python 3 (ipykernel)",
   "language": "python",
   "name": "python3"
  },
  "language_info": {
   "codemirror_mode": {
    "name": "ipython",
    "version": 3
   },
   "file_extension": ".py",
   "mimetype": "text/x-python",
   "name": "python",
   "nbconvert_exporter": "python",
   "pygments_lexer": "ipython3",
   "version": "3.12.4"
  }
 },
 "nbformat": 4,
 "nbformat_minor": 5
}
