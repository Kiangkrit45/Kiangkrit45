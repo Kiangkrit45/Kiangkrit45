{
 "cells": [
  {
   "cell_type": "code",
   "execution_count": 5,
   "metadata": {},
   "outputs": [],
   "source": [
    "import pandas as pd\n",
    "import matplotlib.pyplot as plt\n",
    "import seaborn as sns\n",
    "\n",
    "df = pd.read_excel(r\"C:\\Users\\Kiang\\OneDrive\\Documents\\ledger.xlsx\")"
   ]
  },
  {
   "cell_type": "code",
   "execution_count": null,
   "metadata": {},
   "outputs": [],
   "source": [
    "columns_to_remove = [\"KB2KT\",\"KB2B\",\"KT2KB\",\"KT2B\",\"KT2W\",\"W2KT\",\"Overbudget\",\"Special\"]\n",
    "\n",
    "df = df[[col for col in df.columns if col not in columns_to_remove]]\n",
    "\n",
    "df.head()"
   ]
  },
  {
   "cell_type": "code",
   "execution_count": 7,
   "metadata": {},
   "outputs": [],
   "source": [
    "overview = df[[\"Date\", \"Available\", \"Saving\", \"Net Worth\", \"Investment\"]].set_index(\"Date\")\n",
    "\n",
    "monthly = overview.loc[[\"2022-10-01\", \"2022-11-01\", \"2022-12-01\", #2022\n",
    "                        \"2023-01-01\", \"2023-02-01\", \"2023-03-01\", #2023\n",
    "                        \"2023-04-01\", \"2023-05-01\", \"2023-06-01\",\n",
    "                        \"2023-07-01\", \"2023-08-01\", \"2023-09-01\",\n",
    "                        \"2023-10-01\", \"2023-11-01\", \"2023-12-01\",\n",
    "                        \"2024-01-01\", \"2024-02-01\", \"2024-03-01\", #2024\n",
    "                        \"2024-04-01\", \"2024-05-01\", \"2024-06-01\",\n",
    "                        \"2024-07-01\", \"2024-08-01\", \"2024-09-01\",\n",
    "                        \"2024-10-01\", \"2024-11-01\", \"2024-12-01\",\n",
    "                        \"2025-01-01\", \"2025-02-01\", \"2025-03-01\", #2025\n",
    "                        # \"2025-04-01\"\n",
    "                        ]]"
   ]
  },
  {
   "cell_type": "code",
   "execution_count": null,
   "metadata": {},
   "outputs": [],
   "source": [
    "plt.figure(figsize=(12, 6))\n",
    "sns.lineplot(data=monthly[[\"Available\",\"Saving\",\"Net Worth\",\"Investment\"]])\n",
    "plt.title(\"Net Worth Over Time\")\n",
    "plt.xlabel(\"Date\")\n",
    "plt.ylabel(\"Amount\")\n",
    "plt.xticks(rotation=45)\n",
    "plt.legend(title=\"Category\")\n",
    "plt.tight_layout()\n",
    "plt.show()"
   ]
  }
 ],
 "metadata": {
  "kernelspec": {
   "display_name": "base",
   "language": "python",
   "name": "python3"
  },
  "language_info": {
   "codemirror_mode": {
    "name": "ipython",
    "version": 3
   },
   "file_extension": ".py",
   "mimetype": "text/x-python",
   "name": "python",
   "nbconvert_exporter": "python",
   "pygments_lexer": "ipython3",
   "version": "3.11.7"
  }
 },
 "nbformat": 4,
 "nbformat_minor": 2
}
