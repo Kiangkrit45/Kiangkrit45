{
 "cells": [
  {
   "cell_type": "markdown",
   "metadata": {
    "id": "sBVJ_GIyVbL7"
   },
   "source": [
    "# https://aiforthai.in.th/"
   ]
  },
  {
   "cell_type": "code",
   "execution_count": 2,
   "metadata": {
    "id": "9deThaGA9EX8"
   },
   "outputs": [],
   "source": [
    "import requests"
   ]
  },
  {
   "cell_type": "code",
   "execution_count": 3,
   "metadata": {
    "id": "zbgQRADHMD4x"
   },
   "outputs": [],
   "source": [
    "Apikey='kHIllIH4ODKsOvvi7QJINN5FIzf6sFgR'"
   ]
  },
  {
   "cell_type": "markdown",
   "metadata": {
    "id": "ia-xcZwTLhAH"
   },
   "source": [
    "## 1. TLexPlus API\n",
    "- Host\n",
    "https://api.aiforthai.in.th/tlexplus\n",
    "- Method\tGET/POST\n",
    "- Header\n",
    "  - Apikey : apikey\n",
    "- Parameter\n",
    "  - text : ข้อความที่ต้องการวิเคราะห์"
   ]
  },
  {
   "cell_type": "markdown",
   "metadata": {
    "id": "xAHmZqf4a5h3"
   },
   "source": [
    "### GET"
   ]
  },
  {
   "cell_type": "code",
   "execution_count": null,
   "metadata": {
    "colab": {
     "base_uri": "https://localhost:8080/"
    },
    "id": "71Hgr9F-Kbjq",
    "outputId": "40e7c239-60d3-4b5e-d604-9a5d62ab224b"
   },
   "outputs": [],
   "source": [
    "%%time\n",
    "url ='https://api.aiforthai.in.th/tlexplus'\n",
    "headers = {'Apikey':Apikey}\n",
    "\n",
    "params = {'text':'ฉันนั่งรถไฟฟ้าไปสยามพารากอน'}\n",
    "\n",
    "res = requests.get(url, params=params, headers=headers)\n",
    "# print(res.status_code)\n",
    "# print(res.headers)\n",
    "print(res.json())"
   ]
  },
  {
   "cell_type": "markdown",
   "metadata": {
    "id": "bG1_K72wa7Lw"
   },
   "source": [
    "### POST"
   ]
  },
  {
   "cell_type": "code",
   "execution_count": null,
   "metadata": {
    "id": "wmVoacIMbQgS"
   },
   "outputs": [],
   "source": [
    "%%time\n",
    "url ='https://api.aiforthai.in.th/tlexplus'\n",
    "headers = {'Apikey':Apikey}\n",
    "\n",
    "data = {'text':'ฉันนั่งรถไฟฟ้าไปสยามพารากอน'}\n",
    "res = requests.post(url, data=data, headers=headers)\n",
    "print(res.status_code)\n",
    "print(res.headers)\n",
    "print(res.json())"
   ]
  },
  {
   "cell_type": "markdown",
   "metadata": {
    "id": "v1m8bI7mE-I7"
   },
   "source": [
    "## 2. LexToPlus API\n",
    "- Host\n",
    "https://api.aiforthai.in.th/lextoplus\n",
    "- Method\tGET/POST\n",
    "- Header\n",
    "  - Apikey : apikey\n",
    "  - Content-Type : application/x-www-form-urlencoded\n",
    "- Parameter\n",
    "  - text : ข้อความที่ต้องการตัดคำ\n",
    "  - norm : การลดรูปตัวอักษรที่พิมพ์ซ้ำ (normalize)\n",
    "         0 = ไม่ทำการ normalize (default)\n",
    "         1 = ทำ normalize"
   ]
  },
  {
   "cell_type": "markdown",
   "metadata": {
    "id": "9KbUip2wZg5P"
   },
   "source": [
    "### GET"
   ]
  },
  {
   "cell_type": "code",
   "execution_count": null,
   "metadata": {
    "colab": {
     "base_uri": "https://localhost:8080/"
    },
    "id": "He-0vMb6B4-i",
    "outputId": "f240c2e8-e67d-4e81-c30d-86a55095e485"
   },
   "outputs": [],
   "source": [
    "%%time\n",
    "url ='https://api.aiforthai.in.th/lextoplus'\n",
    "headers = {'Apikey':Apikey}\n",
    "text = 'ฉันนั่งรถไฟฟ้าไปสยามพารากอนนนนน'\n",
    "params = {'text':text,'norm':'1'}\n",
    "res = requests.get(url, params=params, headers=headers)\n",
    "# print(res.status_code)\n",
    "# print(res.headers)\n",
    "print(res.json())"
   ]
  },
  {
   "cell_type": "markdown",
   "metadata": {
    "id": "hj4wrbU7ZixI"
   },
   "source": [
    "### POST"
   ]
  },
  {
   "cell_type": "code",
   "execution_count": null,
   "metadata": {
    "colab": {
     "base_uri": "https://localhost:8080/"
    },
    "id": "YkEwzPIf9yG5",
    "outputId": "cd140af4-c332-404f-d65a-77e43191206e"
   },
   "outputs": [],
   "source": [
    "%%time\n",
    "url ='https://api.aiforthai.in.th/lextoplus'\n",
    "headers = {'Apikey':Apikey}\n",
    "text = 'ฉันนั่งรถไฟฟ้าไปสยามพารากอนนนนน'\n",
    "params = {'text':text,'norm':'1'}\n",
    "res = requests.post(url, data=params, headers=headers)\n",
    "# print(res.status_code)\n",
    "# print(res.headers)\n",
    "print(res.json())"
   ]
  },
  {
   "cell_type": "markdown",
   "metadata": {
    "id": "nfdQVltAA4vM"
   },
   "source": [
    "## 3. G2P API\n",
    "- URL\n",
    "https://api.aiforthai.in.th/vaja\n",
    "\n",
    "- Header\n",
    "  - Apikey : apikey\n",
    "\n",
    "- Parameters\n",
    "  - text : ข้อความที่ต้องการแปลง\n",
    "  - mode : ta"
   ]
  },
  {
   "cell_type": "markdown",
   "metadata": {
    "id": "smYGluD8ZX82"
   },
   "source": [
    "### GET"
   ]
  },
  {
   "cell_type": "code",
   "execution_count": null,
   "metadata": {
    "colab": {
     "base_uri": "https://localhost:8080/"
    },
    "id": "AEv9nczeEVFj",
    "outputId": "008693c0-bf13-4f57-c019-279b5c0e37b8"
   },
   "outputs": [],
   "source": [
    "%%time\n",
    "text = 'แปลงปาป่าป้าป๊าป๋า พ.ศ.2562'\n",
    "params = {'text':text,'mode':'ta'}\n",
    "url = 'https://api.aiforthai.in.th/vaja'\n",
    "headers = {'Apikey':Apikey}\n",
    "res = requests.get(url, params=params, headers=headers)\n",
    "# print(res.status_code)\n",
    "# print(res.headers)\n",
    "# print(res.json())\n",
    "print(res.json()['output']['result'])"
   ]
  },
  {
   "cell_type": "markdown",
   "metadata": {
    "id": "ppAl_1y2Zaiv"
   },
   "source": [
    "### POST"
   ]
  },
  {
   "cell_type": "code",
   "execution_count": null,
   "metadata": {
    "colab": {
     "base_uri": "https://localhost:8080/"
    },
    "id": "U21vFDhu_F1H",
    "outputId": "aded194a-d3eb-476a-dc6b-aebed26bc7d2"
   },
   "outputs": [],
   "source": [
    "%%time\n",
    "text = 'แปลงปาป่าป้าป๊าป๋า พ.ศ.2562'\n",
    "params = {'text':text,'mode':'ta'}\n",
    "url = 'https://api.aiforthai.in.th/vaja'\n",
    "headers = {'Apikey':Apikey}\n",
    "res = requests.post(url, data=params, headers=headers)\n",
    "# print(res.status_code)\n",
    "# print(res.headers)\n",
    "print(res.json())\n",
    "print(res.json()['output']['result'])"
   ]
  },
  {
   "cell_type": "markdown",
   "metadata": {
    "id": "iFtCooN3HVTd"
   },
   "source": [
    "## 4. Soundex API\n",
    "### Host\n",
    "https://api.aiforthai.in.th/soundex\n",
    "### Method\tGET/POST\n",
    "### Header\n",
    "- Apikey : apikey\n",
    "\n",
    "### Parameter\n",
    "- word : ข้อความที่ต้องการแปลง\n",
    "- model : ประเภทของโมเดล\n",
    "         personname = รายชื่อคนไทยยอดนิยม\n",
    "         royin = พจนานุกรมราชบัณฑิต"
   ]
  },
  {
   "cell_type": "markdown",
   "metadata": {
    "id": "kxc1r1UMadKe"
   },
   "source": [
    "### GET"
   ]
  },
  {
   "cell_type": "code",
   "execution_count": null,
   "metadata": {
    "colab": {
     "base_uri": "https://localhost:8080/"
    },
    "id": "v5ZnQeOrE9Wa",
    "outputId": "8bf7fa56-4ab8-4da0-d671-1265ba685260"
   },
   "outputs": [],
   "source": [
    "%%time\n",
    "url ='https://api.aiforthai.in.th/soundex'\n",
    "headers = {'Apikey': Apikey}\n",
    "\n",
    "params = {'word':'กันยารัด','model':'personname'}\n",
    "res = requests.get(url, params=params, headers=headers)\n",
    "# print(res.status_code)\n",
    "# print(res.headers)\n",
    "# print(res.json())\n",
    "for data in res.json()['words']:\n",
    "  print(data)"
   ]
  },
  {
   "cell_type": "markdown",
   "metadata": {
    "id": "VXtiNJ1Yaez_"
   },
   "source": [
    "### POST"
   ]
  },
  {
   "cell_type": "code",
   "execution_count": null,
   "metadata": {
    "colab": {
     "base_uri": "https://localhost:8080/"
    },
    "id": "URM0Q951agaA",
    "outputId": "0e66933a-0be8-4838-a7e1-7255ff33c756"
   },
   "outputs": [],
   "source": [
    "url ='https://api.aiforthai.in.th/soundex'\n",
    "headers = {'Apikey': Apikey}\n",
    "\n",
    "params = {'word':'กันยารัด','model':'personname'}\n",
    "res = requests.post(url, data=params, headers=headers)\n",
    "# print(res.status_code)\n",
    "# print(res.headers)\n",
    "# print(res.json())\n",
    "for data in res.json()['words']:\n",
    "  print(data)"
   ]
  },
  {
   "cell_type": "markdown",
   "metadata": {
    "id": "PkbxkevwNA1U"
   },
   "source": [
    "## 5. TLex++ API\n",
    "- Host\n",
    "https://api.aiforthai.in.th/tpos\n",
    "- Method\tGET/POST\n",
    "- Header\n",
    "  - Apikey : apikey\n",
    "- Parameter\n",
    "  - text : ข้อความที่ต้องการวิเคราะห์"
   ]
  },
  {
   "cell_type": "markdown",
   "metadata": {
    "id": "qVx98iMgb6V3"
   },
   "source": [
    "### GET"
   ]
  },
  {
   "cell_type": "code",
   "execution_count": null,
   "metadata": {
    "colab": {
     "base_uri": "https://localhost:8080/"
    },
    "id": "2eUuvMm2MTy1",
    "outputId": "0ee5a73a-a780-4a9b-9fd2-293e6e0596e3"
   },
   "outputs": [],
   "source": [
    "%%time\n",
    "url ='https://api.aiforthai.in.th/tpos'\n",
    "headers = {'Apikey':Apikey}\n",
    "\n",
    "params = {'text':'ฉัน นั่งรถไฟฟ้าไปสยามพารากอน'}\n",
    "res = requests.get(url, params=params, headers=headers)\n",
    "# print(res.status_code)\n",
    "# print(res.headers)\n",
    "# print(res.json())\n",
    "\n",
    "data = list(zip(res.json()['words'],res.json()['tags']))\n",
    "print(data)"
   ]
  },
  {
   "cell_type": "markdown",
   "metadata": {
    "id": "nBHXzQJNb8OB"
   },
   "source": [
    "### POST"
   ]
  },
  {
   "cell_type": "code",
   "execution_count": null,
   "metadata": {
    "colab": {
     "base_uri": "https://localhost:8080/"
    },
    "id": "MKhBfeBSb9M4",
    "outputId": "84e0a167-3e01-4acc-dc6d-51b86ee7346e"
   },
   "outputs": [],
   "source": [
    "%%time\n",
    "url ='https://api.aiforthai.in.th/tpos'\n",
    "headers = {'Apikey':Apikey}\n",
    "\n",
    "data = {'text':'ฉันนั่งรถไฟฟ้าไปสยามพารากอน'}\n",
    "res = requests.post(url, data=data, headers=headers)\n",
    "# print(res.status_code)\n",
    "# print(res.headers)\n",
    "# print(res.json())\n",
    "\n",
    "data = list(zip(res.json()['words'],res.json()['tags']))\n",
    "print(data)"
   ]
  },
  {
   "cell_type": "markdown",
   "metadata": {
    "id": "Rgy46Bo0OcF-"
   },
   "source": [
    "## 6. TNer API\n",
    "- Host\n",
    "  - https://api.aiforthai.in.th/tner\n",
    "- Method\tGET/POST\n",
    "- Header\n",
    "  - Apikey : apikey\n",
    "- Parameter\n",
    "  - text : ข้อความที่ต้องการวิเคราะห์"
   ]
  },
  {
   "cell_type": "markdown",
   "metadata": {
    "id": "mmvlPNk3cquZ"
   },
   "source": [
    "### GET"
   ]
  },
  {
   "cell_type": "code",
   "execution_count": null,
   "metadata": {
    "colab": {
     "base_uri": "https://localhost:8080/"
    },
    "id": "diIBnCXiNghS",
    "outputId": "81a391c4-4c5d-44dc-e7f6-4b70bed27510"
   },
   "outputs": [],
   "source": [
    "%%time\n",
    "import requests\n",
    "\n",
    "url = \"https://api.aiforthai.in.th/tner\"\n",
    "\n",
    "params = {'text':'เรานั่งรถจากสยามพารากอนไปศูนย์เนคเทค'}\n",
    "\n",
    "\n",
    "headers = {\n",
    "    'Apikey': Apikey,\n",
    "    }\n",
    "\n",
    "response = requests.request(\"GET\", url, headers=headers, params=params)\n",
    "\n",
    "# print(response.json())\n",
    "# print(response.status_code)\n",
    "# print(response.headers)\n",
    "# print(response.json())\n",
    "data = list(zip(response.json()['words'],response.json()['POS'],response.json()['tags']))\n",
    "print(data)"
   ]
  },
  {
   "cell_type": "markdown",
   "metadata": {
    "id": "fDI_eFcOcsTP"
   },
   "source": [
    "### POST"
   ]
  },
  {
   "cell_type": "code",
   "execution_count": null,
   "metadata": {
    "colab": {
     "base_uri": "https://localhost:8080/"
    },
    "id": "Dnf2Orw5cttg",
    "outputId": "b3dbd07a-9ed8-47ea-de1b-b1f66ced79b7"
   },
   "outputs": [],
   "source": [
    "%%time\n",
    "import requests\n",
    "\n",
    "url = \"https://api.aiforthai.in.th/tner\"\n",
    "\n",
    "data = {'text':'เรานั่งรถจากสยามพารากอนไปศูนย์เนคเทค'}\n",
    "\n",
    "headers = {\n",
    "    'Apikey': Apikey,\n",
    "    }\n",
    "\n",
    "response = requests.post(url, data=data, headers=headers)\n",
    "\n",
    "# print(response.json())\n",
    "# print(response.status_code)\n",
    "# print(response.headers)\n",
    "# print(response.json())\n",
    "data = list(zip(response.json()['words'],response.json()['POS'],response.json()['tags']))\n",
    "print(data)"
   ]
  },
  {
   "cell_type": "markdown",
   "metadata": {
    "id": "-MCtFFG4POYG"
   },
   "source": [
    "## 7. WordApprox API\n",
    "- Host\n",
    "  - https://api.aiforthai.in.th/wordapprox\n",
    "- Method\tGET/POST\n",
    "- Header\n",
    "  - Apikey : apikey\n",
    "- Parameter\n",
    "  - word : คำที่ต้องการหาคำใกล้เคียง\n",
    "  - model : ประเภทของโมเดล\n",
    "         personname = รายชื่อคนไทยยอดนิยม\n",
    "         royin = พจนานุกรมราชบัณฑิต"
   ]
  },
  {
   "cell_type": "markdown",
   "metadata": {
    "id": "PtjuAWj_dx90"
   },
   "source": [
    "### GET"
   ]
  },
  {
   "cell_type": "code",
   "execution_count": null,
   "metadata": {
    "id": "osPS7RBzPGz5"
   },
   "outputs": [],
   "source": [
    "url = \"https://api.aiforthai.in.th/wordapprox\"\n",
    "\n",
    "data = {'word':'กันยารัด','model':'personname'}\n",
    "\n",
    "headers = {\n",
    "    'Apikey': Apikey,\n",
    "    }\n",
    "res = requests.request(\"GET\", url, headers=headers, params=params)\n",
    "\n",
    "# print(res.status_code)\n",
    "# print(res.headers)\n",
    "# print(res.json())\n",
    "for data in res.json()['words']:\n",
    "  print(data)"
   ]
  },
  {
   "cell_type": "markdown",
   "metadata": {
    "id": "HCrcWUABd0Bw"
   },
   "source": [
    "### POST"
   ]
  },
  {
   "cell_type": "code",
   "execution_count": null,
   "metadata": {
    "colab": {
     "base_uri": "https://localhost:8080/"
    },
    "id": "38jNxAzEd2PA",
    "outputId": "f8cbbb37-e2d5-4534-89a0-987aa0fc11cd"
   },
   "outputs": [],
   "source": [
    "url = \"https://api.aiforthai.in.th/wordapprox\"\n",
    "\n",
    "data = {'word':'กันยารัด','model':'personname'}\n",
    "\n",
    "headers = {\n",
    "    'Apikey':Apikey,\n",
    "    }\n",
    "res = requests.post(url, data=data, headers=headers)\n",
    "\n",
    "# print(res.status_code)\n",
    "# print(res.headers)\n",
    "# print(res.json())\n",
    "for data in res.json()['words']:\n",
    "  print(data)"
   ]
  },
  {
   "cell_type": "markdown",
   "metadata": {
    "id": "k9EpacwdQCYY"
   },
   "source": [
    "## 8. Word Similarity\n",
    "- Host\n",
    "  - https://api.aiforthai.in.th/thaiwordsim\n",
    "- Method\tGET/POST\n",
    "- Header\n",
    "  - Apikey : apikey\n",
    "- Parameter\n",
    "  - word : คำที่ต้องการค้นหา\n",
    "  - numword : จำนวนคำที่ต้องการแสดงผลลัพธ์\n",
    "  - model : ประเภทของโมเดล\n",
    "         thwiki = ข้อมูลวิกิพีเดียภาษาไทย\n",
    "         twitter = ข้อมูลทวิตเตอร์ภาษาไทย"
   ]
  },
  {
   "cell_type": "markdown",
   "metadata": {
    "id": "eFpEl2c4e-bB"
   },
   "source": [
    "### GET"
   ]
  },
  {
   "cell_type": "code",
   "execution_count": null,
   "metadata": {
    "colab": {
     "base_uri": "https://localhost:8080/"
    },
    "id": "jt4-HcjCPuq8",
    "outputId": "a62a9155-6db7-442e-af53-b6e185a31822"
   },
   "outputs": [],
   "source": [
    "url ='https://api.aiforthai.in.th/thaiwordsim'\n",
    "headers = {'Apikey': Apikey}\n",
    "params = {'word':'น่ารัก','model':'thwiki','numword':'12'}\n",
    "res = requests.get(url, params=params, headers=headers)\n",
    "# print(res.status_code)\n",
    "# print(res.headers)\n",
    "# print(res.json())\n",
    "for data in res.json()['words']:\n",
    "  print(data)"
   ]
  },
  {
   "cell_type": "markdown",
   "metadata": {
    "id": "0j0esYP1e__R"
   },
   "source": [
    "### POST"
   ]
  },
  {
   "cell_type": "code",
   "execution_count": null,
   "metadata": {
    "colab": {
     "base_uri": "https://localhost:8080/"
    },
    "id": "K8S_ESS6RKH_",
    "outputId": "68d54ae8-5794-40be-a20a-d116f951f550"
   },
   "outputs": [],
   "source": [
    "url = \"https://api.aiforthai.in.th/thaiwordsim\"\n",
    "data = {'word':'สวย','model':'twitter','numword':'12'}\n",
    "headers = {'Apikey': Apikey}\n",
    "res = requests.post( url, data=data, headers=headers)\n",
    "# print(res.status_code)\n",
    "# print(res.headers)\n",
    "# print(res.json())\n",
    "for data in res.json()['words']:\n",
    "  print(data)"
   ]
  },
  {
   "cell_type": "markdown",
   "metadata": {
    "id": "mlCqpzSEBooh"
   },
   "source": [
    "## 9. Text Summarization\n",
    "- Host\n",
    "  - https://api.aiforthai.in.th/textsummarize\n",
    "- Method\tPOST\n",
    "- Header\n",
    "  - Apikey : apikey\n",
    "- Parameter\n",
    "  - id : 100\n",
    "  - src : ข้อความที่ต้องการสรุปความ (ขนาด 400-1,000 คำ)\n",
    "  - comp_rate : เปอร์เซ็นต์การสรุปความ (สามารถระบุค่าได้ระหว่าง 20-40)\n",
    "       "
   ]
  },
  {
   "cell_type": "markdown",
   "metadata": {
    "id": "RVnTAmdWCy7a"
   },
   "source": [
    "### POST"
   ]
  },
  {
   "cell_type": "code",
   "execution_count": null,
   "metadata": {
    "colab": {
     "base_uri": "https://localhost:8080/"
    },
    "id": "vi6ZXOBoCrWb",
    "outputId": "652dabcf-6f71-4890-f638-d611ea7f5669"
   },
   "outputs": [],
   "source": [
    "## Code here\n",
    "import requests,json\n",
    "\n",
    "url ='https://api.aiforthai.in.th/textsummarize'\n",
    "\n",
    "headers = {'Apikey':Apikey, 'Content-Type':'application/json'}\n",
    "\n",
    "\n",
    "params = json.dumps([{\"id\":100,\"comp_rate\":30,\"src\":\"ข้าว เป็นเมล็ดของพืชหญ้า Oryza sativa (ชื่อสามัญ: ข้าวเอเชีย) ที่พบมากในทวีปเอเชีย ข้าวเป็นธัญพืชซึ่งประชากรโลกบริโภคเป็นอาหารสำคัญ โดยเฉพาะอย่างยิ่งในทวีปเอเชีย จากข้อมูลเมื่อปี 2553 ข้าวเป็นธัญพืชซึ่งมีการปลูกมากที่สุดเป็นอันดับสามทั่วโลก รองจากข้าวสาลีและข้าวโพด ข้าวเป็นธัญพืชสำคัญที่สุดในด้านโภชนาการและการได้รับแคลอรีของมนุษย์ เพราะข้าวโพดส่วนใหญ่ปลูกเพื่อจุดประสงค์อื่น มิใช่ให้มนุษย์บริโภค ทั้งนี้ ข้าวคิดเป็นพลังงานกว่าหนึ่งในห้าที่มนุษย์ทั่วโลกบริโภค หลักฐานพันธุศาสตร์แสดงว่าข้าวมาจากการนำมาปลูกเมื่อราว 8,200–13,500 ปีก่อน ในภูมิภาคหุบแม่น้ำจูเจียงของจีน ก่อนหน้านี้ หลักฐานโบราณคดีเสนอว่า ข้าวมีการนำมาปลูกในเขตหุบแม่น้ำแยงซีในจีน ข้าวแพร่กระจายจากเอเชียตะวันออกไปยังเอเชียตะวันออกเฉียงใต้และเอเชียใต้ ข้าวถูกนำมายังทวีปยุโรปผ่านเอเชียตะวันตก และทวีปอเมริกาผ่านการยึดอาณานิคมของยุโรป[3] ปกติการปลูกข้าวเป็นแบบปีต่อปี ทว่าในเขตร้อน ข้าวสามารถมีชีวิตอยู่ได้หลายปีและสามารถไว้ตอ (ratoon) ได้นานถึง 30 ปี ต้นข้าวสามารถโตได้ถึง 1–1.8 เมตร ขึ้นอยู่กับพันธุ์และความอุดมสมบูรณ์ของดินเป็นหลัก มีใบเรียว ยาว 50-100 เซนติเมตร และกว้าง 2-2.5 เซนติเมตร ช่อดอกห้อยยาว 30-50 เซนติเมตร เมล็ดกินได้เป็นผลธัญพืชยาว 5-12 มิลลิเมตร และหนา 2-3 มิลลิเมตร การเตรียมดินสำหรับเพาะปลูกข้าวเหมาะกับประเทศและภูมิภาคที่ค่าแรงต่ำและฝนตกมาก เนื่องจากมันใช้แรงงานมากที่จะเตรียมดินและต้องการน้ำเพียงพอ อย่างไรก็ตาม ข้าวสามารถโตได้เกือบทุกที่ แม้บนเนินชันหรือเขตภูเขาที่ใช้ระบบควบคุมน้ำแบบขั้นบันได แม้ว่าสปีชีส์บุพการีของมันเป็นสิ่งพื้นเมืองของเอเชียและส่วนที่แน่นอนของแอฟริกา ร้อยปีของการค้าขายและการส่งออกทำให้มันสามัญในหลายวัฒนธรรมทั่วโลก วิธีแบบดั้งเดิมสำหรับเตรียมดินสำหรับข้าวคือทำให้น้ำท่วมแปลงชั่วขณะหนึ่งหรือหลังจากการตั้งของต้นกล้าอายุน้อย วิธีเรียบง่ายนี้ต้องการการวางแผนที่แข็งแรงและการให้บริการของเขื่อนและร่องน้ำ แต่ลดพัฒนาการของเมล็ดที่ไม่ค่อยแข็งแรงและวัชพืชที่ไม่มีภาวะเติบโตขณะจมน้ำ และยับยั้งศัตรูพืช ขณะที่การทำให้น้ำท่วมไม่จำเป็นสำหรับการเตรียมดินสำหรับเพาะปลูกข้าว วิธีทั้งหมดในการชลประทานต้องการความพยายามสูงกว่าในการควบคุมวัชพืชและศัตรูพืชระหว่างช่วงเวลาการเจริญเติบโตและวิธีที่แตกต่างสำหรับใส่ปุ๋ยลงดิน\"}])\n",
    "\n",
    "response = requests.post(url, data=params, headers=headers)\n",
    "txt = response.text\n",
    "\n",
    "decode_text = bytes(txt, \"utf-8\").decode(\"unicode_escape\")\n",
    "print(decode_text)"
   ]
  },
  {
   "cell_type": "markdown",
   "metadata": {
    "id": "q8rJb6pcDD13"
   },
   "source": [
    "## Text Cleansing\n",
    "- Host\n",
    "  - https://api.aiforthai.in.th/textcleansing\n",
    "- Method\tGET/POST\n",
    "- Header\n",
    "  - Apikey : apikey\n",
    "- Parameter\n",
    "  - text : ข้อความที่ต้องการแก้ไข\n"
   ]
  },
  {
   "cell_type": "markdown",
   "metadata": {
    "id": "r905xtZ-Dlls"
   },
   "source": [
    "### GET"
   ]
  },
  {
   "cell_type": "code",
   "execution_count": null,
   "metadata": {
    "colab": {
     "base_uri": "https://localhost:8080/"
    },
    "id": "gH6sz_xyDo3a",
    "outputId": "fe29672f-5ad0-490c-a6e8-9932a096c169"
   },
   "outputs": [],
   "source": [
    "## code here\n",
    "import requests\n",
    "\n",
    "url = \"https://api.aiforthai.in.th/textcleansing\"\n",
    "\n",
    "params = {'text':'พุ่่มพวง'}\n",
    "\n",
    "\n",
    "headers = {\n",
    "    'Apikey': \"kHIllIH4ODKsOvvi7QJINN5FIzf6sFgR\",\n",
    "    }\n",
    "\n",
    "response = requests.request(\"GET\", url, headers=headers, params=params)\n",
    "\n",
    "print(response.json())"
   ]
  },
  {
   "cell_type": "markdown",
   "metadata": {
    "id": "tgEfbqdIDcrq"
   },
   "source": [
    "### POST"
   ]
  },
  {
   "cell_type": "code",
   "execution_count": null,
   "metadata": {
    "colab": {
     "base_uri": "https://localhost:8080/"
    },
    "id": "pOBFzYVjDuzy",
    "outputId": "2edd0221-cae7-4b72-8cd6-3a92bfd8b879"
   },
   "outputs": [],
   "source": [
    "## Code here\n",
    "import requests\n",
    "\n",
    "url = \"https://api.aiforthai.in.th/textcleansing\"\n",
    "\n",
    "data = {'text':'ฟุุ่่มเฟืือยเเละน้ำ'}\n",
    "\n",
    "headers = {\n",
    "    'Apikey': \"kHIllIH4ODKsOvvi7QJINN5FIzf6sFgR\",\n",
    "    }\n",
    "\n",
    "response = requests.post(url, data=data, headers=headers)\n",
    "\n",
    "print(response.json())"
   ]
  },
  {
   "cell_type": "markdown",
   "metadata": {
    "id": "ecdN7Re_KE0s"
   },
   "source": [
    "# Exercises"
   ]
  },
  {
   "cell_type": "code",
   "execution_count": null,
   "metadata": {
    "colab": {
     "base_uri": "https://localhost:8080/"
    },
    "id": "BczU2wZTudrL",
    "outputId": "0803ad99-a316-4853-d5ea-561468a6286c"
   },
   "outputs": [],
   "source": [
    "## Code here\n",
    "import requests, urllib\n",
    "\n",
    "url ='https://api.aiforthai.in.th/longan/tokenize'\n",
    "txt = \"ข้าวเป็นเมล็ดของพืชหญ้าที่พบมากในทวีปเอเชีย ข้าวเป็นธัญพืชซึ่งประชากรโลกบริโภคเป็นอาหารสำคัญ โดยเฉพาะอย่างยิ่งในทวีปเอเชีย จากข้อมูลเมื่อปี 2553 ข้าวเป็นธัญพืชซึ่งมีการปลูกมากที่สุดเป็นอันดับสามทั่วโลก รองจากข้าวสาลีและข้าวโพด ข้าวเป็นธัญพืชสำคัญที่สุดในด้านโภชนาการและการได้รับแคลอรีของมนุษย์ เพราะข้าวโพดส่วนใหญ่ปลูกเพื่อจุดประสงค์อื่น มิใช่ให้มนุษย์บริโภค ทั้งนี้ ข้าวคิดเป็นพลังงานกว่าหนึ่งในห้าที่มนุษย์ทั่วโลกบริโภค หลักฐานพันธุศาสตร์แสดงว่าข้าวมาจากการนำมาปลูกเมื่อราว 8,200–13,500 ปีก่อน ในภูมิภาคหุบแม่น้ำจูเจียงของจีน ก่อนหน้านี้ หลักฐานโบราณคดีเสนอว่า ข้าวมีการนำมาปลูกในเขตหุบแม่น้ำแยงซีในจีน ข้าวแพร่กระจายจากเอเชียตะวันออกไปยังเอเชียตะวันออกเฉียงใต้และเอเชียใต้ ข้าวถูกนำมายังทวีปยุโรปผ่านเอเชียตะวันตก และทวีปอเมริกาผ่านการยึดอาณานิคมของยุโรป[3] ปกติการปลูกข้าวเป็นแบบปีต่อปี ทว่าในเขตร้อน ข้าวสามารถมีชีวิตอยู่ได้หลายปีและสามารถไว้ตอ (ratoon) ได้นานถึง 30 ปี ต้นข้าวสามารถโตได้ถึง 1–1.8 เมตร ขึ้นอยู่กับพันธุ์และความอุดมสมบูรณ์ของดินเป็นหลัก มีใบเรียว ยาว 50-100 เซนติเมตร และกว้าง 2-2.5 เซนติเมตร ช่อดอกห้อยยาว 30-50 เซนติเมตร เมล็ดกินได้เป็นผลธัญพืชยาว 5-12 มิลลิเมตร และหนา 2-3 มิลลิเมตร การเตรียมดินสำหรับเพาะปลูกข้าวเหมาะกับประเทศและภูมิภาคที่ค่าแรงต่ำและฝนตกมาก เนื่องจากมันใช้แรงงานมากที่จะเตรียมดินและต้องการน้ำเพียงพอ อย่างไรก็ตาม ข้าวสามารถโตได้เกือบทุกที่ แม้บนเนินชันหรือเขตภูเขาที่ใช้ระบบควบคุมน้ำแบบขั้นบันได แม้ว่าสปีชีส์บุพการีของมันเป็นสิ่งพื้นเมืองของเอเชียและส่วนที่แน่นอนของแอฟริกา ร้อยปีของการค้าขายและการส่งออกทำให้มันสามัญในหลายวัฒนธรรมทั่วโลก วิธีแบบดั้งเดิมสำหรับเตรียมดินสำหรับข้าวคือทำให้น้ำท่วมแปลงชั่วขณะหนึ่งหรือหลังจากการตั้งของต้นกล้าอายุน้อย วิธีเรียบง่ายนี้ต้องการการวางแผนที่แข็งแรงและการให้บริการของเขื่อนและร่องน้ำ แต่ลดพัฒนาการของเมล็ดที่ไม่ค่อยแข็งแรงและวัชพืชที่ไม่มีภาวะเติบโตขณะจมน้ำ และยับยั้งศัตรูพืช ขณะที่การทำให้น้ำท่วมไม่จำเป็นสำหรับการเตรียมดินสำหรับเพาะปลูกข้าว วิธีทั้งหมดในการชลประทานต้องการความพยายามสูงกว่าในการควบคุมวัชพืชและศัตรูพืชระหว่างช่วงเวลาการเจริญเติบโตและวิธีที่แตกต่างสำหรับใส่ปุ๋ยลงดิน\"\n",
    "\n",
    "encoded_txt = urllib.parse.quote(txt)\n",
    "payload = 'text='+encoded_txt+'&sep=|&wordseg=true&sentseg=true'\n",
    "\n",
    "headers = {'Apikey':Apikey, 'Content-Type':'application/x-www-form-urlencoded'}\n",
    "\n",
    "response = requests.request(\"POST\", url, headers=headers, data=payload)\n",
    "\n",
    "# output = response.text\n",
    "\n",
    "# print(output)\n",
    "\n",
    "print(response.text)"
   ]
  },
  {
   "cell_type": "code",
   "execution_count": null,
   "metadata": {
    "colab": {
     "base_uri": "https://localhost:8080/"
    },
    "id": "sNK_r4Jr3di4",
    "outputId": "c0fe94ed-35dd-4881-b4ae-610e04598da9"
   },
   "outputs": [],
   "source": [
    "import requests\n",
    "\n",
    "url =\"https://api.aiforthai.in.th/emonews/prediction\"\n",
    "headers = {\"apikey\":\"kHIllIH4ODKsOvvi7QJINN5FIzf6sFgR\"}\n",
    "params = {\"text\":\"ก่อนเสือคนมองว่าเกมนี้ อาร์เซนอลมีโอกาสสูงที่จะล้างตาเสือใต้ได้สำเร็จ เนื่องจากฟอร์มการเล่นที่ดูดีกว่าเพราะปืนใหญ่สามารถยกระดับตัวเองขึ้นมาจนเป็นทีมลุ้นแชมป์แถมปีนี้\"}\n",
    "\n",
    "response = requests.get(url, params=params, headers=headers)\n",
    "print(response.json()['result'])"
   ]
  },
  {
   "cell_type": "code",
   "execution_count": null,
   "metadata": {
    "colab": {
     "base_uri": "https://localhost:8080/"
    },
    "id": "o-faBWl826_w",
    "outputId": "6a722cf0-1cb0-4c37-d8c8-ea64ab1f8f02"
   },
   "outputs": [],
   "source": [
    "import requests, json\n",
    "\n",
    "url1 ='https://api.aiforthai.in.th/textsummarize'\n",
    "url2 =\"https://api.aiforthai.in.th/emonews/prediction\"\n",
    "\n",
    "Apikey = 'kHIllIH4ODKsOvvi7QJINN5FIzf6sFgR'\n",
    "\n",
    "file1 = open(\"news1.txt\", 'r', encoding=\"utf-8\")\n",
    "content = \"\"\n",
    "lines = file1.readlines()\n",
    "for line in lines:\n",
    "  content += line\n",
    "\n",
    "headers1 = {'Apikey': Apikey, 'Content-Type':'application/json'}\n",
    "params1 = json.dumps([{\"id\":100,\"comp_rate\":30,\"src\": content}])\n",
    "\n",
    "response1 = requests.post(url1, data=params1, headers=headers1)\n",
    "\n",
    "txt1 = response1.text\n",
    "decode_text = bytes(txt1, \"utf-8\").decode(\"unicode_escape\")\n",
    "\n",
    "headers2 = {'Apikey': Apikey}\n",
    "params2 = {\"text\": decode_text}\n",
    "\n",
    "response2 = requests.get(url2, params=params2, headers=headers2)\n",
    "\n",
    "print(decode_text)\n",
    "print(response2.json()['result'])"
   ]
  },
  {
   "cell_type": "code",
   "execution_count": 1,
   "metadata": {
    "colab": {
     "base_uri": "https://localhost:8080/"
    },
    "id": "CSrsvzZX0_o2",
    "outputId": "df42c456-1cdf-473a-e17d-2f6ebef24556"
   },
   "outputs": [
    {
     "name": "stderr",
     "output_type": "stream",
     "text": [
      "'wget' is not recognized as an internal or external command,\n",
      "operable program or batch file.\n"
     ]
    }
   ],
   "source": [
    "!wget https://aiforthai.in.th/files/news1.txt"
   ]
  },
  {
   "cell_type": "code",
   "execution_count": null,
   "metadata": {
    "colab": {
     "base_uri": "https://localhost:8080/"
    },
    "id": "I2NYuekgK7w_",
    "outputId": "3507b260-b2b7-46a4-862f-e9a8efd9f4ea"
   },
   "outputs": [],
   "source": [
    "import requests, json\n",
    "\n",
    "url1 = 'https://api.aiforthai.in.th/textsummarize'\n",
    "url2 = 'https://api.aiforthai.in.th/ssense'\n",
    "\n",
    "Apikey = 'kHIllIH4ODKsOvvi7QJINN5FIzf6sFgR'\n",
    "\n",
    "file1 = open(\"news1.txt\", 'r', encoding=\"utf-8\")\n",
    "content = \"\"\n",
    "lines = file1.readlines()\n",
    "for line in lines:\n",
    "  content += line\n",
    "\n",
    "headers1 = {'Apikey': Apikey, 'Content-Type':'application/json'}\n",
    "params1 = json.dumps([{\"id\":100,\"comp_rate\":30,\"src\": content}])\n",
    "\n",
    "response1 = requests.post(url1, data=params1, headers=headers1)\n",
    "\n",
    "txt1 = response1.text\n",
    "decode_text = bytes(txt1, \"utf-8\").decode(\"unicode_escape\")\n",
    "\n",
    "headers2 = {'Apikey': Apikey}\n",
    "params2 = {\"text\": decode_text}\n",
    "\n",
    "response2 = requests.get(url2, headers=headers2, params=params2)\n",
    "\n",
    "print(response2.json())\n",
    "print(response2.json()['sentiment'])\n",
    "print(response2.json()['intention'])"
   ]
  }
 ],
 "metadata": {
  "colab": {
   "collapsed_sections": [
    "ia-xcZwTLhAH",
    "bG1_K72wa7Lw",
    "v1m8bI7mE-I7",
    "hj4wrbU7ZixI",
    "nfdQVltAA4vM",
    "ppAl_1y2Zaiv",
    "iFtCooN3HVTd",
    "VXtiNJ1Yaez_",
    "mmvlPNk3cquZ",
    "fDI_eFcOcsTP",
    "-MCtFFG4POYG",
    "k9EpacwdQCYY",
    "0j0esYP1e__R",
    "RVnTAmdWCy7a",
    "r905xtZ-Dlls",
    "tgEfbqdIDcrq"
   ],
   "provenance": [],
   "toc_visible": true
  },
  "kernelspec": {
   "display_name": "base",
   "language": "python",
   "name": "python3"
  },
  "language_info": {
   "codemirror_mode": {
    "name": "ipython",
    "version": 3
   },
   "file_extension": ".py",
   "mimetype": "text/x-python",
   "name": "python",
   "nbconvert_exporter": "python",
   "pygments_lexer": "ipython3",
   "version": "3.11.7"
  }
 },
 "nbformat": 4,
 "nbformat_minor": 4
}
