{
 "cells": [
  {
   "cell_type": "markdown",
   "id": "09168a48",
   "metadata": {},
   "source": [
    "# Setting Environment"
   ]
  },
  {
   "cell_type": "code",
   "execution_count": null,
   "id": "7a68416b",
   "metadata": {},
   "outputs": [],
   "source": [
    "# downloading packages\n",
    "\n",
    "# !pip3 install numpy\n",
    "# !pip3 install pandas\n",
    "# !pip3 install csv\n",
    "# !pip3 install openpyxl"
   ]
  },
  {
   "cell_type": "markdown",
   "id": "7ef87309",
   "metadata": {},
   "source": [
    "# Main Program"
   ]
  },
  {
   "cell_type": "markdown",
   "id": "7e9b57fe",
   "metadata": {},
   "source": [
    "## Load the Data"
   ]
  },
  {
   "cell_type": "code",
   "execution_count": 1,
   "id": "e5b8b3f7",
   "metadata": {},
   "outputs": [],
   "source": [
    "# loading the data\n",
    "\n",
    "import pandas as pd\n",
    "import numpy as np\n",
    "import os\n",
    "import re\n",
    "\n",
    "# north_path = r\"datasets\\new_พจนานุกรมภาษาถิ่นเหนือ.xlsx\"\n",
    "# south_path = r\"datasets\\newest_พจนานุกรมภาษาถิ่นใต้.xlsx\"\n",
    "# isan_path = r\"datasets\\newest_พจนานุกรมภาษาถิ่นอีสาน.xlsx\"\n",
    "# orst_path = r\"datasets\\ราชบัณฑิตฯ\"\n",
    "\n",
    "new_orst_path = r\"datasets\\newest_พจนานุกรมภาษาถิ่นกลาง.xlsx\"\n",
    "\n",
    "def load_sheets(file_path, exclude_sheets):\n",
    "    all_sheets = pd.ExcelFile(file_path).sheet_names\n",
    "    importing_sheets = [sheet for sheet in all_sheets if sheet not in exclude_sheets]\n",
    "    return pd.read_excel(file_path, sheet_name=importing_sheets, header=None)\n",
    "\n",
    "# north_df = pd.read_excel(north_path, sheet_name=None, header=None)\n",
    "# south_df = pd.read_excel(south_path, sheet_name=None, header=None)\n",
    "# isan_df = pd.read_excel(isan_path, sheet_name=None, header=None)\n",
    "orst_df = pd.read_excel(new_orst_path, sheet_name=None)\n",
    "\n",
    "def load_excel(directory):\n",
    "    excel_files = {}\n",
    "    for filename in os.listdir(directory):\n",
    "        name = os.path.splitext(filename)[0]\n",
    "        excel_files[name] = pd.read_excel(os.path.join(directory, filename), header=None)\n",
    "    return excel_files\n",
    "\n",
    "# orst_df = load_excel(orst_path)"
   ]
  },
  {
   "cell_type": "markdown",
   "id": "38649c71",
   "metadata": {},
   "source": [
    "## Inspect the Data"
   ]
  },
  {
   "cell_type": "code",
   "execution_count": 2,
   "id": "6db0730a",
   "metadata": {},
   "outputs": [],
   "source": [
    "# run to copy\n",
    "\n",
    "# north = north_df.copy()\n",
    "# south = south_df.copy()\n",
    "# isan = isan_df.copy()\n",
    "orst = orst_df.copy()"
   ]
  },
  {
   "cell_type": "code",
   "execution_count": null,
   "id": "9b7b0ace",
   "metadata": {},
   "outputs": [],
   "source": [
    "# inspect the data\n",
    "def inspect(num=10, *dfs):\n",
    "  for df in dfs:\n",
    "    for key in df.keys():\n",
    "      print(f\"{key}\\n{df[key].head(num)}\\n\")\n",
    "\n",
    "inspect(10, orst)\n",
    "# inspect(10, north, south, isan, orst)"
   ]
  },
  {
   "cell_type": "code",
   "execution_count": null,
   "id": "a7d371e4",
   "metadata": {},
   "outputs": [],
   "source": [
    "# basic import\n",
    "\n",
    "import pandas as pd\n",
    "import numpy as np\n",
    "import re\n",
    "\n",
    "# df = pd.read_excel(r\"\", header=None)"
   ]
  },
  {
   "cell_type": "markdown",
   "id": "ee626f67",
   "metadata": {},
   "source": [
    "## Cleaning"
   ]
  },
  {
   "cell_type": "code",
   "execution_count": null,
   "id": "5a8e3e38",
   "metadata": {},
   "outputs": [],
   "source": [
    "# cleaning\n",
    "\n",
    "# make dataframe two columns\n",
    "def cleaning(*dfs):\n",
    "    for df in dfs:\n",
    "        removed = [\n",
    "            'ช่อง 1', 'ลูกคำ/ ความหมาย', 'แม่คำ', 'ความหมายลูกคำ คำสื่อ',\n",
    "            'headword', '2', '3']\n",
    "\n",
    "        for key in df.keys():\n",
    "            if df == orst:\n",
    "                df[key] = df[key].iloc[:, :-1]\n",
    "                df[key].iloc[:, 0] = df[key].apply(lambda row: row.iloc[1] if pd.isnull(row.iloc[0]) else row.iloc[0], axis=1)\n",
    "                df[key] = df[key].drop(columns=[df[key].columns[1]])\n",
    "                df[key] = df[key].reset_index(drop=True)\n",
    "                df[key].columns = ['word', 'meaning']\n",
    "                df[key] = df[key].iloc[1:]\n",
    "            \n",
    "            else:\n",
    "                df[key] = df[key][~df[key].apply(lambda row: any(string in str(val) for string in removed for val in row), axis=1)]\n",
    "                df[key] = df[key].dropna(how='all')\n",
    "                df[key] = df[key].drop(df[key].columns[2:], axis=1)\n",
    "                df[key] = df[key].fillna(\"\")\n",
    "                df[key].columns = ['word', 'meaning']\n",
    "\n",
    "cleaning(orst)\n",
    "# cleaning(north, south, isan, orst)"
   ]
  },
  {
   "cell_type": "code",
   "execution_count": null,
   "id": "fb211cb2",
   "metadata": {},
   "outputs": [],
   "source": [
    "# basic cleaning\n",
    "\n",
    "def basic_cleaning(df):\n",
    "    df = df.dropna(how='all')\n",
    "    df = df.drop(df.columns[2:], axis=1)\n",
    "    df = df.fillna(\"\")\n",
    "    df.columns = ['word', 'meaning']\n",
    "    df = df.replace(\"\", np.nan).ffill()\n",
    "    return df\n",
    "\n",
    "# basic_cleaning(df)"
   ]
  },
  {
   "cell_type": "markdown",
   "id": "80f01a29",
   "metadata": {},
   "source": [
    "## Checking"
   ]
  },
  {
   "cell_type": "code",
   "execution_count": null,
   "id": "f9588354",
   "metadata": {},
   "outputs": [],
   "source": [
    "# checking\n",
    "comma_value = []\n",
    "missing_value = []\n",
    "POS_value = []\n",
    "\n",
    "def checking(df):\n",
    "    regex = r',(?!(?:[^(]*\\)))'\n",
    "    POS = r\"^(น\\.|\\*น\\.|นิ\\.|ก\\.|\\*ก\\.|ว\\.|\\*ว\\.|สัน\\.|ส\\.|บุรพ\\.|บุ\\.|\\*ส\\.|สำ\\.|\\*สำ\\.|ล\\.|สำนวน\\.|สำนวน\\.\\*|คำลงท้าย\\.|คำยกย่อง\\.|อาลปนะ\\.|ลัก\\.|สรรพ\\.|อ\\.|อุทาน\\.|\\*อ\\.|อุ\\.|ความเปรียบ\\.|คำถาม\\.|บุพ\\.|บ\\.|\\?)(.*)$\"\n",
    "\n",
    "    # checking comma in the first column\n",
    "    for key in df.keys():\n",
    "        for value in df[key]['word']:\n",
    "            if re.search(regex, value):\n",
    "                comma_value.append(value)\n",
    "        \n",
    "        for value in df[key]['meaning']:\n",
    "            matches = re.findall(POS, value)\n",
    "            if len(matches) > 1:\n",
    "                POS_value.append(value)\n",
    "            elif len(matches) < 1 and value != \"\" and value.isspace() == False:\n",
    "                missing_value.append(value)\n",
    "                print(value)\n",
    "\n",
    "    print(comma_value if len(comma_value) > 0 else None)\n",
    "    print(POS_value if len(comma_value) > 0 else None)\n",
    "\n",
    "# checking(north)\n",
    "# checking(south)\n",
    "# checking(isan)\n",
    "checking(orst)"
   ]
  },
  {
   "cell_type": "code",
   "execution_count": null,
   "id": "86e45a47",
   "metadata": {},
   "outputs": [],
   "source": [
    "# basic checking\n",
    "\n",
    "comma_value = []\n",
    "missing_value = []\n",
    "POS_value = []\n",
    "\n",
    "def basic_checking(df):\n",
    "    regex = r',(?!(?:[^(]*\\)))'\n",
    "    POS = r\"^(น\\.|\\*น\\.|นิ\\.|ก\\.|\\*ก\\.|ว\\.|\\*ว\\.|สัน\\.|ส\\.|บุรพ\\.|บุ\\.|\\*ส\\.|สำ\\.|\\*สำ\\.|ล\\.|สำนวน\\.|สำนวน\\.\\*|คำลงท้าย\\.|คำยกย่อง\\.|อาลปนะ\\.|ลัก\\.|สรรพ\\.|อ\\.|อุทาน\\.|\\*อ\\.|อุ\\.|ความเปรียบ\\.|คำถาม\\.|บุพ\\.|บ\\.|\\?)(.*)$\"\n",
    "\n",
    "    # checking comma in the first column\n",
    "    for value in df['word']:\n",
    "        if re.search(regex, value):\n",
    "            comma_value.append(value)\n",
    "        \n",
    "    for value in df['meaning']:\n",
    "        matches = re.findall(POS, value)\n",
    "        if len(matches) > 1:\n",
    "            POS_value.append(value)\n",
    "        elif len(matches) < 1 and value != \"\" and value.isspace() == False:\n",
    "            missing_value.append(value)\n",
    "            print(value)\n",
    "\n",
    "    print(comma_value if len(comma_value) > 0 else None)\n",
    "    print(POS_value if len(comma_value) > 0 else None)\n",
    "\n",
    "# basic_checking(df)"
   ]
  },
  {
   "cell_type": "markdown",
   "id": "4318206a",
   "metadata": {},
   "source": [
    "##  Orst Splitting"
   ]
  },
  {
   "cell_type": "code",
   "execution_count": null,
   "id": "1d8f7294",
   "metadata": {},
   "outputs": [],
   "source": [
    "# orst splitting\n",
    "# print(orst[list(orst.keys())[3]].head(), \"\\n\")\n",
    "\n",
    "def orst_split():\n",
    "    for key in orst.keys():\n",
    "        orst[key]['word'] = orst[key]['word'].str.split(',')\n",
    "        orst[key] = orst[key].explode('word')\n",
    "        orst[key]['word'] = orst[key]['word'].str.strip()\n",
    "\n",
    "        # split semi-colon in the third column\n",
    "        orst[key]['meaning'] = orst[key]['meaning'].str.split(';')\n",
    "        orst[key] = orst[key].explode('meaning')\n",
    "        orst[key]['meaning'] = orst[key]['meaning'].str.strip()\n",
    "\n",
    "        # # filling and reseting index\n",
    "        orst[key] = orst[key].ffill()\n",
    "        orst[key].drop_duplicates(inplace=True)\n",
    "        orst[key] = orst[key].reset_index(drop=True)\n",
    "\n",
    "# orst_split()\n",
    "\n",
    "# print(orst[list(orst.keys())[3]].head())"
   ]
  },
  {
   "cell_type": "markdown",
   "id": "3429141c",
   "metadata": {},
   "source": [
    "## Split POS"
   ]
  },
  {
   "cell_type": "code",
   "execution_count": null,
   "id": "f6324399",
   "metadata": {},
   "outputs": [],
   "source": [
    "# splitting POS\n",
    "\n",
    "def rearrange(df):\n",
    "  for key in df.keys():\n",
    "    pattern = r\"^(น\\.|\\*น\\.|นิ\\.|ก\\.|\\*ก\\.|ว\\.|\\*ว\\.|สัน\\.|ส\\.|บุรพ\\.|\\*ส\\.|สำ\\.|\\*สำ\\.|สำนวน\\.|คำลงท้าย\\.|คำยกย่อง\\.|อาลปนะ\\.|ลัก\\.|ล\\.|สรรพ\\.|อ\\.|\\*อ\\.|อุ\\.|อุทาน\\.|ความเปรียบ\\.|คำถาม\\.|บุพ\\.|บ\\.|บุ\\.|\\?)(.*)$\"\n",
    "    \n",
    "    df[key][\"คำ\"] = df[key]['word']\n",
    "    df[key][\"POS\"] = \"\"\n",
    "    df[key][\"ความหมาย\"] = \"\"\n",
    "\n",
    "    if df[key]['meaning'].str.startswith((\n",
    "      \"น.\", \"*น.\", \"นิ.\", \"ก.\", \"*ก.\", \"ว.\", \"*ว.\", \"สัน.\", \"*สำ.\", \"สำ.\", \"ส.\", \"*ส.\", \"ความเปรียบ.\", \"คำถาม.\", \"คำยกย่อง.\", \"อุทาน.\",\n",
    "      \"?\", \"บุพ.\", \"บ.\", \"บุ.\", \"บุรพ.\", \"สำนวน.\", \"สำนวน.*\", \"ลัก.\", \"สรรพ.\", \"อ.\", \"*อ.\", \"อุ.\", \"อุทาน.\", \"คำลงท้าย.\")).any():\n",
    "    \n",
    "      df[key][[\"POS\", \"ความหมาย\"]] = df[key]['meaning'].str.extract(pattern, expand=True)\n",
    "      df[key][\"ความหมาย\"] = df[key].apply(lambda row: row[2] if row[\"POS\"] == \"\" else row[\"ความหมาย\"], axis=1)\n",
    "\n",
    "    pos_mask = df[key]['meaning'].str.match(pattern, na=False)\n",
    "    df[key][\"POS\"] = df[key][\"POS\"].fillna(\"\")\n",
    "    df[key].loc[~pos_mask, \"ความหมาย\"] = df[key].loc[~pos_mask, 'meaning']\n",
    "    df[key] = df[key].iloc[:, 2:]\n",
    "\n",
    "# rearrange(north)\n",
    "# rearrange(south)\n",
    "# rearrange(isan)\n",
    "rearrange(orst)\n",
    "\n",
    "def clean_whitespace(df):\n",
    "  for key in df.keys():\n",
    "    for column in df[key].columns:\n",
    "      if df[key][column].dtype == 'object':\n",
    "        df[key][column] = df[key][column].apply(\n",
    "          lambda text: ' '.join(text.split()) if isinstance(text, str) else text\n",
    "        )\n",
    "  return df\n",
    "\n",
    "# north = clean_whitespace(north)\n",
    "# south = clean_whitespace(south)\n",
    "# isan = clean_whitespace(isan)\n",
    "orst = clean_whitespace(orst)\n",
    "\n",
    "def no_whitespace(df):\n",
    "  for key in df.keys():\n",
    "      df[key]['ความหมาย'] = df[key]['ความหมาย'].apply(\n",
    "                lambda x: re.sub(r\"^\\s+|\\s+$\", \"\", x.replace(\"\\u200b\", \"\"))\n",
    "            )\n",
    "\n",
    "# no_whitespace(north)\n",
    "# no_whitespace(south)\n",
    "# no_whitespace(isan)\n",
    "no_whitespace(orst)"
   ]
  },
  {
   "cell_type": "code",
   "execution_count": null,
   "id": "23fa1c57",
   "metadata": {},
   "outputs": [],
   "source": [
    "# basic splitting POS\n",
    "\n",
    "def basic_rearrange(df):\n",
    "    pattern = r\"^(น\\.|\\*น\\.|นิ\\.|ก\\.|\\*ก\\.|ว\\.|\\*ว\\.|สัน\\.|ส\\.|บุรพ\\.|\\*ส\\.|สำ\\.|\\*สำ\\.|สำนวน\\.|คำลงท้าย\\.|คำยกย่อง\\.|อาลปนะ\\.|ลัก\\.|ล\\.|สรรพ\\.|อ\\.|\\*อ\\.|อุ\\.|อุทาน\\.|ความเปรียบ\\.|คำถาม\\.|บุพ\\.|บ\\.|บุ\\.|\\?)(.*)$\"\n",
    "    \n",
    "    df = df.copy()\n",
    "    \n",
    "    df[\"คำ\"] = df['word']\n",
    "    df[\"POS\"] = \"\"\n",
    "    df[\"ความหมาย\"] = \"\"\n",
    "\n",
    "    if df['meaning'].str.startswith((\n",
    "        \"น.\", \"*น.\", \"นิ.\", \"ก.\", \"*ก.\", \"ว.\", \"*ว.\", \"สัน.\", \"*สำ.\",\"สำ.\", \"ส.\",\n",
    "        \"*ส.\", \"ความเปรียบ.\", \"คำถาม.\", \"คำยกย่อง.\", \"อุทาน.\", \"?\", \"บุพ.\", \"บ.\",\n",
    "        \"บุ.\", \"บุรพ.\", \"สำนวน.\", \"สำนวน.*\", \"ลัก.\", \"สรรพ.\", \"อ.\", \"*อ.\", \"อุ.\",\n",
    "        \"อุทาน.\", \"คำลงท้าย.\")).any():\n",
    "        \n",
    "        df[[\"POS\", \"ความหมาย\"]] = df['meaning'].str.extract(pattern, expand=True)\n",
    "        df[\"ความหมาย\"] = df.apply(lambda row: row[2] if row[\"POS\"] == \"\" else row[\"ความหมาย\"], axis=1)\n",
    "\n",
    "    pos_mask = df['meaning'].str.match(pattern, na=False)\n",
    "    df[\"POS\"] = df[\"POS\"].fillna(\"\")\n",
    "\n",
    "    df.loc[~pos_mask, \"ความหมาย\"] = df.loc[~pos_mask, 'meaning']\n",
    "    df['ความหมาย'] = df['ความหมาย'].apply(\n",
    "        lambda x: re.sub(r\"^\\s+|\\s+$\", \"\", x.replace(\"\\u200b\", \"\"))\n",
    "    )\n",
    "    df = df.iloc[:, 2:]\n",
    "    df = df.reset_index(drop=True)\n",
    "    return df\n",
    "\n",
    "basic_rearrange(df)"
   ]
  },
  {
   "cell_type": "markdown",
   "id": "13b9e1eb",
   "metadata": {},
   "source": [
    "## Fill Blank Values"
   ]
  },
  {
   "cell_type": "code",
   "execution_count": null,
   "id": "384930b8",
   "metadata": {},
   "outputs": [],
   "source": [
    "# fill blank values\n",
    "def fill_blank_words(iter=2, *dfs):\n",
    "    for df in dfs:\n",
    "        for _ in range(iter):\n",
    "            for key in df.keys():\n",
    "                df[key] = df[key].dropna(how='all')\n",
    "                df[key] = df[key].infer_objects(copy=False)\n",
    "                df[key] = df[key].replace(r'^\\s*$', np.nan, regex=True) \n",
    "                df[key] = df[key].ffill()\n",
    "                df[key].drop_duplicates(inplace=True)\n",
    "                df[key] = df[key].reset_index(drop=True)\n",
    "        return df\n",
    "\n",
    "fill_blank_words(2, orst)\n",
    "# fill_blank_words(2, north, south, isan, orst)"
   ]
  },
  {
   "cell_type": "code",
   "execution_count": null,
   "id": "753c73e0",
   "metadata": {},
   "outputs": [],
   "source": [
    "def counting(df):\n",
    "    def clean_text(input_text):\n",
    "        pattern = r\"[๐๑๒๓๔๕๖๗๘๙]|(\\(.*?\\))\"\n",
    "        cleaned_text = re.sub(pattern, \"\", input_text).strip()\n",
    "        return cleaned_text\n",
    "\n",
    "    for key in df.keys():\n",
    "        df[key]['คำ'] = df[key]['คำ'].apply(clean_text)\n",
    "                \n",
    "        df[key]['occurrence'] = df[key].groupby('คำ').cumcount()\n",
    "        df[key]['คำ'] = df[key]['คำ'] + \" \" + df[key]['occurrence'].astype(str)\n",
    "        df[key] = df[key].drop(columns=['occurrence'])\n",
    "\n",
    "        df[key]['คำ'] = df[key]['คำ'].apply(lambda x: ' '.join(x.replace(\"\\u200b\", \"\").split()))\n",
    "                \n",
    "        df[key]['ความหมาย'] = df[key]['ความหมาย'].astype(str)\n",
    "        df[key]['ความหมาย'] = df[key]['ความหมาย'].apply(lambda x: re.sub(r\"^\\s+|\\s+$\", \"\", x.replace(\"\\u200b\", \"\")))\n",
    "\n",
    "        df[key] = df[key].drop_duplicates()\n",
    "\n",
    "orst = counting(orst)"
   ]
  },
  {
   "cell_type": "markdown",
   "id": "003ada14",
   "metadata": {},
   "source": [
    "## Quick Cleaning"
   ]
  },
  {
   "cell_type": "code",
   "execution_count": null,
   "id": "c566b0bc",
   "metadata": {},
   "outputs": [],
   "source": [
    "# quick importing\n",
    "\n",
    "import pandas as pd\n",
    "\n",
    "path = r\" \"\n",
    "\n",
    "df = pd.read_excel(path, sheet_name=None)"
   ]
  },
  {
   "cell_type": "code",
   "execution_count": null,
   "id": "87400146",
   "metadata": {},
   "outputs": [],
   "source": [
    "# quick cleaning\n",
    "\n",
    "import re\n",
    "\n",
    "def no_more_whitespace(df):\n",
    "    for key in df.keys():\n",
    "        df[key].drop_duplicates(inplace=True)\n",
    "        df[key] = df[key].reset_index(drop=True)\n",
    "        df[key]['ความหมาย'] = df[key]['ความหมาย'].apply(\n",
    "                lambda x: re.sub(r\"^\\s+|\\s+$\", \"\", x.replace(\"\\u200b\", \"\"))\n",
    "            )\n",
    "\n",
    "# no_more_whitespace(df)"
   ]
  },
  {
   "cell_type": "markdown",
   "id": "7207b13c",
   "metadata": {},
   "source": [
    "## Output"
   ]
  },
  {
   "cell_type": "code",
   "execution_count": 3,
   "id": "ff2dbaa5",
   "metadata": {},
   "outputs": [],
   "source": [
    "# save as csv\n",
    "\n",
    "def df_to_csv(dfs, region, path):\n",
    "    for sheet, df in dfs.items():\n",
    "        file = f\"{path}/{region}_{sheet}.csv\"\n",
    "        df.to_csv(file, index=False, encoding='utf-8-sig')\n",
    "\n",
    "regions = {\n",
    "    # 'north': north,\n",
    "    'cen': orst,\n",
    "    # 'south': south,\n",
    "    # 'isan': isan,\n",
    "    }\n",
    "\n",
    "for region, dfs in regions.items():\n",
    "    df_to_csv(dfs, region, r\"cleaned_พจนานุกรมภาษาถิ่น\\พจนานุกรมฉบับราชบัณฑิต\")"
   ]
  },
  {
   "cell_type": "code",
   "execution_count": null,
   "id": "55a9727c",
   "metadata": {},
   "outputs": [],
   "source": [
    "# save as xlsx file\n",
    "\n",
    "def df_to_xlsx(dfs, region, path):\n",
    "    with pd.ExcelWriter(f\"{path}/{region}.xlsx\") as writer:\n",
    "        for sheet, df in dfs.items():\n",
    "            df.to_excel(writer, sheet_name=sheet, index=False)\n",
    "\n",
    "regions = {\n",
    "    # 'cleaned_พจนานุกรมภาษาถิ่นเหนือ': north,\n",
    "    # 'cleaned_พจนานุกรมภาษาถิ่นใต้': south,\n",
    "    # 'cleaned_พจนานุกรมภาษาถิ่นอีสาน': isan,\n",
    "    # 'cleaned_พจนานุกรมภาษาถิ่นกลาง': orst,\n",
    "    }\n",
    "\n",
    "for region, dfs in regions.items():\n",
    "    df_to_xlsx(dfs, region, r\"datasets\")\n"
   ]
  },
  {
   "cell_type": "markdown",
   "id": "90951ffb",
   "metadata": {},
   "source": [
    "## Quick Enumeration"
   ]
  },
  {
   "cell_type": "code",
   "execution_count": 4,
   "id": "e9e188e1",
   "metadata": {},
   "outputs": [],
   "source": [
    "# enumeration csv to csv\n",
    "\n",
    "import pandas as pd\n",
    "import os\n",
    "import re\n",
    "from pathlib import Path\n",
    "\n",
    "input_path = r\"cleaned_พจนานุกรมภาษาถิ่น\\พจนานุกรมฉบับราชบัณฑิต\"\n",
    "output_path = r\"cleaned_พจนานุกรมภาษาถิ่น\\new_พจนานุกรมฉบับราชบัณฑิต\"\n",
    "Path(output_path).mkdir(parents=True, exist_ok=True)\n",
    "\n",
    "def clean_text(input_text):\n",
    "    pattern = r\"[๐๑๒๓๔๕๖๗๘๙]|(\\(.*?\\))\"\n",
    "    cleaned_text = re.sub(pattern, \"\", input_text).strip()\n",
    "    return cleaned_text\n",
    "\n",
    "for filename in os.listdir(input_path):\n",
    "    if filename.endswith('.csv'):\n",
    "        input_file = os.path.join(input_path, filename)\n",
    "        df = pd.read_csv(input_file)\n",
    "        df['คำ'] = df['คำ'].apply(clean_text)\n",
    "        \n",
    "        # enumeration\n",
    "        df['occurrence'] = df.groupby('คำ').cumcount()\n",
    "        df['คำ'] = df['คำ'] + \" \" + df['occurrence'].astype(str)\n",
    "        df = df.drop(columns=['occurrence'])\n",
    "\n",
    "        # cleaning \n",
    "        df['คำ'] = df['คำ'].apply(lambda x: ' '.join(x.replace(\"\\u200b\", \"\").split()))\n",
    "        \n",
    "        df['ความหมาย'] = df['ความหมาย'].astype(str)\n",
    "        df['ความหมาย'] = df['ความหมาย'].apply(lambda x: re.sub(r\"^\\s+|\\s+$\", \"\", x.replace(\"\\u200b\", \"\")))\n",
    "\n",
    "        df = df.drop_duplicates()\n",
    "\n",
    "        output_file = os.path.join(output_path, filename)\n",
    "        df.to_csv(output_file, index=False)"
   ]
  }
 ],
 "metadata": {
  "kernelspec": {
   "display_name": "th_dialect_dict",
   "language": "python",
   "name": "python3"
  },
  "language_info": {
   "codemirror_mode": {
    "name": "ipython",
    "version": 3
   },
   "file_extension": ".py",
   "mimetype": "text/x-python",
   "name": "python",
   "nbconvert_exporter": "python",
   "pygments_lexer": "ipython3",
   "version": "3.12.4"
  }
 },
 "nbformat": 4,
 "nbformat_minor": 5
}
