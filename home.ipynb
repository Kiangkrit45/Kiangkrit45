{
 "cells": [
  {
   "cell_type": "markdown",
   "metadata": {},
   "source": [
    "# Home"
   ]
  },
  {
   "cell_type": "code",
   "execution_count": null,
   "metadata": {},
   "outputs": [],
   "source": [
    "import os\n",
    "\n",
    "print(os.getcwd())"
   ]
  },
  {
   "cell_type": "markdown",
   "metadata": {},
   "source": [
    "# Testing"
   ]
  },
  {
   "cell_type": "code",
   "execution_count": null,
   "metadata": {},
   "outputs": [],
   "source": []
  },
  {
   "cell_type": "markdown",
   "metadata": {},
   "source": [
    "# Math"
   ]
  },
  {
   "cell_type": "markdown",
   "metadata": {},
   "source": [
    "## PI Value"
   ]
  },
  {
   "cell_type": "code",
   "execution_count": null,
   "metadata": {},
   "outputs": [],
   "source": [
    "# Gauss-Legendre Algorithm\n",
    "\n",
    "from __future__ import with_statement\n",
    "import decimal\n",
    "\n",
    "def pi_gauss_legendre():\n",
    "    D = decimal.Decimal\n",
    "    with decimal.localcontext() as ctx:\n",
    "        ctx.prec += 2\n",
    "        a, b, t, p = 1, 1/D(2).sqrt(), 1/D(4), 1\n",
    "        pi = None\n",
    "        while 1:\n",
    "            an    = (a + b) / 2\n",
    "            b     = (a * b).sqrt()\n",
    "            t    -= p * (a - an) * (a - an)\n",
    "            a, p  = an, 2*p\n",
    "            piold = pi\n",
    "            pi    = (a + b) * (a + b) / (4 * t)\n",
    "            if pi == piold:\n",
    "                break\n",
    "    return +pi\n",
    "\n",
    "decimal.getcontext().prec = 100\n",
    "pi_gauss_legendre = pi_gauss_legendre()\n",
    "\n",
    "from mpmath import mp\n",
    "# digits of PI\n",
    "mp.dps = 100\n",
    "pi_mpmath = mp.quad(lambda x: mp.exp(-x**2), [-mp.inf, mp.inf]) ** 2"
   ]
  },
  {
   "cell_type": "code",
   "execution_count": null,
   "metadata": {},
   "outputs": [],
   "source": [
    "print(\"PI approximation\\n\")\n",
    "\n",
    "print(f\"Gauss-Legendre {pi_gauss_legendre}\")\n",
    "print(f\"mpmath {pi_mpmath}\")"
   ]
  }
 ],
 "metadata": {
  "kernelspec": {
   "display_name": "base",
   "language": "python",
   "name": "python3"
  },
  "language_info": {
   "codemirror_mode": {
    "name": "ipython",
    "version": 3
   },
   "file_extension": ".py",
   "mimetype": "text/x-python",
   "name": "python",
   "nbconvert_exporter": "python",
   "pygments_lexer": "ipython3",
   "version": "3.11.7"
  }
 },
 "nbformat": 4,
 "nbformat_minor": 2
}
