{
 "cells": [
  {
   "cell_type": "code",
   "execution_count": null,
   "metadata": {},
   "outputs": [],
   "source": [
    "import os\n",
    "\n",
    "cwd = os.getcwd()\n",
    "\n",
    "cwd"
   ]
  },
  {
   "cell_type": "code",
   "execution_count": 2,
   "metadata": {},
   "outputs": [
    {
     "data": {
      "text/plain": [
       "0.3333333333333333"
      ]
     },
     "execution_count": 2,
     "metadata": {},
     "output_type": "execute_result"
    }
   ],
   "source": [
    "p = 2/(2+4)\n",
    "r = 2/6\n",
    "f1 = 2*p*r / (p+r)\n",
    "f1"
   ]
  },
  {
   "cell_type": "code",
   "execution_count": null,
   "metadata": {},
   "outputs": [],
   "source": [
    "!pip3 install pythainlp"
   ]
  },
  {
   "cell_type": "code",
   "execution_count": null,
   "metadata": {},
   "outputs": [],
   "source": [
    "from pythainlp import word_tokenize, Tokenizer\n",
    "\n",
    "text = \"สมชายเห็นชอบกลบทบาทนี้\"\n",
    "\n",
    "print(\"newmm  :\", word_tokenize(text))\n",
    "print(\"longest:\", word_tokenize(text, engine=\"longest\"))"
   ]
  },
  {
   "cell_type": "code",
   "execution_count": null,
   "metadata": {},
   "outputs": [],
   "source": [
    "เห็น = 0.1\n",
    "ชอบ = 0.2\n",
    "เห็นชอบ = 0.3\n",
    "กล = 0.2\n",
    "ชอบกล = 0.4\n",
    "บท = 0.3\n",
    "กลบท = 0.5\n",
    "\n",
    "route1 = round(เห็น * ชอบกล * บท, 4) # เห็น ชอบกล บท\n",
    "route2 = round(เห็น * ชอบ * กล * บท, 4) # เห็น ชอบ กล บท\n",
    "route3 = round(เห็น * ชอบ * กลบท, 4) # เห็น ชอบ กลบท\n",
    "route4 = round(เห็นชอบ * กล * บท, 4) # เห็นชอบ กล บท\n",
    "route5 = round(เห็นชอบ * กลบท, 4) # เห็นชอบ กลบท\n",
    "\n",
    "print(f'เห็น|ชอบกล|บท, p = {route1}')\n",
    "print(f'เห็น|ชอบ|กล|บท, p = {route2}')\n",
    "print(f'เห็น|ชอบ|กลบท, p = {route3}')\n",
    "print(f'เห็นชอบ|กล|บท, p = {route4}')\n",
    "print(f'เห็นชอบ|กลบท, p = {route5}')"
   ]
  },
  {
   "cell_type": "code",
   "execution_count": 1,
   "metadata": {},
   "outputs": [
    {
     "name": "stdout",
     "output_type": "stream",
     "text": [
      "เห็น|ชอบกล|บท, p = 0.012\n",
      "เห็น|ชอบ|กล|บท, p = 0.0012\n",
      "เห็น|ชอบ|กลบท, p = 0.01\n",
      "เห็นชอบ|กล|บท, p = 0.018\n",
      "เห็นชอบ|กลบท, p = 0.15\n"
     ]
    }
   ],
   "source": [
    "probs = {\n",
    "    'เห็น': 0.1, 'ชอบ': 0.2,'เห็นชอบ': 0.3, 'กล': 0.2,\n",
    "    'ชอบกล': 0.4, 'บท': 0.3, 'กลบท': 0.5\n",
    "}\n",
    "\n",
    "routes = {\n",
    "    'เห็น|ชอบกล|บท': probs['เห็น'] * probs['ชอบกล'] * probs['บท'],\n",
    "    'เห็น|ชอบ|กล|บท': probs['เห็น'] * probs['ชอบ'] * probs['กล'] * probs['บท'],\n",
    "    'เห็น|ชอบ|กลบท': probs['เห็น'] * probs['ชอบ'] * probs['กลบท'],\n",
    "    'เห็นชอบ|กล|บท': probs['เห็นชอบ'] * probs['กล'] * probs['บท'],\n",
    "    'เห็นชอบ|กลบท': probs['เห็นชอบ'] * probs['กลบท']\n",
    "}\n",
    "\n",
    "for route, probability in routes.items():\n",
    "    print(f'{route}, p = {round(probability, 4)}')"
   ]
  }
 ],
 "metadata": {
  "kernelspec": {
   "display_name": "base",
   "language": "python",
   "name": "python3"
  },
  "language_info": {
   "codemirror_mode": {
    "name": "ipython",
    "version": 3
   },
   "file_extension": ".py",
   "mimetype": "text/x-python",
   "name": "python",
   "nbconvert_exporter": "python",
   "pygments_lexer": "ipython3",
   "version": "3.11.7"
  }
 },
 "nbformat": 4,
 "nbformat_minor": 2
}
