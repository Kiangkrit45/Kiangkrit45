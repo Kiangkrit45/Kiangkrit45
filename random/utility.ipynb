{
 "cells": [
  {
   "cell_type": "markdown",
   "metadata": {},
   "source": [
    "# Days From Today"
   ]
  },
  {
   "cell_type": "markdown",
   "metadata": {},
   "source": [
    "- calculate time difference\n",
    "- take inputs as days and hours\n",
    "- e.g. 22 days from today"
   ]
  },
  {
   "cell_type": "code",
   "execution_count": null,
   "metadata": {},
   "outputs": [],
   "source": [
    "import datetime\n",
    "\n",
    "def round_to_minute(dt):\n",
    "    return dt.replace(second=0, microsecond=0) + datetime.timedelta(minutes=dt.second//30)\n",
    "\n",
    "def calculate_future_time(days=0, hours=0):\n",
    "    current_time = round_to_minute(datetime.datetime.now())\n",
    "    future_time = current_time + datetime.timedelta(days=days, hours=hours)\n",
    "    return future_time\n",
    "\n",
    "def format_time_difference(timedelta):\n",
    "    days = timedelta.days\n",
    "    hours, remainder = divmod(timedelta.seconds, 3600)\n",
    "    if days == 0 and hours == 0:\n",
    "        return \"invalid\"\n",
    "    elif days == 0:\n",
    "        return f\"{hours} hour{'s' if hours != 1 else ''}\"\n",
    "    elif hours == 0:\n",
    "        return f\"{days} day{'s' if days != 1 else ''}\"\n",
    "    else:\n",
    "        return f\"{days} day{'s' if days != 1 else ''}, {hours} hour{'s' if hours != 1 else ''}\"\n",
    "\n",
    "def main():\n",
    "    try:\n",
    "        days = int(input(\"Days: \") or 0)\n",
    "        hours = int(input(\"Hours: \") or 0)\n",
    "    except ValueError:\n",
    "        print(\"Invalid input\")\n",
    "        return\n",
    "\n",
    "    current_time = round_to_minute(datetime.datetime.now())\n",
    "    future_time = calculate_future_time(days, hours)\n",
    "    time_difference = future_time - current_time\n",
    "\n",
    "    print(f\"\\nCurrent time: {current_time}\")\n",
    "    print(f\"Future time: {future_time}\")\n",
    "    print(f\"Time difference: {format_time_difference(time_difference)}\")\n",
    "\n",
    "if __name__ == \"__main__\":\n",
    "    main()"
   ]
  },
  {
   "cell_type": "markdown",
   "metadata": {},
   "source": [
    "# File Counter"
   ]
  },
  {
   "cell_type": "code",
   "execution_count": null,
   "metadata": {},
   "outputs": [],
   "source": [
    "import os\n",
    "\n",
    "def count_files(path, output_file):\n",
    "    total_files = 0\n",
    "    total_subfolders = 0\n",
    "    total_empty_folders = 0\n",
    "    empty_folders = []\n",
    "    output_str = ''\n",
    "    for root, dirs, files in os.walk(path):\n",
    "        folder_name = os.path.basename(root)\n",
    "        indent_level = root.count(os.path.sep)\n",
    "        output_str += \" \" * 2 * indent_level + folder_name + '\\n'\n",
    "        num_files = len(files)\n",
    "        output_str += \" \" * 2 * (indent_level + 1) + \"has \" + str(num_files) + \" file(s)\\n\"\n",
    "        total_files += num_files\n",
    "        total_subfolders += len(dirs)\n",
    "        extensions = set([os.path.splitext(file)[1] for file in files])\n",
    "        for extension in extensions:\n",
    "            if extension:\n",
    "                num_files_ext = len([file for file in files if os.path.splitext(file)[1] == extension])\n",
    "                output_str += \" \" * 2 * (indent_level + 1) + \"- \" + str(num_files_ext) + \" file(s) with extension \" + extension + \"\\n\"\n",
    "        if not any([num_files, len(dirs)]):\n",
    "            total_empty_folders += 1\n",
    "            empty_folders.append(root)\n",
    "        output_str += '\\n'\n",
    "    output_str += path + \" has \" + str(total_files) + \" file(s) + \" + str(total_subfolders) + \" subfolder(s)\\n\"\n",
    "    if total_empty_folders:\n",
    "        output_str += path + \" has \" + str(total_empty_folders) + \" empty folder(s):\\n\"\n",
    "        for folder in empty_folders:\n",
    "            output_str += \" \" * 2 + folder + '\\n'\n",
    "    with open(output_file, 'w', encoding='utf-8') as f:\n",
    "        f.write(output_str)\n",
    "    print(output_str)\n",
    "    \n",
    "path = os.getcwd()\n",
    "output_file = os.path.join(path, 'file_counts.txt')\n",
    "count_files(path, output_file)"
   ]
  },
  {
   "cell_type": "markdown",
   "metadata": {},
   "source": [
    "# File Name Add"
   ]
  },
  {
   "cell_type": "code",
   "execution_count": null,
   "metadata": {},
   "outputs": [],
   "source": [
    "import os\n",
    "\n",
    "# get the current working directory\n",
    "cwd = os.getcwd()\n",
    "\n",
    "# loop through every file in the directory\n",
    "for file_name in os.listdir(cwd):\n",
    "    \n",
    "    # check if the file is a regular file\n",
    "    if os.path.isfile(file_name):\n",
    "\n",
    "        name, ext = os.path.splitext(file_name)\n",
    "        new_name = \"new_\" + name + ext\n",
    "        os.rename(file_name, new_name)\n",
    "        print(f\"Renamed {file_name} to {new_name}\")"
   ]
  },
  {
   "cell_type": "markdown",
   "metadata": {},
   "source": [
    "# File Name Enumerator"
   ]
  },
  {
   "cell_type": "code",
   "execution_count": null,
   "metadata": {},
   "outputs": [],
   "source": [
    "import os\n",
    "\n",
    "cwd = os.getcwd()\n",
    "files = os.listdir(cwd)\n",
    "num_digits = len(str(len(files)))\n",
    "\n",
    "for i, file_name in enumerate(files):\n",
    "    if os.path.isfile(os.path.join(cwd, file_name)):\n",
    "        name, ext = os.path.splitext(file_name)\n",
    "        index_str = str(i+1).zfill(num_digits)\n",
    "        new_file_name = \"\" + index_str + ext\n",
    "        os.rename(os.path.join(cwd, file_name), os.path.join(cwd, new_file_name))\n",
    "        print(f\"Renamed {file_name} to {new_file_name}\")"
   ]
  },
  {
   "cell_type": "markdown",
   "metadata": {},
   "source": [
    "# File Name Remover"
   ]
  },
  {
   "cell_type": "code",
   "execution_count": null,
   "metadata": {},
   "outputs": [],
   "source": [
    "import os\n",
    "\n",
    "cwd = os.getcwd()\n",
    "\n",
    "for file_name in os.listdir(cwd):\n",
    "    if os.path.isfile(file_name):\n",
    "        \n",
    "        # 1 standard\n",
    "\n",
    "        # # # split the file name and extension\n",
    "        # name, ext = os.path.splitext(file_name)\n",
    "        \n",
    "        # # # construct the new file name by adding \"_new\" to the end of the name\n",
    "        # new_name = \"vol\" + name + ext\n",
    "        \n",
    "        # 2 remove every character before x\n",
    "\n",
    "        x_pos = file_name.index(\"v\")\n",
    "        new_name = file_name[x_pos:]\n",
    "        os.rename(file_name, new_name)\n",
    "        print(f\"Renamed {file_name} to {new_name}\")"
   ]
  },
  {
   "cell_type": "markdown",
   "metadata": {},
   "source": [
    "# File Size"
   ]
  },
  {
   "cell_type": "code",
   "execution_count": null,
   "metadata": {},
   "outputs": [],
   "source": [
    "import os\n",
    "\n",
    "\n",
    "def get_size(start_path='.'):\n",
    "    total_size = 0\n",
    "    for dirpath, dirnames, filenames in os.walk(start_path):\n",
    "        for f in filenames:\n",
    "            fp = os.path.join(dirpath, f)\n",
    "            total_size += os.path.getsize(fp)\n",
    "    return total_size\n",
    "\n",
    "def format_size(size_bytes):\n",
    "    if size_bytes < 1024:\n",
    "        return f\"{size_bytes} B\"\n",
    "    elif size_bytes < 1024 ** 2:\n",
    "        return f\"{size_bytes / 1024:.2f} KB\"\n",
    "    elif size_bytes < 1024 ** 3:\n",
    "        return f\"{size_bytes / 1024 ** 2:.2f} MB\"\n",
    "    else:\n",
    "        return f\"{size_bytes / 1024 ** 3:.2f} GB\"\n",
    "\n",
    "def print_size(start_path='.', output_file=None):\n",
    "    folder_sizes = []\n",
    "    file_sizes = []\n",
    "\n",
    "    for dirpath, dirnames, filenames in os.walk(start_path):\n",
    "        depth = dirpath.count(os.sep)\n",
    "        folder_name = os.path.basename(dirpath)\n",
    "\n",
    "        if depth == 0:\n",
    "            continue\n",
    "\n",
    "        folder_size = get_size(dirpath)\n",
    "        folder_sizes.append((folder_name, folder_size))\n",
    "\n",
    "        size_str = format_size(folder_size)\n",
    "        print(f\"{' ' * depth * 4}{folder_name}\\t{size_str}\")\n",
    "\n",
    "        for f in filenames:\n",
    "            fp = os.path.join(dirpath, f)\n",
    "            size = os.path.getsize(fp)\n",
    "            file_sizes.append((f, size))\n",
    "\n",
    "    if output_file:\n",
    "        with open(output_file, 'w', encoding='utf-8') as f:\n",
    "            for folder_name, folder_size in folder_sizes:\n",
    "                size_str = format_size(folder_size)\n",
    "                f.write(f\"{folder_name}\\t{size_str}\\n\")\n",
    "\n",
    "            for file_name, file_size in file_sizes:\n",
    "                size_str = format_size(file_size)\n",
    "                f.write(f\"{file_name}\\t{size_str}\\n\")\n",
    "\n",
    "print_size(output_file='file_size.txt')"
   ]
  },
  {
   "cell_type": "markdown",
   "metadata": {},
   "source": [
    "# Image Compresser Backup"
   ]
  },
  {
   "cell_type": "code",
   "execution_count": null,
   "metadata": {},
   "outputs": [],
   "source": [
    "import os\n",
    "from PIL import Image\n",
    "\n",
    "cwd = os.getcwd()\n",
    "\n",
    "quality = 75\n",
    "\n",
    "compressed_path = os.path.join(cwd, \"compressed\")\n",
    "if not os.path.exists(compressed_path):\n",
    "    os.mkdir(compressed_path)\n",
    "\n",
    "mypic_files = os.listdir(cwd)\n",
    "\n",
    "image_files = [f for f in mypic_files if (f.endswith(\".jpg\") or f.endswith(\".jpeg\") or f.endswith(\".png\")) and f not in os.listdir(compressed_path)]\n",
    "\n",
    "for filename in image_files:\n",
    "\n",
    "    img = Image.open(os.path.join(cwd, filename))\n",
    "\n",
    "    width, height = img.size\n",
    "    new_size = (int(width*1), int(height*1))\n",
    "    img = img.resize(new_size)\n",
    "\n",
    "    compressed_filename = os.path.join(compressed_path, \"\" + filename)\n",
    "    img.save(compressed_filename, quality=quality)\n",
    "\n",
    "mypic_files = [f for f in os.listdir(cwd) if os.path.isfile(os.path.join(cwd, f))]\n",
    "compressed_files = [f for f in os.listdir(compressed_path) if os.path.isfile(os.path.join(compressed_path, f))]\n",
    "if len(mypic_files) != len(compressed_files):\n",
    "    print(\"Error: The number of files are not the same\")\n",
    "else:\n",
    "    print(\"Success: All image files have been compressed\")\n"
   ]
  },
  {
   "cell_type": "markdown",
   "metadata": {},
   "source": [
    "# Image Compressor Name Enumerator"
   ]
  },
  {
   "cell_type": "code",
   "execution_count": null,
   "metadata": {},
   "outputs": [],
   "source": [
    "import os\n",
    "from PIL import Image\n",
    "\n",
    "cwd = os.getcwd()\n",
    "quality = 75\n",
    "\n",
    "compressed_path = os.path.join(cwd, 'compressed')\n",
    "\n",
    "if not os.path.exists(compressed_path):\n",
    "    os.mkdir(compressed_path)\n",
    "\n",
    "failed_path = os.path.join(cwd, 'failed')\n",
    "\n",
    "if not os.path.exists(failed_path):\n",
    "    os.mkdir(failed_path)\n",
    "\n",
    "counter = 1\n",
    "compressed_files = 0\n",
    "failed_files = 0\n",
    "original_size = 0\n",
    "compressed_size = 0\n",
    "\n",
    "for root, dirs, files in os.walk(cwd):\n",
    "    for filename in files:\n",
    "        if (filename.endswith('.jpg') or filename.endswith('.jpeg') or filename.endswith('.png')):\n",
    "            old_path = os.path.join(root, filename)\n",
    "\n",
    "            try:\n",
    "                img = Image.open(old_path)\n",
    "                file_type = img.format\n",
    "\n",
    "                if file_type is None:\n",
    "                    raise ValueError(\"Unsupported image format\")\n",
    "                \n",
    "                file_type = file_type.lower()\n",
    "                new_name = str(counter).zfill(5) + '.' + file_type\n",
    "                counter += 1\n",
    "                width, height = img.size\n",
    "                new_size = (int(width*1), int(height*1))\n",
    "                img = img.resize(new_size)\n",
    "                new_path = os.path.join(compressed_path, new_name)\n",
    "                img.save(new_path, quality=quality)\n",
    "                print(f\"Processed: {filename} -> {new_name}\")\n",
    "\n",
    "                compressed_files += 1\n",
    "                original_size += os.path.getsize(old_path)\n",
    "                compressed_size += os.path.getsize(new_path)\n",
    "\n",
    "            except Exception as e:\n",
    "                print(f\"Error: {filename} ({e})\")\n",
    "                rel_path = os.path.relpath(root, cwd)\n",
    "                os.makedirs(os.path.join(failed_path, rel_path), exist_ok=True)\n",
    "                os.rename(old_path, os.path.join(failed_path, rel_path, filename))\n",
    "                failed_files += 1\n",
    "\n",
    "print(f\"Compressed {compressed_files} files and failed to compress {failed_files} files.\")\n",
    "print(f\"Saved {((original_size - compressed_size)/1024)/1024:.2f} MB in total.\")"
   ]
  },
  {
   "cell_type": "markdown",
   "metadata": {},
   "source": [
    "# Image Compressor"
   ]
  },
  {
   "cell_type": "code",
   "execution_count": 1,
   "metadata": {},
   "outputs": [],
   "source": [
    "import os\n",
    "from PIL import Image\n",
    "\n",
    "cwd = os.getcwd()\n",
    "quality = 75\n",
    "\n",
    "for filename in os.listdir(cwd):\n",
    "    if filename.endswith(\".jpg\") or filename.endswith(\".jpeg\") or filename.endswith(\".png\"):\n",
    "        img = Image.open(filename)\n",
    "        width, height = img.size\n",
    "        new_size = (int(width*1), int(height*1))\n",
    "        img = img.resize(new_size)\n",
    "        compressed_filename = \"new_\" + filename\n",
    "        img.save(compressed_filename, quality=quality)"
   ]
  },
  {
   "cell_type": "markdown",
   "metadata": {},
   "source": [
    "# Music Managar"
   ]
  },
  {
   "cell_type": "code",
   "execution_count": null,
   "metadata": {},
   "outputs": [],
   "source": [
    "import os\n",
    "import stagger\n",
    "\n",
    "cwd = os.getcwd()\n",
    "\n",
    "artist = 'Various Artists'\n",
    "album = 'Unknown'\n",
    "\n",
    "audio_files = [f for f in os.listdir(cwd) if f.endswith('.mp3') or f.endswith('.m4a')]\n",
    "\n",
    "audio_files.sort()\n",
    "\n",
    "for i, audio_file in enumerate(audio_files):\n",
    "    track_num = str(i + 1)\n",
    "    audio = stagger.read_tag(os.path.join(cwd, audio_file))\n",
    "    audio.artist = artist\n",
    "    audio.album = album\n",
    "    audio.track = track_num\n",
    "    audio.write()"
   ]
  }
 ],
 "metadata": {
  "kernelspec": {
   "display_name": "base",
   "language": "python",
   "name": "python3"
  },
  "language_info": {
   "codemirror_mode": {
    "name": "ipython",
    "version": 3
   },
   "file_extension": ".py",
   "mimetype": "text/x-python",
   "name": "python",
   "nbconvert_exporter": "python",
   "pygments_lexer": "ipython3",
   "version": "3.11.7"
  }
 },
 "nbformat": 4,
 "nbformat_minor": 2
}
