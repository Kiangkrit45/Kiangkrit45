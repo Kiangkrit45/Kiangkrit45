{
 "cells": [
  {
   "cell_type": "markdown",
   "metadata": {},
   "source": [
    "# Introduction"
   ]
  },
  {
   "cell_type": "markdown",
   "metadata": {},
   "source": [
    "- CRAN\n",
    "- R\n",
    "- RStudio"
   ]
  },
  {
   "cell_type": "markdown",
   "metadata": {},
   "source": [
    "# Pirple"
   ]
  },
  {
   "cell_type": "markdown",
   "metadata": {},
   "source": [
    "## Datatypes"
   ]
  },
  {
   "cell_type": "markdown",
   "metadata": {},
   "source": [
    "### Variables"
   ]
  },
  {
   "cell_type": "markdown",
   "metadata": {},
   "source": [
    "a <- 3\n",
    "b <- \"test\"\n",
    "c <- c(5, 9, 3, 2, 9, 10)\n",
    "d <- c(5, 9.1, 3, 2.4, 9, 10)\n",
    "e <- c(\"t\", \"e\", \"st\", \"a\", \"b\", \"c\")\n",
    "f <- data.frame(col1 = c, col2 = e)\n",
    "g <- list(a, b, c, d, e, f)\n",
    "h <- F\n",
    "i <- c + 20\n",
    "j <- c > 5\n",
    "\n",
    "class(a) # numeric\n",
    "class(b) # character\n",
    "\n",
    "print(class(a))\n",
    "print(class(b))\n",
    "print(a)\n",
    "print(b)\n",
    "print(c)\n",
    "print(d)\n",
    "print(e)\n",
    "print(f)\n",
    "print(g)\n",
    "print(h) # False\n",
    "print(a + 20) # 3 plus 20 equals to 23\n",
    "print(i)\n",
    "print(j) # (5, 9, 3, 2, 9, 10)\n",
    "print(c[j]) # those true"
   ]
  },
  {
   "cell_type": "code",
   "execution_count": null,
   "metadata": {},
   "outputs": [],
   "source": [
    "library(ggplot2)\n",
    "ggplot(data=iris, aes(x=Sepal.Length, y=Sepal.Width, color=Species)) + geom_point(size=3)"
   ]
  },
  {
   "cell_type": "code",
   "execution_count": 3,
   "metadata": {},
   "outputs": [],
   "source": [
    "a <- 3\n",
    "b <- \"test\"\n",
    "c <- c(5, 9, 3, 2, 9, 10)\n",
    "d <- c(5, 9.1, 3, 2.4, 9, 10)\n",
    "e <- c(\"t\", \"e\", \"st\", \"a\", \"b\", \"c\")\n",
    "f <- data.frame(col1 = c, col2 = e)"
   ]
  }
 ],
 "metadata": {
  "kernelspec": {
   "display_name": "Python 3 (ipykernel)",
   "language": "python",
   "name": "python3"
  },
  "language_info": {
   "codemirror_mode": {
    "name": "ipython",
    "version": 3
   },
   "file_extension": ".py",
   "mimetype": "text/x-python",
   "name": "python",
   "nbconvert_exporter": "python",
   "pygments_lexer": "ipython3",
   "version": "3.11.7"
  }
 },
 "nbformat": 4,
 "nbformat_minor": 4
}
