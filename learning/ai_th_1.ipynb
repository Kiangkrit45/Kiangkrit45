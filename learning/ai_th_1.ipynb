{
 "cells": [
  {
   "cell_type": "markdown",
   "source": [
    "# วิชาที่ 1 บทนำการสร้าง AI"
   ],
   "metadata": {}
  },
  {
   "cell_type": "markdown",
   "source": [
    "## บทที่ 3: คำสั่ง Python พื้นฐานในการสร้าง"
   ],
   "metadata": {}
  },
  {
   "cell_type": "code",
   "execution_count": 1,
   "source": [
    "print(\"Hello\")"
   ],
   "outputs": [
    {
     "output_type": "stream",
     "name": "stdout",
     "text": [
      "Hello\n"
     ]
    }
   ],
   "metadata": {
    "scrolled": true
   }
  },
  {
   "cell_type": "code",
   "execution_count": 2,
   "source": [
    "# การเขียนความคิดเห็น / write a comment"
   ],
   "outputs": [],
   "metadata": {}
  },
  {
   "cell_type": "code",
   "execution_count": 3,
   "source": [
    "name = \"John\"\r\n",
    "\r\n",
    "print(\"Hello\", name)\r\n",
    "print(\"Hello\" + \" \" + name)\r\n",
    "print(\"Hello %s\" % (name))\r\n",
    "print(f\"Hello {name}\")\r\n",
    "print(\"Hello {}\".format(name))"
   ],
   "outputs": [
    {
     "output_type": "stream",
     "name": "stdout",
     "text": [
      "Hello John\n",
      "Hello John\n",
      "Hello John\n",
      "Hello John\n",
      "Hello John\n"
     ]
    }
   ],
   "metadata": {
    "scrolled": true
   }
  },
  {
   "cell_type": "code",
   "execution_count": 4,
   "source": [
    "number_a = \"10\"\n",
    "number_b = 10\n",
    "number_c = 10.0\n",
    "\n",
    "print(type(number_a))\n",
    "print(type(number_b))\n",
    "print(type(number_c))"
   ],
   "outputs": [
    {
     "output_type": "stream",
     "name": "stdout",
     "text": [
      "<class 'str'>\n",
      "<class 'int'>\n",
      "<class 'float'>\n"
     ]
    }
   ],
   "metadata": {
    "scrolled": true
   }
  },
  {
   "cell_type": "code",
   "execution_count": 5,
   "source": [
    "# Dictionary\n",
    "# key : value\n",
    "this_car = {\n",
    "    \"brand\": \"BMW\",\n",
    "    \"year\": 2021\n",
    "}\n",
    "\n",
    "print(this_car[\"brand\"])"
   ],
   "outputs": [
    {
     "output_type": "stream",
     "name": "stdout",
     "text": [
      "BMW\n"
     ]
    }
   ],
   "metadata": {}
  },
  {
   "cell_type": "code",
   "execution_count": 6,
   "source": [
    "# Condition\n",
    "a = 200 # int\n",
    "b = 200.0 # float\n",
    "c = int(b) # casting type\n",
    "if (a == c):\n",
    "    print(\"They are both int.\")\n",
    "else:\n",
    "    print(\"One of them is not int.\")"
   ],
   "outputs": [
    {
     "output_type": "stream",
     "name": "stdout",
     "text": [
      "They are both int.\n"
     ]
    }
   ],
   "metadata": {
    "scrolled": true
   }
  },
  {
   "cell_type": "code",
   "execution_count": 7,
   "source": [
    "# Condition shorthand\n",
    "a = 12\n",
    "b = 15\n",
    "\n",
    "\"\"\"\n",
    "if (b > a):\n",
    "    print(\"b is greater\")\n",
    "else:\n",
    "    print(\"a is greater\")\n",
    "\"\"\"\n",
    "\n",
    "b > a and \"b is greater\" or \"a is greater\""
   ],
   "outputs": [
    {
     "output_type": "execute_result",
     "data": {
      "text/plain": [
       "'b is greater'"
      ]
     },
     "metadata": {},
     "execution_count": 7
    }
   ],
   "metadata": {
    "scrolled": true
   }
  },
  {
   "cell_type": "code",
   "execution_count": 8,
   "source": [
    "# Loops\n",
    "# While Loops\n",
    "i = 0\n",
    "while i < 5:\n",
    "    print(i)\n",
    "    i += 1 # i = i + 1"
   ],
   "outputs": [
    {
     "output_type": "stream",
     "name": "stdout",
     "text": [
      "0\n",
      "1\n",
      "2\n",
      "3\n",
      "4\n"
     ]
    }
   ],
   "metadata": {
    "scrolled": false
   }
  },
  {
   "cell_type": "code",
   "execution_count": 9,
   "source": [
    "# For Loops\n",
    "fruits = [\"apple\", \"banana\", \"orange\", \"mango\"]\n",
    "list_fruits = []\n",
    "\n",
    "for i in fruits:\n",
    "    list_fruits.append(i)\n",
    "    print(list_fruits)\n",
    "print(list_fruits)"
   ],
   "outputs": [
    {
     "output_type": "stream",
     "name": "stdout",
     "text": [
      "['apple']\n",
      "['apple', 'banana']\n",
      "['apple', 'banana', 'orange']\n",
      "['apple', 'banana', 'orange', 'mango']\n",
      "['apple', 'banana', 'orange', 'mango']\n"
     ]
    }
   ],
   "metadata": {
    "scrolled": true
   }
  },
  {
   "cell_type": "code",
   "execution_count": 10,
   "source": [
    "# For Loops Shorthand\n",
    "fruits = [\"apple\", \"banana\", \"orange\", \"mango\"]\n",
    "list_fruits = []\n",
    "\n",
    "list_fruits = [i for i in fruits]\n",
    "print(list_fruits)"
   ],
   "outputs": [
    {
     "output_type": "stream",
     "name": "stdout",
     "text": [
      "['apple', 'banana', 'orange', 'mango']\n"
     ]
    }
   ],
   "metadata": {}
  },
  {
   "cell_type": "code",
   "execution_count": 11,
   "source": [
    "# Functions\n",
    "def hello(name):\n",
    "    print(f\"Hello {name}\")\n",
    "hello(\"John\")"
   ],
   "outputs": [
    {
     "output_type": "stream",
     "name": "stdout",
     "text": [
      "Hello John\n"
     ]
    }
   ],
   "metadata": {
    "scrolled": false
   }
  },
  {
   "cell_type": "code",
   "execution_count": 12,
   "source": [
    "# Objects\n",
    "# Attributes\n",
    "class Person:\n",
    "    def __init__(self, name, age):\n",
    "        self.name = name\n",
    "        self.age = age\n",
    "    def eat(self):\n",
    "        print(\"I can eat now.\")\n",
    "p1 = Person(\"Manus\", 21)\n",
    "print(p1.name)\n",
    "p1.eat()"
   ],
   "outputs": [
    {
     "output_type": "stream",
     "name": "stdout",
     "text": [
      "Manus\n",
      "I can eat now.\n"
     ]
    }
   ],
   "metadata": {}
  },
  {
   "cell_type": "code",
   "execution_count": 13,
   "source": [
    "# Library\n",
    "import numpy as np\n",
    "\n",
    "# NumPy array\n",
    "arr_0d = np.array(50)\n",
    "print(arr_0d)\n",
    "\n",
    "arr_1d = np.array([1, 2, 3, 4, 5])\n",
    "print(arr_1d)\n",
    "\n",
    "arr_2d = np.array([[13, 26, 39], [24, 48, 72]])\n",
    "print(arr_2d)\n",
    "\n",
    "arr_3d = np.array([\n",
    "    [[\"a\", \"b\", \"c\"], [\"x\", \"y\", \"z\"]],\n",
    "    [[11, 12, 13], [21, 22, 23]]\n",
    "])\n",
    "print(arr_3d)"
   ],
   "outputs": [
    {
     "output_type": "stream",
     "name": "stdout",
     "text": [
      "50\n",
      "[1 2 3 4 5]\n",
      "[[13 26 39]\n",
      " [24 48 72]]\n",
      "[[['a' 'b' 'c']\n",
      "  ['x' 'y' 'z']]\n",
      "\n",
      " [['11' '12' '13']\n",
      "  ['21' '22' '23']]]\n"
     ]
    }
   ],
   "metadata": {}
  },
  {
   "cell_type": "markdown",
   "source": [
    "### Pandas\n",
    "\n",
    "Pandas ถูกใช้ในการทำงานกับข้อมูลที่นำเสนอแบบตาราง (Dataframe) และแบบซีรีส์ (Series)"
   ],
   "metadata": {}
  },
  {
   "cell_type": "code",
   "execution_count": 14,
   "source": [
    "import numpy as np\n",
    "import pandas as pd\n",
    "\n",
    "s = pd.Series([1, 3, 5, 13, 6, 8])\n",
    "print(s[2]) # 5\n",
    "\n",
    "s = pd.Series([1, 3, 5, 13, 6, 8], index = ['a', 'b', 'c', 'd', 'e', 'f'])\n",
    "print(s['c']) # 5"
   ],
   "outputs": [
    {
     "output_type": "stream",
     "name": "stdout",
     "text": [
      "5\n",
      "5\n"
     ]
    }
   ],
   "metadata": {}
  },
  {
   "cell_type": "code",
   "execution_count": 15,
   "source": [
    "d = {\n",
    "    'one': pd.Series([1, 2, 3], index = ['a', 'b', 'c']),\n",
    "    'two': pd.Series([1, 2, 3, 4], index = ['a', 'b', 'c', 'd']),\n",
    "}\n",
    "df = pd.DataFrame(d)\n",
    "print(df)\n",
    "print(df.index)\n",
    "print(df.columns)"
   ],
   "outputs": [
    {
     "output_type": "stream",
     "name": "stdout",
     "text": [
      "   one  two\n",
      "a  1.0    1\n",
      "b  2.0    2\n",
      "c  3.0    3\n",
      "d  NaN    4\n",
      "Index(['a', 'b', 'c', 'd'], dtype='object')\n",
      "Index(['one', 'two'], dtype='object')\n"
     ]
    }
   ],
   "metadata": {}
  },
  {
   "cell_type": "code",
   "execution_count": 16,
   "source": [
    "import matplotlib.pyplot as plt\n",
    "import numpy as np\n",
    "\n",
    "x_points = np.array([0, 10])\n",
    "y_points = np.array([0, 100])\n",
    "plt.plot(x_points, y_points)\n",
    "plt.show()"
   ],
   "outputs": [
    {
     "output_type": "display_data",
     "data": {
      "image/png": "[encoded data removed]",
      "text/plain": [
       "<Figure size 432x288 with 1 Axes>"
      ]
     },
     "metadata": {
      "needs_background": "light"
     }
    }
   ],
   "metadata": {}
  },
  {
   "cell_type": "code",
   "execution_count": 18,
   "source": [
    "import matplotlib.pyplot as plt\n",
    "import numpy as np\n",
    "\n",
    "y_points = np.array([2, 9, 3, 12])\n",
    "\n",
    "# แต่ละจุดถูกแทนที่ด้วยวงกลม (o) เส้นจุดไข่ปลา (:) สีแดง (r)\n",
    "plt.plot(y_points, 'o:r')\n",
    "plt.show()"
   ],
   "outputs": [
    {
     "output_type": "display_data",
     "data": {
      "image/png": "[encoded data removed]",
      "text/plain": [
       "<Figure size 432x288 with 1 Axes>"
      ]
     },
     "metadata": {
      "needs_background": "light"
     }
    }
   ],
   "metadata": {
    "scrolled": false
   }
  }
 ],
 "metadata": {
  "kernelspec": {
   "name": "python3",
   "display_name": "Python 3.9.7 64-bit (windows store)"
  },
  "language_info": {
   "codemirror_mode": {
    "name": "ipython",
    "version": 3
   },
   "file_extension": ".py",
   "mimetype": "text/x-python",
   "name": "python",
   "nbconvert_exporter": "python",
   "pygments_lexer": "ipython3",
   "version": "3.9.7"
  },
  "interpreter": {
   "hash": "37430c57759b4c992aa2ec1d3e315c52e0ce96ffd03b57260ea94e1cc94339da"
  }
 },
 "nbformat": 4,
 "nbformat_minor": 5
}