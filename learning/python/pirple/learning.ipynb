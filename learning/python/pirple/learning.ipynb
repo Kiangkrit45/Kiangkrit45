{
 "cells": [
  {
   "cell_type": "markdown",
   "metadata": {},
   "source": [
    "# Variables"
   ]
  },
  {
   "cell_type": "markdown",
   "metadata": {},
   "source": [
    "## Integer"
   ]
  },
  {
   "cell_type": "code",
   "execution_count": null,
   "metadata": {},
   "outputs": [],
   "source": [
    "one, two, three = 1, 2, 3\n",
    "print(one)\n",
    "print(two)\n",
    "print(three)"
   ]
  },
  {
   "cell_type": "markdown",
   "metadata": {},
   "source": [
    "## Float"
   ]
  },
  {
   "cell_type": "code",
   "execution_count": null,
   "metadata": {},
   "outputs": [],
   "source": [
    "Decimal = 1.1\n",
    "print(Decimal)"
   ]
  },
  {
   "cell_type": "markdown",
   "metadata": {},
   "source": [
    "## String"
   ]
  },
  {
   "cell_type": "code",
   "execution_count": null,
   "metadata": {},
   "outputs": [],
   "source": [
    "String = \"Hello\"\n",
    "String = \"Hello\" + \"123\"\n",
    "print(String)"
   ]
  },
  {
   "cell_type": "markdown",
   "metadata": {},
   "source": [
    "## Stacking"
   ]
  },
  {
   "cell_type": "code",
   "execution_count": null,
   "metadata": {},
   "outputs": [],
   "source": [
    "count = 0\n",
    "count = count + 1\n",
    "count += 1\n",
    "count = count * 3\n",
    "count = (count + 2) / 2\n",
    "\n",
    "print(count)"
   ]
  },
  {
   "cell_type": "markdown",
   "metadata": {},
   "source": [
    "## Basic Function"
   ]
  },
  {
   "cell_type": "code",
   "execution_count": null,
   "metadata": {},
   "outputs": [],
   "source": [
    "def function():\n",
    "    x = 12\n",
    "    print(x)\n",
    "\n",
    "function()"
   ]
  },
  {
   "cell_type": "markdown",
   "metadata": {},
   "source": [
    "# Function"
   ]
  },
  {
   "cell_type": "markdown",
   "metadata": {},
   "source": [
    "A function is a piece of code that can be reused many times throughout the program. There are two types of functions in Python and almost every other programming language.\n",
    "\n",
    "- functions you create\n",
    "- built-in functions"
   ]
  },
  {
   "cell_type": "code",
   "execution_count": null,
   "metadata": {},
   "outputs": [],
   "source": [
    "def function(): # create function\n",
    "\tprint(2)\n",
    "\n",
    "function() # call"
   ]
  },
  {
   "cell_type": "code",
   "execution_count": null,
   "metadata": {},
   "outputs": [],
   "source": [
    "def functionPara(a, b): # parameters\n",
    "    print(a * b)\n",
    "\n",
    "functionPara(15, 29)"
   ]
  },
  {
   "cell_type": "markdown",
   "metadata": {},
   "source": [
    "# If Statement"
   ]
  },
  {
   "cell_type": "code",
   "execution_count": null,
   "metadata": {},
   "outputs": [],
   "source": [
    "click = True\n",
    "like = 0\n",
    "\n",
    "if click == True:\n",
    "    like = like + 1\n",
    "print(like)\n",
    "\n",
    "temperature = 15\n",
    "thermo = 15\n",
    "print(thermo) # 15"
   ]
  },
  {
   "cell_type": "code",
   "execution_count": null,
   "metadata": {},
   "outputs": [],
   "source": [
    "if temperature >= 15:\n",
    "    thermo = thermo + 10\n",
    "print(thermo) # 25\n"
   ]
  },
  {
   "cell_type": "code",
   "execution_count": null,
   "metadata": {},
   "outputs": [],
   "source": [
    "time = \"day\"\n",
    "sleepy = True\n",
    "wearingPajamas = False\n",
    "\n",
    "if time == \"night\" and sleepy == True: # both must be true\n",
    "    wearingPajamas = True\n",
    "print(wearingPajamas) # False\n",
    "\n",
    "if time == \"night\" or sleepy == True: # either one of them\n",
    "    wearingPajamas = True\n",
    "print(wearingPajamas) # True\n",
    "\n",
    "if time == \"night\":\n",
    "    wearingPajamas = True\n",
    "elif time == \"evening\": # else if in other programming languages\n",
    "    wearingPajamas = True\n",
    "else:\n",
    "    wearingPajamas = False\n",
    "\n",
    "print(wearingPajamas) # False"
   ]
  },
  {
   "cell_type": "markdown",
   "metadata": {},
   "source": [
    "# List"
   ]
  },
  {
   "cell_type": "code",
   "execution_count": null,
   "metadata": {},
   "outputs": [],
   "source": [
    "TestList = [\"element1\", \"element2\", \"element3\"]\n",
    "\n",
    "print(TestList)\n",
    "\n",
    "# brackets\n",
    "# index 0 first\n",
    "# last item\n",
    "\n",
    "print(TestList[2]) "
   ]
  },
  {
   "cell_type": "code",
   "execution_count": null,
   "metadata": {},
   "outputs": [],
   "source": [
    "\n",
    "# index 1 to index 2\n",
    "Scores = [70, 85, 67.5, 90, 80]\n",
    "print(Scores[1:3]) \n",
    "\n",
    "# 3 from the last--this case index 2\n",
    "Scores[-3] = 72.5 # change value\n",
    "print(Scores[-3])\n",
    "\n",
    "# change type\n",
    "Scores[4] = \"this is 80\" # change type\n",
    "print(Scores[-1]) # 1 from the last / last item\n",
    "\n",
    "# change index 2 to list\n",
    "Scores[2] = [\"Hello\", \"World\"]\n",
    "print(Scores)\n",
    "print(Scores[2][0]) # access list inside list return \"Hello\"\n",
    "\n",
    "# add 82.5 to the list at the end\n",
    "Scores.append(82.5)\n",
    "print(Scores)\n",
    "\n",
    "# change index 2 to list\n",
    "Scores[2] = [\"Hello\", \"World\"]\n",
    "print(Scores)"
   ]
  },
  {
   "cell_type": "markdown",
   "metadata": {},
   "source": [
    "# Loops"
   ]
  },
  {
   "cell_type": "markdown",
   "metadata": {},
   "source": [
    "## Introduction"
   ]
  },
  {
   "cell_type": "code",
   "execution_count": null,
   "metadata": {},
   "outputs": [],
   "source": [
    "Word = \"Hello\"\n",
    "\n",
    "for w in Word:\n",
    "    print(w)\n",
    "    if w == \"e\":\n",
    "        print(\"That was a funny letter\")"
   ]
  },
  {
   "cell_type": "code",
   "execution_count": null,
   "metadata": {},
   "outputs": [],
   "source": [
    "Word = \"Hello\"\n",
    "Letters = []\n",
    "\n",
    "for w in Word:\n",
    "    print(w)\n",
    "    if w == \"e\":\n",
    "        print(\"That was a funny letter\")\n",
    "    Letters.append(w)\n",
    "print(Letters)"
   ]
  },
  {
   "cell_type": "code",
   "execution_count": null,
   "metadata": {},
   "outputs": [],
   "source": [
    "Numbers = [1, 2, 3, 4, 5]\n",
    "\n",
    "for l in Numbers:\n",
    "    if l % 2 == 1:\n",
    "        print(l)"
   ]
  },
  {
   "cell_type": "code",
   "execution_count": null,
   "metadata": {},
   "outputs": [],
   "source": [
    "Numbers = []\n",
    "\n",
    "for num in range(5):\n",
    "    # num = 0 / num < 5\n",
    "    Numbers.append(num)\n",
    "    print(num)"
   ]
  },
  {
   "cell_type": "code",
   "execution_count": null,
   "metadata": {},
   "outputs": [],
   "source": [
    "Numbers = []\n",
    "\n",
    "for num in range(1, 12, 2):\n",
    "    Numbers.append(num)\n",
    "print(Numbers)"
   ]
  },
  {
   "cell_type": "code",
   "execution_count": null,
   "metadata": {},
   "outputs": [],
   "source": [
    "Numbers = []\n",
    "\n",
    "for num in range(-1, -14, -3):\n",
    "    Numbers.append(num)\n",
    "print(Numbers)"
   ]
  },
  {
   "cell_type": "markdown",
   "metadata": {},
   "source": [
    "## While Loops"
   ]
  },
  {
   "cell_type": "code",
   "execution_count": null,
   "metadata": {},
   "outputs": [],
   "source": [
    "counter = 1\n",
    "Sum = 0\n",
    "while (counter <= 5):\n",
    "    print(counter)\n",
    "    Sum = Sum + counter\n",
    "    counter = counter + 1"
   ]
  },
  {
   "cell_type": "code",
   "execution_count": null,
   "metadata": {},
   "outputs": [],
   "source": [
    "KeepTrack = 1\n",
    "\n",
    "Sum = 0\n",
    "while (KeepTrack <= 5):\n",
    "    print(KeepTrack)\n",
    "    Sum = Sum + KeepTrack\n",
    "    KeepTrack = KeepTrack + 1"
   ]
  },
  {
   "cell_type": "code",
   "execution_count": null,
   "metadata": {},
   "outputs": [],
   "source": [
    "Letters = [\"a\", \"b\", \"c\"]\n",
    "\n",
    "Index = 0\n",
    "\n",
    "while (Index < len(Letters)):\n",
    "    print(Index)\n",
    "    print(Letters[Index])\n",
    "    Index = Index + 1"
   ]
  },
  {
   "cell_type": "code",
   "execution_count": null,
   "metadata": {},
   "outputs": [],
   "source": [
    "height = 5000\n",
    "velocity = 50\n",
    "time = 0\n",
    "\n",
    "while (height > 0):\n",
    "    height = height - velocity\n",
    "    time = time + 1\n",
    "\n",
    "print(height)\n",
    "print(time)"
   ]
  },
  {
   "cell_type": "markdown",
   "metadata": {},
   "source": [
    "## Break and Continue"
   ]
  },
  {
   "cell_type": "code",
   "execution_count": null,
   "metadata": {},
   "outputs": [],
   "source": [
    "Participants = [\"Jane\", \"Alex\", \"Tina\", \"Joe\", \"Ben\"]\n",
    "\n",
    "position = 0\n",
    "for name in Participants:\n",
    "    if name == \"Tina\":\n",
    "        print(\"About to break\")\n",
    "        break\n",
    "    position = position + 1\n",
    "    print(\"About to increment\")\n",
    "print(position)"
   ]
  },
  {
   "cell_type": "code",
   "execution_count": null,
   "metadata": {},
   "outputs": [],
   "source": [
    "Participants = [\"Jane\", \"Alex\", \"Tina\", \"Joe\", \"Ben\"]\n",
    "\n",
    "# len(Participants) = 5\n",
    "for currentIndex in range(len(Participants)):\n",
    "    print(currentIndex)\n",
    "    if Participants[currentIndex] == \"Joe\":\n",
    "        print(\"Breaking!\")\n",
    "        break\n",
    "    print(\"Not Break\")\n",
    "print(currentIndex)"
   ]
  },
  {
   "cell_type": "code",
   "execution_count": null,
   "metadata": {},
   "outputs": [],
   "source": [
    "for number in range(10):\n",
    "    if number % 3 == 0:\n",
    "        print(number)\n",
    "        print(\"Divisible by 3\")\n",
    "        continue\n",
    "    print(number)\n",
    "    print(\"Not divisible\")"
   ]
  },
  {
   "cell_type": "markdown",
   "metadata": {},
   "source": [
    "## Making Shapes with Loop"
   ]
  },
  {
   "cell_type": "code",
   "execution_count": null,
   "metadata": {},
   "outputs": [],
   "source": [
    "Length = 5\n",
    "\n",
    "for pos in range(1, Length+1):\n",
    "    print(\"c\"*pos)"
   ]
  },
  {
   "cell_type": "code",
   "execution_count": null,
   "metadata": {},
   "outputs": [],
   "source": [
    "Length = 6\n",
    "ToPrint = \"a\"\n",
    "\n",
    "for pos in range(1, Length+1):\n",
    "    print(ToPrint*pos)"
   ]
  },
  {
   "cell_type": "markdown",
   "metadata": {},
   "source": [
    "## Nested Loops"
   ]
  },
  {
   "cell_type": "code",
   "execution_count": null,
   "metadata": {},
   "outputs": [],
   "source": [
    "for row in range(5): # 0, 1, 2, 3, 4\n",
    "    if row % 2 == 0: # 0, 2, 4\n",
    "        for column in range (1, 6): # 1, 2, 3, 4, 5\n",
    "            if column % 2 == 1:\n",
    "                if column != 5:\n",
    "                    print(\" \", end = \"\") # 1, 3\n",
    "                else:\n",
    "                    print(\" \") # 5\n",
    "            else:\n",
    "                print(\"|\", end = \"\") # 2\n",
    "    else: # 1, 3\n",
    "        print(\"-----\")"
   ]
  },
  {
   "cell_type": "markdown",
   "metadata": {},
   "source": [
    "# Dictionary & Set"
   ]
  },
  {
   "cell_type": "code",
   "execution_count": null,
   "metadata": {},
   "outputs": [],
   "source": [
    "Sets = {\"Element1\", \"Element2\", \"Element3\", \"Element4\", \"Element5\"}\n",
    "\n",
    "print(Sets)\n",
    "\n",
    "print(\"Yes\" if \"Element1\" in Sets else \"No\")"
   ]
  },
  {
   "cell_type": "code",
   "execution_count": null,
   "metadata": {},
   "outputs": [],
   "source": [
    "CountryList = []\n",
    "for i in range(5):\n",
    "    Country = input(\"Please Enter Your Country: \")\n",
    "    CountryList.append(Country)\n",
    "\n",
    "CountrySet = set(CountryList)\n",
    "\n",
    "print(CountryList)\n",
    "print(CountrySet)\n",
    "\n",
    "if \"Brazil\" in CountrySet:\n",
    "    print(\"Attended\")"
   ]
  },
  {
   "cell_type": "code",
   "execution_count": null,
   "metadata": {},
   "outputs": [],
   "source": [
    "CountryList = []\n",
    "for i in range(5):\n",
    "    Country = input(\"Please Enter Your Country: \")\n",
    "    CountryList.append(Country)\n",
    "\n",
    "CountryDictionary = {}\n",
    "\n",
    "for Country in CountryList:\n",
    "    if Country in CountryDictionary: # List[0]\n",
    "        CountryDictionary[Country] += 1\n",
    "    else:\n",
    "        CountryDictionary[Country] = 1\n",
    "\n",
    "print(CountryDictionary)"
   ]
  },
  {
   "cell_type": "code",
   "execution_count": null,
   "metadata": {},
   "outputs": [],
   "source": [
    "blackShoes = {42:2, 41:3, 40:4, 39:1, 38:0}\n",
    "print(blackShoes)\n",
    "\n",
    "while(True):\n",
    "    purchaseSize = int(input(\"Which shoe size would like to buy?\\n\"))\n",
    "    if purchaseSize < 0:\n",
    "        break\n",
    "    if blackShoes[purchaseSize] > 0:\n",
    "        # purchase item removes one\n",
    "        blackShoes[purchaseSize] -= 1\n",
    "    else:\n",
    "        print(\"Shoes are no longer in stock\")\n",
    "        break\n",
    "    print(blackShoes)"
   ]
  },
  {
   "cell_type": "markdown",
   "metadata": {},
   "source": [
    "# Input & Output"
   ]
  },
  {
   "cell_type": "markdown",
   "metadata": {},
   "source": [
    "## Introduction"
   ]
  },
  {
   "cell_type": "code",
   "execution_count": null,
   "metadata": {},
   "outputs": [],
   "source": [
    "Name = input(\"Please Enter Your Name: \")\n",
    "Age = input(\"Please Enter Your Age: \")\n",
    "\n",
    "print(\"Your Name is \" + Name)\n",
    "print(\"Your Age is \" + Age)"
   ]
  },
  {
   "cell_type": "code",
   "execution_count": null,
   "metadata": {},
   "outputs": [],
   "source": [
    "Scores = []\n",
    "\n",
    "for i in range(5):\n",
    "    # int(\"70\") => 70\n",
    "    currentScore = int(input(\"Please Enter the Score: \"))\n",
    "    # [] => [70] => [70, 75]\n",
    "    Scores.append(currentScore)\n",
    "    if currentScore == 69:\n",
    "        print(currentScore, \"is NOICE!\")\n",
    "\n",
    "# same result\n",
    "print(\"The Scores are\", Scores)\n",
    "print(\"The Scores are \" + str(Scores))"
   ]
  },
  {
   "cell_type": "markdown",
   "metadata": {},
   "source": [
    "## File I/O"
   ]
  },
  {
   "cell_type": "code",
   "execution_count": null,
   "metadata": {},
   "outputs": [],
   "source": [
    "VacationSpots = [\"London\", \"Paris\", \"Utah\", \"Tokyo\", \"Taiwan\"]\n",
    "VacationFile = open(\"VacationPlaces\", \"w\")\n",
    "\n",
    "for Spots in VacationSpots:\n",
    "    VacationFile.write(Spots + \"\\n\")\n",
    "\n",
    "VacationFile.close()\n",
    "VacationFile = open(\"VacationPlaces\", \"r\")\n",
    "\n",
    "FirstLine = VacationFile.readline()\n",
    "print(FirstLine)\n",
    "SecondLine = VacationFile.readline()\n",
    "print(SecondLine)\n",
    "\n",
    "for line in VacationFile:\n",
    "    print(line, end = \"\")\n",
    "\n",
    "VacationFile.close()\n",
    "\n",
    "FinalSpot = \"Thailand\\n\"\n",
    "\n",
    "VacationFile = open(\"VacationPlaces\", \"a\")\n",
    "VacationFile.write(FinalSpot)\n",
    "VacationFile.close()\n",
    "\n",
    "VacationFile = open(\"VacationPlaces\", \"r\")\n",
    "for line in VacationFile:\n",
    "    print(line, end = \"\")\n",
    "\n",
    "VacationFile.close()"
   ]
  },
  {
   "cell_type": "markdown",
   "metadata": {},
   "source": [
    "## Practice: Tic-Tac-Toe"
   ]
  },
  {
   "cell_type": "code",
   "execution_count": null,
   "metadata": {},
   "outputs": [],
   "source": [
    "def drawField(field):\n",
    "    for row in range(5):\n",
    "        if row % 2 == 0:\n",
    "            practicalRow = int(row/2)\n",
    "            for column in range(5):\n",
    "                if column % 2 == 0:\n",
    "                    practicalColumn = int(column/2)\n",
    "                    if column != 4:\n",
    "                        print(field[practicalColumn][practicalRow], end = \"\")\n",
    "                    else:\n",
    "                        print(field[practicalColumn][practicalRow])\n",
    "                else:\n",
    "                    print(\"|\", end = \"\")\n",
    "        else:\n",
    "            print(\"-----\")\n",
    "\n",
    "Player = 1\n",
    "currentField = [\n",
    "    [\" \", \" \", \" \"],\n",
    "    [\" \", \" \", \" \"],\n",
    "    [\" \", \" \", \" \"]]\n",
    "drawField(currentField)\n",
    "while(True):\n",
    "    print(\"Player turn:\", Player)\n",
    "    MoveRow = int(input(\"Please enter the row: \"))\n",
    "    MoveColumn = int(input(\"Please enter the column: \"))\n",
    "    if Player == 1:\n",
    "        if currentField[MoveColumn][MoveRow] == \" \":\n",
    "            currentField[MoveColumn][MoveRow] = \"X\"\n",
    "            Player = 2\n",
    "    else:\n",
    "        if currentField[MoveColumn][MoveRow] == \" \":\n",
    "            currentField[MoveColumn][MoveRow] = \"O\"\n",
    "            Player = 1\n",
    "    drawField(currentField)"
   ]
  },
  {
   "cell_type": "markdown",
   "metadata": {},
   "source": [
    "# Classes"
   ]
  },
  {
   "cell_type": "markdown",
   "metadata": {},
   "source": [
    "## Introduction"
   ]
  },
  {
   "cell_type": "code",
   "execution_count": 13,
   "metadata": {},
   "outputs": [],
   "source": [
    "class team:\n",
    "    def __init__(self, Name = \"NaN\", Origin = \"NaN\"):\n",
    "        self.team_name = Name\n",
    "        self.team_origin = Origin \n",
    "    def defineTeamName(self, Name):\n",
    "        self.team_name = Name\n",
    "    def defineTeamOrigin(self, Origin):\n",
    "        self.team_origin = Origin"
   ]
  },
  {
   "cell_type": "markdown",
   "metadata": {},
   "source": [
    "## Class Inheritance"
   ]
  },
  {
   "cell_type": "markdown",
   "metadata": {},
   "source": [
    "### Example 1: Team"
   ]
  },
  {
   "cell_type": "code",
   "execution_count": 14,
   "metadata": {},
   "outputs": [],
   "source": [
    "class player(team):\n",
    "    def __init__(self):\n",
    "        team.__init__(self)\n",
    "        self.player_name = \"Unknown\"\n",
    "        self.player_points = 0\n",
    "    \n",
    "    def scored_player(self):\n",
    "        self.player_points += 1\n",
    "    \n",
    "    def set_name(self, name):\n",
    "        self.player_name = name"
   ]
  },
  {
   "cell_type": "code",
   "execution_count": null,
   "metadata": {},
   "outputs": [],
   "source": [
    "team1 = team()\n",
    "team1.defineTeamName(\"Falcon\")\n",
    "team1.defineTeamOrigin(\"Saudi Arabia\")\n",
    "\n",
    "print(f\"\\\"{team1.team_name}\\\" team is from {team1.team_origin}\")"
   ]
  },
  {
   "cell_type": "code",
   "execution_count": null,
   "metadata": {},
   "outputs": [],
   "source": [
    "team2 = team(\"EG\", \"America\")\n",
    "team3 = team(\"Nigma\", \"UAE\")\n",
    "\n",
    "print(f\"Team Name is {team2.team_name}, Team Origin is {team2.team_origin}.\")\n",
    "print(f\"Team Name is {team3.team_name}, Team Origin is {team3.team_origin}.\")"
   ]
  },
  {
   "cell_type": "code",
   "execution_count": 17,
   "metadata": {},
   "outputs": [],
   "source": [
    "class player(team):\n",
    "    def __init__(self, player_name, player_points, team_name, team_origin):\n",
    "        team.__init__(self, team_name, team_origin)\n",
    "        self.player_name = player_name\n",
    "        self.player_points = player_points\n",
    "    def scored_points(self):\n",
    "        self.player_points += 1\n",
    "    def set_name(self, name):\n",
    "        self.player_name = name\n",
    "    def __str__(self):\n",
    "        return f\"{self.player_name} has scored: {str(self.player_points)} points.\"\n",
    "\n",
    "player1 = player(\"Pontiff\", 0, \"Sulyvahn\", \"Irithyll\")"
   ]
  },
  {
   "cell_type": "code",
   "execution_count": null,
   "metadata": {},
   "outputs": [],
   "source": [
    "print(player1.player_name)\n",
    "print(player1.player_points)\n",
    "print(player1.team_name)\n",
    "print(player1.team_origin)\n",
    "\n",
    "player1.scored_points()\n",
    "print(player1.player_points)\n",
    "\n",
    "player1.set_name(\"Gwyndolin\")\n",
    "print(player1.player_name)\n",
    "print(player1)"
   ]
  },
  {
   "cell_type": "markdown",
   "metadata": {},
   "source": [
    "### Example 2: Pets"
   ]
  },
  {
   "cell_type": "code",
   "execution_count": 21,
   "metadata": {},
   "outputs": [],
   "source": [
    "class Pet:\n",
    "    def __init__(self, name, age, hunger, playful):\n",
    "        self.name = name\n",
    "        self.age = age\n",
    "        self.hunger = hunger\n",
    "        self.playful = playful\n",
    "\n",
    "    greeting = lambda self: self.name\n",
    "    get_age = lambda self: self.age\n",
    "    get_hunger = lambda self: self.hunger\n",
    "    get_playful = lambda self: self.playful\n",
    "    \n",
    "    def set_name(self, xname):\n",
    "        self.name = xname\n",
    "\n",
    "    def set_age(self, xage):\n",
    "        self.age = xage\n",
    "\n",
    "    def set_hunger(self, xhunger):\n",
    "        self.hunger = xhunger\n",
    "\n",
    "    def set_playful(self, xplay):\n",
    "        self.playful = xplay"
   ]
  },
  {
   "cell_type": "code",
   "execution_count": 22,
   "metadata": {},
   "outputs": [],
   "source": [
    "Pet1 = Pet(\"Jim\", 3, False, True)"
   ]
  },
  {
   "cell_type": "code",
   "execution_count": null,
   "metadata": {},
   "outputs": [],
   "source": [
    "class Dog(Pet):\n",
    "    def __init__(self, name, age, hunger, playful, breed, toy):\n",
    "        Pet.__init__(self, name, age, hunger, playful)\n",
    "        self.breed = breed\n",
    "        self.toy = toy\n",
    "\n",
    "    def want_to_play(self):\n",
    "        if self.playful == True:\n",
    "            return (f\"Dog wants to play with {self.toy}\")\n",
    "        else:\n",
    "            return (\"Dog doesn't want to play\")\n",
    "\n",
    "husky = Dog(\"Snowball\", 5, False, True, \"Husky\", \"Stick\")\n",
    "print(husky.want_to_play())"
   ]
  },
  {
   "cell_type": "code",
   "execution_count": null,
   "metadata": {},
   "outputs": [],
   "source": [
    "class Cat(Pet):\n",
    "    def __init__(self, name, age, hunger, playful, place):\n",
    "        Pet.__init__(self, name, age, hunger, playful)\n",
    "        self.place = place\n",
    "\n",
    "    def want_to_sit(self):\n",
    "        if self.playful == False:\n",
    "            print(\"The cat wants to sit in\", self.place)\n",
    "        else:\n",
    "            print(\"The cat want to play\")\n",
    "    __str__ = lambda self: f\"{self.name} likes to sit in {self.place}.\"\n",
    "\n",
    "typical_cat = Cat(\"Fluffy\", 3, False, False, \"the sun ray\")\n",
    "typical_cat.want_to_sit()\n",
    "print(typical_cat.__str__())"
   ]
  },
  {
   "cell_type": "code",
   "execution_count": null,
   "metadata": {},
   "outputs": [],
   "source": [
    "class Human:\n",
    "    def __init__(self, name, Pets):\n",
    "        self.name = name\n",
    "        self.Pets = Pets\n",
    "\n",
    "    def has_pets(self):\n",
    "        return \"yes\" if len(self.Pets) != 0 else \"no\"\n",
    "\n",
    "average_human = Human(\"Alice\", [typical_cat, husky])\n",
    "print(average_human.has_pets())"
   ]
  },
  {
   "cell_type": "markdown",
   "metadata": {},
   "source": [
    "# Import"
   ]
  },
  {
   "cell_type": "markdown",
   "metadata": {},
   "source": [
    "## Introduction"
   ]
  },
  {
   "cell_type": "code",
   "execution_count": null,
   "metadata": {},
   "outputs": [],
   "source": [
    "import random\n",
    "\n",
    "random_int = random.randint(0, 10)\n",
    "random_float = random.random()\n",
    "random_uniform = random.uniform(1, 10)\n",
    "\n",
    "print(f\"int: {random_int}\")\n",
    "print(f\"float: {random_float}\")\n",
    "print(f\"uniform: {random_uniform}\")"
   ]
  },
  {
   "cell_type": "code",
   "execution_count": null,
   "metadata": {},
   "outputs": [],
   "source": [
    "import time\n",
    "\n",
    "current_time = time.time()\n",
    "current_time = time.ctime(current_time)\n",
    "print(current_time)"
   ]
  },
  {
   "cell_type": "code",
   "execution_count": null,
   "metadata": {},
   "outputs": [],
   "source": [
    "import math\n",
    "\n",
    "value = 3.5\n",
    "\n",
    "squared_value = math.sqrt(value)\n",
    "expo_value = math.exp(value)\n",
    "sin_value = math.sin(value)\n",
    "floor_value = math.floor(value)\n",
    "ceiling_value = math.ceil(value)\n",
    "\n",
    "print(f\"squared value: {squared_value}\")\n",
    "print(f\"exponential value: {expo_value}\")\n",
    "print(f\"sin value: {sin_value}\")\n",
    "print(f\"floor value: {floor_value}\")\n",
    "print(f\"ceiling value: {ceiling_value}\")"
   ]
  },
  {
   "cell_type": "markdown",
   "metadata": {},
   "source": [
    "## Guessing Game"
   ]
  },
  {
   "cell_type": "code",
   "execution_count": null,
   "metadata": {},
   "outputs": [],
   "source": [
    "from random import randint\n",
    "\n",
    "random_value = randint(0, 100)\n",
    "while (True):\n",
    "    guess = int(input(\"Please enter your guess: \"))\n",
    "    if guess == random_value:\n",
    "        break\n",
    "    elif guess < random_value:\n",
    "        print(f\"Your guess \\\"{guess}\\\" was too low\")\n",
    "    else:\n",
    "        print(f\"Your guess \\\"{guess}\\\" was too high.\")\n",
    "print(f\"You guessed correctly with {guess}\")"
   ]
  },
  {
   "cell_type": "markdown",
   "metadata": {},
   "source": [
    "# Error"
   ]
  },
  {
   "cell_type": "code",
   "execution_count": null,
   "metadata": {},
   "outputs": [],
   "source": [
    "from typing import final\n",
    "\n",
    "key_word = \"Hello\"\n",
    "\n",
    "try:\n",
    "    print(int(key_word))\n",
    "except:\n",
    "    pass\n",
    "    print(\"Entered exception\")\n",
    "print(\"Past Exception\")"
   ]
  },
  {
   "cell_type": "code",
   "execution_count": null,
   "metadata": {},
   "outputs": [],
   "source": [
    "try:\n",
    "    raise NameError\n",
    "except ValueError:\n",
    "    print(\"Got a ValueError\")\n",
    "except:\n",
    "    print(\"Other types of exception\")\n",
    "    raise\n",
    "finally:\n",
    "    print(\"Finally\")\n",
    "print(\"Past exception\")"
   ]
  }
 ],
 "metadata": {
  "kernelspec": {
   "display_name": "base",
   "language": "python",
   "name": "python3"
  },
  "language_info": {
   "codemirror_mode": {
    "name": "ipython",
    "version": 3
   },
   "file_extension": ".py",
   "mimetype": "text/x-python",
   "name": "python",
   "nbconvert_exporter": "python",
   "pygments_lexer": "ipython3",
   "version": "3.11.7"
  }
 },
 "nbformat": 4,
 "nbformat_minor": 2
}
