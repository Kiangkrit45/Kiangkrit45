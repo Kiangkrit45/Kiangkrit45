{
 "cells": [
  {
   "cell_type": "code",
   "execution_count": 1,
   "metadata": {},
   "outputs": [],
   "source": [
    "from termcolor import colored, cprint\n",
    "\n",
    "fields = [\n",
    "    [\" \", \" \", \" \", \" \", \" \", \" \", \" \"],\n",
    "    [\" \", \" \", \" \", \" \", \" \", \" \", \" \"],\n",
    "    [\" \", \" \", \" \", \" \", \" \", \" \", \" \"],\n",
    "    [\" \", \" \", \" \", \" \", \" \", \" \", \" \"],\n",
    "    [\" \", \" \", \" \", \" \", \" \", \" \", \" \"],\n",
    "    [\" \", \" \", \" \", \" \", \" \", \" \", \" \"],\n",
    "    [\" \", \" \", \" \", \" \", \" \", \" \", \" \"]]"
   ]
  },
  {
   "cell_type": "code",
   "execution_count": 2,
   "metadata": {},
   "outputs": [],
   "source": [
    "def draw_board(fields):\n",
    "    for row in range(13):\n",
    "        if row % 2 == 0:\n",
    "            practical_row = int(row/2)\n",
    "            for column in range(13):\n",
    "                if column % 2 == 0:\n",
    "                    practical_column = int(column/2)\n",
    "                    color = \"white\"\n",
    "                    if fields[practical_column][practical_row] == \"X\":\n",
    "                        color = \"red\"\n",
    "                    title = colored(fields[practical_column][practical_row], color, attrs=[\"bold\"])\n",
    "                    print(title, end = \"\") if column != 12 else print(title)\n",
    "                else:\n",
    "                    print(\"|\", end = \"\")\n",
    "        else:\n",
    "            print(\"-------------\")\n",
    "    print(\"\\n\")"
   ]
  },
  {
   "cell_type": "code",
   "execution_count": 3,
   "metadata": {},
   "outputs": [],
   "source": [
    "def update_board(num, player):\n",
    "    column = fields[num]\n",
    "    index = \"\"\n",
    "    reversed_column = column[::-1]\n",
    "    for row in reversed_column:\n",
    "        if row == \" \":\n",
    "            index = reversed_column.index(row)\n",
    "            reversed_column[index] = \"X\" if player == 1 else \"O\"\n",
    "            break\n",
    "    if index == \"\":\n",
    "        return False\n",
    "    column = reversed_column[::-1]\n",
    "    fields[num] = column\n",
    "    draw_board(fields)\n",
    "    return True"
   ]
  },
  {
   "cell_type": "code",
   "execution_count": 4,
   "metadata": {},
   "outputs": [],
   "source": [
    "def four_in_row():\n",
    "    winner = False\n",
    "    for column in fields:\n",
    "        counter = 0\n",
    "        length = len(column)\n",
    "        for i in range(1, length):\n",
    "            if column[i - 1] != \" \" and column[i] != \" \" and column[i - 1] == column[i]:\n",
    "                counter += 1\n",
    "            else:\n",
    "                counter = 0\n",
    "            if counter == 3:\n",
    "                winner = column[i - 1]\n",
    "                return winner\n",
    "    return winner"
   ]
  },
  {
   "cell_type": "code",
   "execution_count": 5,
   "metadata": {},
   "outputs": [],
   "source": [
    "def four_in_column(column_matrix):\n",
    "    winner = False\n",
    "    for column in column_matrix:\n",
    "        counter = 0\n",
    "        length = len(column)\n",
    "        for i in range(1, length):\n",
    "            if column[i - 1] != \" \" and column[i] != \" \" and column[i -1 ] == column[i]:\n",
    "                 counter += 1\n",
    "            else:\n",
    "                counter = 0\n",
    "            if counter == 3:\n",
    "                winner = column[i - 1]\n",
    "                return winner\n",
    "    return winner"
   ]
  },
  {
   "cell_type": "code",
   "execution_count": 6,
   "metadata": {},
   "outputs": [],
   "source": [
    "def four_in_diagonala(column_matrix, player):\n",
    "    for i in range(0, len(column_matrix)):\n",
    "        for j in range(0, len(column_matrix[i])):\n",
    "            try:\n",
    "                if column_matrix[i][j] == player and column_matrix[i + 1][j - 1] == player and column_matrix[i + 2][j - 2] == player and column_matrix[i + 3][j - 3] == player:\n",
    "                    return True\n",
    "            except IndexError:\n",
    "                next\n",
    "    return False"
   ]
  },
  {
   "cell_type": "code",
   "execution_count": 7,
   "metadata": {},
   "outputs": [],
   "source": [
    "def four_in_diagonalb(column_matrix, player):\n",
    "    for i in range(0, len(column_matrix)):\n",
    "        for j in range(0, len(column_matrix[i])):\n",
    "            try:\n",
    "                if column_matrix[i][j] == player and column_matrix[i + 1][j + 1] == player and column_matrix[i + 2][j + 2] == player and column_matrix[i + 3][j + 3] == player:\n",
    "                    return True\n",
    "            except IndexError:\n",
    "                next\n",
    "    return False"
   ]
  },
  {
   "cell_type": "code",
   "execution_count": 8,
   "metadata": {},
   "outputs": [],
   "source": [
    "def valid_move(column_no):\n",
    "    if column_no >=1 and column_no <=7:\n",
    "        return True\n",
    "    else:\n",
    "        return False"
   ]
  },
  {
   "cell_type": "code",
   "execution_count": 9,
   "metadata": {},
   "outputs": [],
   "source": [
    "def create_colmatrix():\n",
    "    column_matrix = [\n",
    "        [\" \", \" \", \" \", \" \", \" \", \" \", \" \"],\n",
    "        [\" \", \" \", \" \", \" \", \" \", \" \", \" \"],\n",
    "        [\" \", \" \", \" \", \" \", \" \", \" \", \" \"],\n",
    "        [\" \", \" \", \" \", \" \", \" \", \" \", \" \"],\n",
    "        [\" \", \" \", \" \", \" \", \" \", \" \", \" \"],\n",
    "        [\" \", \" \", \" \", \" \", \" \", \" \", \" \"],\n",
    "        [\" \", \" \", \" \", \" \", \" \", \" \", \" \"]]\n",
    "    for i in range(7):\n",
    "        for j in range(len(fields[i])):\n",
    "            column_matrix[j][i] = fields[i][j]\n",
    "    return column_matrix"
   ]
  },
  {
   "cell_type": "code",
   "execution_count": null,
   "metadata": {},
   "outputs": [],
   "source": [
    "def connect4():\n",
    "    player = 1\n",
    "    no_win = True\n",
    "    winner = \"\"\n",
    "    while(no_win):\n",
    "        ask_column = colored(\"Player \" + str(player) + \" turn, enter the column number:\\n\", \"yellow\",attrs=[\"bold\"])\n",
    "        column_no = input(ask_column)\n",
    "        if column_no:\n",
    "            column_no = int(column_no)\n",
    "            if valid_move(column_no) == False:\n",
    "                cprint(\"Hey, this is not a right move. Try again.\\n\", \"red\", attrs=[\"bold\"])\n",
    "            else:\n",
    "                updated_flag = update_board(column_no - 1, player)\n",
    "                if updated_flag:\n",
    "                    print(\"\")\n",
    "                    current_player = player\n",
    "                    tile = \"X\" if player == 1 else \"O\"\n",
    "                    player = 2 if player == 1 else 1\n",
    "                    winner = four_in_row()\n",
    "                    if winner:\n",
    "                        no_win = False\n",
    "                    else:\n",
    "                        column_matrix = create_colmatrix()\n",
    "                        winner = four_in_column(column_matrix)\n",
    "                        if winner:\n",
    "                            no_win = False\n",
    "                        elif four_in_diagonalb(column_matrix, tile):\n",
    "                            winner = current_player\n",
    "                            no_win = False\n",
    "                        elif four_in_diagonala(column_matrix, tile):\n",
    "                            winner = current_player\n",
    "                            no_win = False\n",
    "                else:\n",
    "                    cprint(\"Hey, this is not a right move. Try again.\\n\", \"red\", attrs=[\"bold\"])\n",
    "        else:\n",
    "            cprint(\"Hey, this is not a right move. Try again.\\n\", \"red\", attrs=[\"bold\"])\n",
    "    winner = \"1\" if winner == \"X\" else \"2\"\n",
    "    cprint(\"THE WINNER IS PLAYER \"+ str(winner), \"blue\", attrs=[\"bold\"])\n",
    "print(\"Starting Connect 4 Game... Get ready!\\n\")\n",
    "draw_board(fields)\n",
    "connect4()"
   ]
  }
 ],
 "metadata": {
  "kernelspec": {
   "display_name": "base",
   "language": "python",
   "name": "python3"
  },
  "language_info": {
   "codemirror_mode": {
    "name": "ipython",
    "version": 3
   },
   "file_extension": ".py",
   "mimetype": "text/x-python",
   "name": "python",
   "nbconvert_exporter": "python",
   "pygments_lexer": "ipython3",
   "version": "3.11.7"
  }
 },
 "nbformat": 4,
 "nbformat_minor": 2
}
