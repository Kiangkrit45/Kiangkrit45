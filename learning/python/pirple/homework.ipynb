{
 "cells": [
  {
   "cell_type": "markdown",
   "metadata": {},
   "source": [
    "### Assignment: 1"
   ]
  },
  {
   "cell_type": "code",
   "execution_count": null,
   "metadata": {},
   "outputs": [],
   "source": [
    "title = \"Treat You Better\"\n",
    "artist = \"Shawn Mendes\"\n",
    "\"\"\"\n",
    "Songwriters:\n",
    "\n",
    "Shawn Mendes, Teddy Geiger and Scott Harris\n",
    "\"\"\"\n",
    "album = \"Illuminate\"\n",
    "releasedyear = 2016\n",
    "genre = \"pop\"\n",
    "durationInSeconds = 187\n",
    "# recorded at 15:48 15-05-2021 (GMT+7)\n",
    "viewonYouTubeinBillion = 2.078\n",
    "\n",
    "print(title)\n",
    "print(artist)\n",
    "print(album)\n",
    "print(releasedyear)\n",
    "print(genre)\n",
    "print(durationInSeconds)\n",
    "print(viewonYouTubeinBillion)"
   ]
  },
  {
   "cell_type": "markdown",
   "metadata": {},
   "source": [
    "### Assignment: 2"
   ]
  },
  {
   "cell_type": "code",
   "execution_count": null,
   "metadata": {},
   "outputs": [],
   "source": [
    "def genre():\n",
    "    genre = \"pop\"\n",
    "    print(genre)\n",
    "genre()\n",
    "\n",
    "def artist():\n",
    "    artist = \"Shawn Mendes\"\n",
    "    print(artist)\n",
    "artist()\n",
    "\n",
    "def releasedYear():\n",
    "    releasedYear = 2016\n",
    "    print(releasedYear)\n",
    "releasedYear()\n",
    "\n",
    "def isHisMostViewdSong():\n",
    "    isHisMostViewdSong = True\n",
    "    print(isHisMostViewdSong)\n",
    "isHisMostViewdSong()"
   ]
  },
  {
   "cell_type": "markdown",
   "metadata": {},
   "source": [
    "### Assignment: 3"
   ]
  },
  {
   "cell_type": "code",
   "execution_count": null,
   "metadata": {},
   "outputs": [],
   "source": [
    "def oneProperty(a, b, c):\n",
    "    if (a == b):\n",
    "        print(True)\n",
    "    elif (a == c):\n",
    "        print(True)\n",
    "    elif (b == c):\n",
    "        print(True)\n",
    "    else:\n",
    "        print(False)\n",
    "par1 = 1 / 1 # 1\n",
    "par2 = 1 + 1 # 2\n",
    "par3 = 1 * 1 # 1\n",
    "oneProperty(par1, par2, par3)\n",
    "\n",
    "# extra credit\n",
    "par4 = \"1\" + \"1\" # 11\n",
    "par5 = 11 # 11\n",
    "oneProperty(par2, int(par4), par5)"
   ]
  },
  {
   "cell_type": "markdown",
   "metadata": {},
   "source": [
    "### Assignment: 4"
   ]
  },
  {
   "cell_type": "code",
   "execution_count": null,
   "metadata": {},
   "outputs": [],
   "source": [
    "myUniqueList = []\n",
    "myLeftovers = [] # extra credit\n",
    "\n",
    "def uniqueness(x):\n",
    "    if x in myUniqueList:\n",
    "        print(False)\n",
    "        myLeftovers.append(x)\n",
    "    elif x not in myUniqueList:\n",
    "        print(True)\n",
    "        myUniqueList.append(x)\n",
    "\n",
    "print(myUniqueList) # before\n",
    "print(myLeftovers)\n",
    "\n",
    "uniqueness(1)\n",
    "uniqueness(1) # leftovers\n",
    "uniqueness(2)\n",
    "uniqueness(3)\n",
    "uniqueness(3) # leftovers\n",
    "uniqueness(4)\n",
    "uniqueness(4) # leftovers\n",
    "uniqueness(4) # leftovers\n",
    "uniqueness(4) # leftovers\n",
    "uniqueness(4) # leftovers\n",
    "uniqueness(5)\n",
    "\n",
    "print(myUniqueList) # after\n",
    "print(myLeftovers)"
   ]
  },
  {
   "cell_type": "markdown",
   "metadata": {},
   "source": [
    "### Assignment: 5"
   ]
  },
  {
   "cell_type": "code",
   "execution_count": null,
   "metadata": {},
   "outputs": [],
   "source": [
    "number = 1\n",
    "for number in range(100):\n",
    "    number = number + 1\n",
    "    if number % 15 == 0:\n",
    "        print(\"FizzBuzz\")\n",
    "        continue\n",
    "    elif number % 5 == 0:\n",
    "        print(\"Buzz\")\n",
    "        continue\n",
    "    elif number % 3 == 0:\n",
    "        print(\"Fizz\")\n",
    "        continue\n",
    "    elif ((number % 2 != 0 and number % 7 != 0 and number != 1)\n",
    "    or number == 2 or number == 7):\n",
    "        print(\"Prime\")\n",
    "        continue\n",
    "    print(number)"
   ]
  },
  {
   "cell_type": "markdown",
   "metadata": {},
   "source": [
    "### Assignment: 6"
   ]
  },
  {
   "cell_type": "code",
   "execution_count": null,
   "metadata": {},
   "outputs": [],
   "source": [
    "MAX_ROW = 45\n",
    "MAX_COLUMN = 175\n",
    "\n",
    "def playingBoard(rows, columns):\n",
    "    if type(rows) != int or type(columns) != int:\n",
    "        return False\n",
    "\n",
    "    if rows <= 1 or columns <= 1:\n",
    "        return False\n",
    "\n",
    "    if rows > MAX_ROW or columns > MAX_COLUMN:\n",
    "        return False\n",
    "\n",
    "    for row in range(0, rows):\n",
    "        if row % 2 == 0:\n",
    "            for column in range (0, columns):\n",
    "                if column % 2 == 0:\n",
    "                    lastChar = \"\"\n",
    "                    if column == columns - 1:\n",
    "                        lastChar = \"\\n\"\n",
    "                    print(\" \", end = lastChar)\n",
    "                else:\n",
    "                    print(\"|\", end = \"\")\n",
    "        else:\n",
    "            for column in range(0, columns):\n",
    "                lastChar = \"\"\n",
    "                if column == columns -1:\n",
    "                    lastChar = \"\\n\"\n",
    "                print(\"-\", end =lastChar)\n",
    "    print(\"\")\n",
    "    return True\n",
    "\n",
    "playingBoard(5, 5)\n",
    "playingBoard(9, 35)\n",
    "playingBoard(45, 175)"
   ]
  },
  {
   "cell_type": "markdown",
   "metadata": {},
   "source": [
    "### Assignment: 7"
   ]
  },
  {
   "cell_type": "code",
   "execution_count": null,
   "metadata": {},
   "outputs": [],
   "source": [
    "favSong = {\n",
    "    \"title\": \"Treat You Better\",\n",
    "    \"artist\": \"Shawn Mendes\",\n",
    "    \"album\": \"Illuminate\",\n",
    "    \"genre\": \"pop\",\n",
    "}\n",
    "\n",
    "def guessSong(key, value):\n",
    "    if key in favSong and value == favSong[key]:\n",
    "        # print(\"True\")\n",
    "        return True\n",
    "    else:\n",
    "        # print(\"False\")\n",
    "        return False\n",
    "\n",
    "guessSong(input(\"Guess the category: \"), input(\"Guess the answer: \"))\n",
    "\n",
    "for i in favSong:\n",
    "    print(i + \":\", favSong[i])"
   ]
  },
  {
   "cell_type": "markdown",
   "metadata": {},
   "source": [
    "### Assignment: 8"
   ]
  },
  {
   "cell_type": "code",
   "execution_count": null,
   "metadata": {},
   "outputs": [],
   "source": [
    "import os\n",
    "\n",
    "def take_note():\n",
    "    print(\"Start to take note.\")\n",
    "    ask_file_name()\n",
    "\n",
    "def ask_file_name():\n",
    "    file_name = input(\"Please enter the file name:\\n\")\n",
    "    file_path = f\"./{file_name}.txt\"\n",
    "    if file_exist(file_path):\n",
    "        ask_file_mode(file_path)\n",
    "    else:\n",
    "        ask_file_input(file_path)\n",
    "\n",
    "def file_exist(file_path):\n",
    "    if os.path.exists(file_path) and os.path.isfile(file_path):\n",
    "        return True\n",
    "    return False\n",
    "\n",
    "def ask_file_input(file_path):\n",
    "    txt = input(\"Please write down the content:\\n\")\n",
    "    write_file(file_path, txt+\"\\n\")\n",
    "    print(\"Content written...\")\n",
    "\n",
    "def ask_file_mode(file_path):\n",
    "    choice = input(\"\\nWhat do you wish to do? Enter the number against the choice.\\n1 read the file\\n2 delete the file and start over\\n3 append the file\\n4 replace a single line\\n\\n\")\n",
    "    if choice == \"1\":\n",
    "        txt = read_file(file_path)\n",
    "        print(\"*****YOUR FILE*****\")\n",
    "        print(txt)\n",
    "        print(\"**********\")\n",
    "    elif choice == \"2\":\n",
    "        delete_file(file_path)\n",
    "        empty_file(file_path)\n",
    "        print(\"File has been deleted and empty one is made.\")\n",
    "    elif choice == \"3\":\n",
    "        txt = input(\"Please enter the content, you wish to add:\\n\\n\")\n",
    "        append_file(file_path, txt)\n",
    "        print(\"Content added\")\n",
    "    elif choice == \"4\":\n",
    "        update_line(file_path)\n",
    "    else:\n",
    "        print(\"Please try again! This is an invalid option!\")\n",
    "\n",
    "def update_line(file_path):\n",
    "    line_counter = 1\n",
    "    line_array = []\n",
    "    with open(file_path, \"r\") as file:\n",
    "        for line in file:\n",
    "            print(f\"{line_counter} {line}\")\n",
    "            line_counter += 1\n",
    "            line_array.append(line)\n",
    "    line_num = int(input(\"Enter the line number you would like to replace:\\n\"))\n",
    "    if line_num <= len(line_array):\n",
    "        txt = input(\"Enter the new line:\\n\")\n",
    "        line_array[line_num - 1] = txt\n",
    "        paragraph = (\"\\n\").join(line_array)\n",
    "        write_file(file_path, paragraph)\n",
    "        print(\"\\nFile content has been replaced.\")\n",
    "    else:\n",
    "        print(\"Sorry, invalid line number!\")\n",
    "\n",
    "def write_file(file_path, content):\n",
    "    file = open(file_path, \"w\")\n",
    "    file.write(content)\n",
    "    file.close()\n",
    "\n",
    "def read_file(file_path):\n",
    "    content = \"\"\n",
    "    with open(file_path, \"r\") as file:\n",
    "        for line in file:\n",
    "            content = content + line\n",
    "    return content\n",
    "\n",
    "def append_file(file_path, txt):\n",
    "    file = open(file_path, \"a\")\n",
    "    file.write(txt)\n",
    "    file.close()\n",
    "\n",
    "def delete_file(file_path):\n",
    "    os.remove(file_path)\n",
    "\n",
    "def empty_file(file_path):\n",
    "    file = open(file_path, \"w\")\n",
    "    file.close()\n",
    "\n",
    "take_note()"
   ]
  }
 ],
 "metadata": {
  "kernelspec": {
   "display_name": "base",
   "language": "python",
   "name": "python3"
  },
  "language_info": {
   "codemirror_mode": {
    "name": "ipython",
    "version": 3
   },
   "file_extension": ".py",
   "mimetype": "text/x-python",
   "name": "python",
   "nbconvert_exporter": "python",
   "pygments_lexer": "ipython3",
   "version": "3.11.7"
  }
 },
 "nbformat": 4,
 "nbformat_minor": 2
}
