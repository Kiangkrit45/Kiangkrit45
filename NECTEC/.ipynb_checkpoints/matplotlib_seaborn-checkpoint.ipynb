{
 "cells": [
  {
   "cell_type": "markdown",
   "metadata": {},
   "source": [
    "# Matplotlib/Seaborn\n",
    "## Matplotlib\n",
    "### Make a simple plot"
   ]
  },
  {
   "cell_type": "code",
   "execution_count": null,
   "metadata": {},
   "outputs": [],
   "source": [
    "import numpy as np\n",
    "\n",
    "import matplotlib.pyplot as plt"
   ]
  },
  {
   "cell_type": "markdown",
   "metadata": {},
   "source": [
    "https://matplotlib.org/3.1.1/api/_as_gen/matplotlib.pyplot.plot.html"
   ]
  },
  {
   "cell_type": "code",
   "execution_count": null,
   "metadata": {},
   "outputs": [],
   "source": [
    "x = [1,2,3,4]\n",
    "\n",
    "y = [1,4,9,16]"
   ]
  },
  {
   "cell_type": "code",
   "execution_count": null,
   "metadata": {},
   "outputs": [],
   "source": [
    "plt.plot(x,y,'-b') # -b = line + blue\n",
    "\n",
    "plt.show()"
   ]
  },
  {
   "cell_type": "code",
   "execution_count": null,
   "metadata": {},
   "outputs": [],
   "source": [
    "plt.plot(x,y,'+r') # +r = plus + red\n",
    "\n",
    "plt.show()"
   ]
  },
  {
   "cell_type": "code",
   "execution_count": null,
   "metadata": {},
   "outputs": [],
   "source": [
    "plt.plot(x,y,'-+b') # +r = plus + red\n",
    "\n",
    "plt.show()"
   ]
  },
  {
   "cell_type": "code",
   "execution_count": null,
   "metadata": {},
   "outputs": [],
   "source": [
    "plt.plot(x, y,'-b') \n",
    "\n",
    "plt.title('First plot')\n",
    "\n",
    "plt.xlabel('x_label')\n",
    "\n",
    "plt.ylabel('y_label')\n",
    "\n",
    "plt.show()"
   ]
  },
  {
   "cell_type": "markdown",
   "metadata": {},
   "source": [
    "We can also specify the size of the figure using method figure() and passing the values as a tuple of the length of rows and columns to the argument figsize"
   ]
  },
  {
   "cell_type": "code",
   "execution_count": null,
   "metadata": {},
   "outputs": [],
   "source": [
    "plt.figure(figsize=(15,5)) # figsize = (ความยาวแนวนอน , ความยาวแนวตั้ง)\n",
    "\n",
    "plt.plot(x,y)\n",
    "\n",
    "plt.title('First plot')\n",
    "\n",
    "plt.xlabel('x_label')\n",
    "\n",
    "plt.ylabel('y_label')\n",
    "\n",
    "plt.show()"
   ]
  },
  {
   "cell_type": "code",
   "execution_count": null,
   "metadata": {},
   "outputs": [],
   "source": [
    "plt.plot(x, y, 'og')\n",
    "\n",
    "plt.title('First plot')\n",
    "\n",
    "plt.xlabel('x_label')\n",
    "\n",
    "plt.ylabel('y_label')\n",
    "\n",
    "plt.show()"
   ]
  },
  {
   "cell_type": "code",
   "execution_count": null,
   "metadata": {},
   "outputs": [],
   "source": [
    "x_2 = [1,2,3,4]\n",
    "\n",
    "y_2 = [1,8,27,64]\n",
    "\n",
    "plt.plot(x, y, 'og', x_2, y_2, '^r')\n",
    "\n",
    "plt.title('First plot')\n",
    "\n",
    "plt.xlabel('x_label')\n",
    "\n",
    "plt.ylabel('y_label')\n",
    "\n",
    "plt.show()"
   ]
  },
  {
   "cell_type": "markdown",
   "metadata": {},
   "source": [
    "### Multiple plots in one figure\n",
    "\n",
    "We can use subplot() method to add more than one plots in one figure. In the image below, we used this method to separate two graphs which we plotted on the same axes in the previous example\n",
    "\n",
    "https://matplotlib.org/3.1.1/api/_as_gen/matplotlib.pyplot.subplot.html"
   ]
  },
  {
   "cell_type": "code",
   "execution_count": null,
   "metadata": {},
   "outputs": [],
   "source": [
    "plt.subplot(1,2,1) # subplot(nrows, ncols, index)\n",
    "plt.plot(x, y, 'og')\n",
    "plt.title('1st subplot')\n",
    "\n",
    "plt.subplot(1,2,2)\n",
    "plt.plot(x_2, y_2, '^r')\n",
    "plt.title('2st subplot')\n",
    "\n",
    "plt.suptitle('My sub-plot')\n",
    "plt.show()"
   ]
  },
  {
   "cell_type": "code",
   "execution_count": null,
   "metadata": {},
   "outputs": [],
   "source": [
    "plt.subplot(2,1,1)\n",
    "plt.plot(x, y, 'og')\n",
    "plt.title('1st subplot')\n",
    "\n",
    "plt.subplot(2,1,2)\n",
    "plt.plot(x_2, y_2, '^r')\n",
    "plt.title('2st subplot')\n",
    "\n",
    "plt.suptitle('My sub-plot')\n",
    "plt.show()"
   ]
  },
  {
   "cell_type": "code",
   "execution_count": null,
   "metadata": {},
   "outputs": [],
   "source": [
    "fig, ax = plt.subplots(nrows=2, ncols=2, figsize=(6,6))\n",
    "\n",
    "ax[0,1].plot(x, y, 'og')\n",
    "ax[0,1].set_title('1st subplot')\n",
    "\n",
    "ax[1,0].plot(x_2, y_2, '^r')\n",
    "ax[1,0].set_title('2st subplot')\n",
    "\n",
    "plt.show()"
   ]
  },
  {
   "cell_type": "code",
   "execution_count": null,
   "metadata": {},
   "outputs": [],
   "source": [
    "fig, ax = plt.subplots(nrows=2, ncols=2, figsize=(6,6))\n",
    "\n",
    "ax[0,0].plot(x_2, y_2, '<y')\n",
    "ax[0,0].set_title('2st subplot')\n",
    "\n",
    "ax[0,1].plot(x, y, 'og')\n",
    "ax[0,1].set_title('1st subplot')\n",
    "\n",
    "ax[1,0].plot(x_2, y_2, '^r')\n",
    "ax[1,0].set_title('2st subplot')\n",
    "\n",
    "ax[1,1].plot(x, y, 'sk')\n",
    "ax[1,1].set_title('1st subplot')\n",
    "\n",
    "plt.show()"
   ]
  },
  {
   "cell_type": "markdown",
   "metadata": {},
   "source": [
    "## Creating different types of graphs with Matplotlib\n",
    "\n",
    "### Bar chart \n",
    "\n",
    "https://matplotlib.org/3.1.1/api/_as_gen/matplotlib.pyplot.bar.html"
   ]
  },
  {
   "cell_type": "code",
   "execution_count": null,
   "metadata": {},
   "outputs": [],
   "source": [
    "divisions = [\"Div-A\",\"Div-B\",\"Div-C\",\"Div-D\",\"Div-E\"]\n",
    "division_avg_marks = [70, 82, 73, 65, 68 ]"
   ]
  },
  {
   "cell_type": "code",
   "execution_count": null,
   "metadata": {
    "scrolled": true
   },
   "outputs": [],
   "source": [
    "plt.bar(divisions, division_avg_marks, color = 'green') # .bar(x, y , color , ......)\n",
    "plt.title(\"Bar Graph\")\n",
    "plt.xlabel(\"Divisions\")\n",
    "plt.ylabel(\"Marks\")\n",
    "plt.show()"
   ]
  },
  {
   "cell_type": "code",
   "execution_count": null,
   "metadata": {},
   "outputs": [],
   "source": [
    "plt.barh(divisions, division_avg_marks, color = 'green')\n",
    "plt.title(\"Bar Graph\")\n",
    "plt.xlabel(\"Divisions\")\n",
    "plt.ylabel(\"Marks\")\n",
    "plt.show()"
   ]
  },
  {
   "cell_type": "code",
   "execution_count": null,
   "metadata": {},
   "outputs": [],
   "source": [
    "divisions = [\"Div-A\",\"Div-B\",\"Div-C\",\"Div-D\",\"Div-E\"]\n",
    "division_avg_marks = [70, 82, 73, 65, 68 ]\n",
    "boys_avg_marks = [68, 67, 77, 61, 70]"
   ]
  },
  {
   "cell_type": "code",
   "execution_count": null,
   "metadata": {},
   "outputs": [],
   "source": [
    "index = np.arange(5)\n",
    "print(index)"
   ]
  },
  {
   "cell_type": "code",
   "execution_count": null,
   "metadata": {},
   "outputs": [],
   "source": [
    "width = 0.30"
   ]
  },
  {
   "cell_type": "code",
   "execution_count": null,
   "metadata": {},
   "outputs": [],
   "source": [
    "plt.bar(index, division_avg_marks, width, color = 'green', label = 'Division Marks')\n",
    "plt.bar(index+width, boys_avg_marks, width, color = 'blue', label = 'Boys Marks') # index + width เพื่อขยับตำแหน่งของกราฟแกน X\n",
    "\n",
    "plt.title(\"Bar Graph\")\n",
    "plt.xlabel(\"Divisions\")\n",
    "plt.ylabel(\"Marks\")\n",
    "\n",
    "plt.xticks(index + width/2, divisions) # xticks กำหนดคุณลักษณะของข้อความแกน X , yticks\n",
    "\n",
    "plt.legend(loc='best') # แสดงคำอธิบายของกราฟ, best หาตำแหน่งที่ดีที่สุด(upper, lower, left, rigth, ...)   \n",
    "\n",
    "plt.show()"
   ]
  },
  {
   "cell_type": "code",
   "execution_count": null,
   "metadata": {},
   "outputs": [],
   "source": [
    "divisions = [\"Div-A\",\"Div-B\",\"Div-C\",\"Div-D\",\"Div-E\"]\n",
    "boys_avg_marks = [68, 67, 77, 61, 70]\n",
    "girls_avg_marks = [72, 97, 69, 69, 66]"
   ]
  },
  {
   "cell_type": "code",
   "execution_count": null,
   "metadata": {},
   "outputs": [],
   "source": [
    "index = np.arange(5)\n",
    "print(index)"
   ]
  },
  {
   "cell_type": "code",
   "execution_count": null,
   "metadata": {},
   "outputs": [],
   "source": [
    "width = 0.30"
   ]
  },
  {
   "cell_type": "code",
   "execution_count": null,
   "metadata": {},
   "outputs": [],
   "source": [
    "plt.bar(index, boys_avg_marks, width, color = 'blue', label = 'Boys Marks')\n",
    "plt.bar(index, girls_avg_marks, width, color = 'red', label = 'Girls Marks', bottom = boys_avg_marks)\n",
    "\n",
    "plt.title(\"Vertically Stacked Bar Graphs\")\n",
    "plt.xlabel(\"Divisions\")\n",
    "plt.ylabel(\"Marks\")\n",
    "\n",
    "plt.xticks(index, divisions)\n",
    "\n",
    "plt.legend(loc='best') # แสดงคำอธิบายของกราฟ\n",
    "\n",
    "plt.show()"
   ]
  },
  {
   "cell_type": "markdown",
   "metadata": {},
   "source": [
    "### Box Plot\n",
    "\n",
    "https://matplotlib.org/3.1.1/api/_as_gen/matplotlib.pyplot.boxplot.html"
   ]
  },
  {
   "cell_type": "code",
   "execution_count": null,
   "metadata": {},
   "outputs": [],
   "source": [
    "collectn_1 = np.random.normal(100, 10, 200)\n",
    "collectn_2 = np.random.normal(80, 30, 200)\n",
    "collectn_3 = np.random.normal(90, 20, 200)\n",
    "collectn_4 = np.random.normal(70, 25, 200)\n",
    "\n",
    "## combine these different collections into a list    \n",
    "data_to_plot = [collectn_1, collectn_2, collectn_3, collectn_4]"
   ]
  },
  {
   "cell_type": "code",
   "execution_count": null,
   "metadata": {},
   "outputs": [],
   "source": [
    "plt.boxplot(data_to_plot,labels=['sample1','sample2','sample3','sample4'])\n",
    "\n",
    "# boxplot(data, patch_artist=True,labels=[.....])\n",
    "\n",
    "# labels คือ การกำหนดชือแกน X\n",
    "    \n",
    "plt.show()"
   ]
  },
  {
   "cell_type": "markdown",
   "metadata": {},
   "source": [
    "### Pie Chart\n",
    "\n",
    "https://matplotlib.org/3.1.1/api/_as_gen/matplotlib.pyplot.pie.html"
   ]
  },
  {
   "cell_type": "code",
   "execution_count": null,
   "metadata": {},
   "outputs": [],
   "source": [
    "firms = ['Firm A', 'Firm B', 'Firm C', 'Firm D', 'Firm E']\n",
    "\n",
    "market_share = [20, 25, 15, 10 ,20]\n",
    "\n",
    "explode = [0, 0.1, 0, 0, 0]\n",
    "\n",
    "plt.figure(figsize=(8,5))\n",
    "\n",
    "plt.pie(market_share, explode = explode, labels = firms, shadow = True, startangle = 45)\n",
    "\n",
    "# pie(ข้อมูล, explode = กำหนดข้อมูลที่ต้องแยกแสดง, labels = กำหนดชื่อชื่อ, shawdow =  กำหนดแสดงแสงเงา , startangle = กำหนดองศาเริ่ม)\n",
    "\n",
    "plt.axis('equal') # auto,equal, on, off, scaled, tight, square\n",
    "\n",
    "plt.legend(loc = 'best', title = 'List of Firms')\n",
    "\n",
    "plt.show()"
   ]
  },
  {
   "cell_type": "markdown",
   "metadata": {},
   "source": [
    "### Histogram\n",
    "https://matplotlib.org/3.1.1/api/_as_gen/matplotlib.pyplot.hist.html\n"
   ]
  },
  {
   "cell_type": "code",
   "execution_count": null,
   "metadata": {},
   "outputs": [],
   "source": [
    "x = np.random.randn(1000)"
   ]
  },
  {
   "cell_type": "code",
   "execution_count": null,
   "metadata": {},
   "outputs": [],
   "source": [
    "x"
   ]
  },
  {
   "cell_type": "code",
   "execution_count": null,
   "metadata": {},
   "outputs": [],
   "source": [
    "plt.title(\"Histogram\")\n",
    "plt.xlabel(\"Random Data\")\n",
    "plt.ylabel(\"Frequency\")\n",
    "plt.hist(x, bins = 10, color = 'green') # bins = จำนวนแท่งที่ต้องการ\n",
    "plt.show()"
   ]
  },
  {
   "cell_type": "markdown",
   "metadata": {},
   "source": [
    "### Scatter Plot and 3-D plotting"
   ]
  },
  {
   "cell_type": "code",
   "execution_count": null,
   "metadata": {},
   "outputs": [],
   "source": [
    "height = np.array([167,170,149,165,155,180,166,146,159,185,145,168,172,181,169])\n",
    "\n",
    "weight = np.array([85,74,66,78,68,79,90,73,70,88,66,84,67,84,77])\n",
    "\n",
    "plt.xlim(140,200) # กำหนดช่วงข้อมูลแกน X\n",
    "\n",
    "plt.ylim(60,100) #  กำหนดช่วงข้อมูลแกน Y\n",
    "\n",
    "plt.scatter(height, weight)\n",
    "\n",
    "plt.title(\"Scatter Plot\")\n",
    "\n",
    "plt.xlabel(\"Height\")\n",
    "\n",
    "plt.ylabel(\"Weight\")\n",
    "\n",
    "plt.show()"
   ]
  },
  {
   "cell_type": "markdown",
   "metadata": {},
   "source": [
    "#### Mplot3d\n",
    "https://matplotlib.org/mpl_toolkits/mplot3d/tutorial.html"
   ]
  },
  {
   "cell_type": "code",
   "execution_count": null,
   "metadata": {},
   "outputs": [],
   "source": [
    "from mpl_toolkits import mplot3d"
   ]
  },
  {
   "cell_type": "code",
   "execution_count": null,
   "metadata": {},
   "outputs": [],
   "source": [
    "ax = plt.axes(projection = '3d')\n",
    "\n",
    "ax.scatter3D(height, weight)\n",
    "\n",
    "ax.set_xlabel('Height')\n",
    "\n",
    "ax.set_ylabel('Weight')\n",
    "\n",
    "plt.show()"
   ]
  },
  {
   "cell_type": "code",
   "execution_count": null,
   "metadata": {},
   "outputs": [],
   "source": [
    "ax = plt.axes(projection = '3d')\n",
    "\n",
    "ax.plot3D(height, weight)\n",
    "\n",
    "ax.set_xlabel('Height')\n",
    "\n",
    "ax.set_ylabel('Weight')\n",
    "\n",
    "plt.show()"
   ]
  },
  {
   "cell_type": "markdown",
   "metadata": {},
   "source": [
    "## Show Matplotlit Control in Cell"
   ]
  },
  {
   "cell_type": "code",
   "execution_count": null,
   "metadata": {},
   "outputs": [],
   "source": [
    "x = [1,2,3,4]\n",
    "\n",
    "y = [1,4,9,16]"
   ]
  },
  {
   "cell_type": "code",
   "execution_count": null,
   "metadata": {},
   "outputs": [],
   "source": [
    "plt.plot(x,y,'-b') # -b = line + blue\n",
    "\n",
    "plt.show()"
   ]
  },
  {
   "cell_type": "code",
   "execution_count": null,
   "metadata": {},
   "outputs": [],
   "source": [
    "%matplotlib notebook"
   ]
  },
  {
   "cell_type": "code",
   "execution_count": null,
   "metadata": {},
   "outputs": [],
   "source": [
    "plt.plot(x,y,'-b') # -b = line + blue\n",
    "\n",
    "plt.show()"
   ]
  },
  {
   "cell_type": "code",
   "execution_count": null,
   "metadata": {},
   "outputs": [],
   "source": [
    "%matplotlib inline"
   ]
  },
  {
   "cell_type": "markdown",
   "metadata": {},
   "source": [
    "## Seaborn\n",
    "\n",
    "https://www.c-sharpcorner.com/article/a-complete-python-seaborn-tutorial/"
   ]
  },
  {
   "cell_type": "code",
   "execution_count": null,
   "metadata": {},
   "outputs": [],
   "source": [
    "import pandas as pd\n",
    "\n",
    "# Seaborn for plotting and styling\n",
    "import seaborn as sns"
   ]
  },
  {
   "cell_type": "code",
   "execution_count": null,
   "metadata": {},
   "outputs": [],
   "source": [
    "tips = pd.read_csv(\"data set/tips.csv\")"
   ]
  },
  {
   "cell_type": "code",
   "execution_count": null,
   "metadata": {},
   "outputs": [],
   "source": [
    "tips.head(5)"
   ]
  },
  {
   "cell_type": "markdown",
   "metadata": {},
   "source": [
    "### Seaborn's plotting functions.\n",
    "https://seaborn.pydata.org/generated/seaborn.lmplot.html?highlight=lmplot#seaborn.lmplot"
   ]
  },
  {
   "cell_type": "code",
   "execution_count": null,
   "metadata": {},
   "outputs": [],
   "source": [
    "# Recommended way\n",
    "sns.lmplot(x='total_bill', y='tip', data=tips)\n",
    " "
   ]
  },
  {
   "cell_type": "code",
   "execution_count": null,
   "metadata": {},
   "outputs": [],
   "source": [
    "# Scatterplot arguments\n",
    "sns.lmplot(x = 'total_bill', y = 'tip', data=tips\n",
    "           ,fit_reg = False # No regression line\n",
    "           ,hue ='sex')   # Color by evolution stage"
   ]
  },
  {
   "cell_type": "markdown",
   "metadata": {},
   "source": [
    "### Customizing with Matplotlib."
   ]
  },
  {
   "cell_type": "code",
   "execution_count": null,
   "metadata": {},
   "outputs": [],
   "source": [
    "# Plot uing Seaborn\n",
    "sns.lmplot(x = 'total_bill', y = 'tip', data = tips\n",
    "           ,fit_reg = False\n",
    "           ,hue = 'sex')\n",
    "\n",
    "# Tweak using Matplotlib\n",
    "plt.ylim(0, None)\n",
    "plt.xlim(0, None)"
   ]
  },
  {
   "cell_type": "markdown",
   "metadata": {},
   "source": [
    "### Box Plot\n",
    "https://seaborn.pydata.org/generated/seaborn.boxplot.html?highlight=boxplot#seaborn.boxplot"
   ]
  },
  {
   "cell_type": "code",
   "execution_count": null,
   "metadata": {},
   "outputs": [],
   "source": [
    "# Boxplot\n",
    "\n",
    "sns.boxplot(data = tips)"
   ]
  },
  {
   "cell_type": "code",
   "execution_count": null,
   "metadata": {},
   "outputs": [],
   "source": [
    "stats_tips = tips.drop(['total_bill'], axis = 1)\n",
    "\n",
    "sns.boxplot(data = stats_tips)"
   ]
  },
  {
   "cell_type": "markdown",
   "metadata": {},
   "source": [
    "### Violinplot\n",
    "https://seaborn.pydata.org/generated/seaborn.violinplot.html?highlight=violinplot#seaborn.violinplot"
   ]
  },
  {
   "cell_type": "code",
   "execution_count": null,
   "metadata": {},
   "outputs": [],
   "source": [
    "# Set theme\n",
    "sns.set_style('whitegrid')\n",
    " \n",
    "# Violin plot\n",
    "sns.violinplot(x='size', y='tip', data=tips)"
   ]
  },
  {
   "attachments": {
    "image.png": {
     "image/png": "[encoded data removed]"
    }
   },
   "cell_type": "markdown",
   "metadata": {},
   "source": [
    "![image.png](attachment:image.png)"
   ]
  },
  {
   "cell_type": "markdown",
   "metadata": {},
   "source": [
    "#### Color palettes."
   ]
  },
  {
   "cell_type": "code",
   "execution_count": null,
   "metadata": {},
   "outputs": [],
   "source": [
    "sex_type_colors = ['#78C850',  # 1\n",
    "                    '#F08030',  # 2\n",
    "                    '#6890F0',  # 3\n",
    "                    '#A8B820',  # 4\n",
    "                    '#A8A878',  # 5\n",
    "                    '#A040A0',  # 6\n",
    "                   ]"
   ]
  },
  {
   "cell_type": "code",
   "execution_count": null,
   "metadata": {},
   "outputs": [],
   "source": [
    "sns.violinplot(x='size', y='tip', data = tips, palette=sex_type_colors) # Set color palette"
   ]
  },
  {
   "cell_type": "markdown",
   "metadata": {},
   "source": [
    "### Swarm Plot\n",
    "https://seaborn.pydata.org/generated/seaborn.swarmplot.html?highlight=swarmplot#seaborn.swarmplot"
   ]
  },
  {
   "cell_type": "code",
   "execution_count": null,
   "metadata": {},
   "outputs": [],
   "source": [
    "# Swarm plot with Pokemon color palette\n",
    "sns.swarmplot(x='size', y='tip', data=tips, palette=sex_type_colors)"
   ]
  },
  {
   "cell_type": "markdown",
   "metadata": {},
   "source": [
    "#### Overlaying plots"
   ]
  },
  {
   "cell_type": "code",
   "execution_count": null,
   "metadata": {},
   "outputs": [],
   "source": [
    "# Set figure size with matplotlib\n",
    "plt.figure(figsize=(10,6))\n",
    " \n",
    "# Create plot\n",
    "sns.violinplot(x='size',\n",
    "               y='tip', \n",
    "               data=tips, \n",
    "               inner=None, # Remove the bars inside the violins\n",
    "               palette=sex_type_colors)\n",
    " \n",
    "sns.swarmplot(x='size', \n",
    "              y='tip', \n",
    "              data=tips, \n",
    "              color='k', # Make points black\n",
    "              alpha=0.7) # and slightly transparent\n",
    " \n",
    "# Set title with matplotlib\n",
    "plt.title('tip by sex')"
   ]
  },
  {
   "cell_type": "markdown",
   "metadata": {},
   "source": [
    "### Heatmap\n",
    "https://seaborn.pydata.org/generated/seaborn.heatmap.html?highlight=heatmap#seaborn.heatmap"
   ]
  },
  {
   "cell_type": "code",
   "execution_count": null,
   "metadata": {},
   "outputs": [],
   "source": [
    "corr = stats_tips.corr()\n",
    "\n",
    "# Heatmap\n",
    "sns.heatmap(corr)"
   ]
  },
  {
   "attachments": {
    "image.png": {
     "image/png": "[encoded data removed]"
    }
   },
   "cell_type": "markdown",
   "metadata": {},
   "source": [
    "![image.png](attachment:image.png)"
   ]
  },
  {
   "cell_type": "markdown",
   "metadata": {},
   "source": [
    "### Histogram\n",
    "\n",
    "https://seaborn.pydata.org/generated/seaborn.distplot.html"
   ]
  },
  {
   "cell_type": "code",
   "execution_count": null,
   "metadata": {},
   "outputs": [],
   "source": [
    "sns.distplot(tips.tip)"
   ]
  },
  {
   "cell_type": "markdown",
   "metadata": {},
   "source": [
    "### Bar plot\n",
    "\n",
    "https://seaborn.pydata.org/generated/seaborn.barplot.html"
   ]
  },
  {
   "cell_type": "code",
   "execution_count": null,
   "metadata": {},
   "outputs": [],
   "source": [
    "sns.barplot(x=\"day\", y=\"total_bill\", data=tips, palette=sex_type_colors)\n",
    "    \n",
    "    \n",
    "# Rotate x-labels\n",
    "plt.xticks(rotation=-45)"
   ]
  },
  {
   "cell_type": "code",
   "execution_count": null,
   "metadata": {},
   "outputs": [],
   "source": [
    "# Count Plot (a.k.a. Bar Plot)\n",
    "sns.countplot(x='sex', data=tips, palette=sex_type_colors)\n",
    "\n",
    "# Rotate x-labels\n",
    "plt.xticks(rotation=-45)"
   ]
  },
  {
   "cell_type": "markdown",
   "metadata": {},
   "source": [
    "### Factor Plot"
   ]
  },
  {
   "cell_type": "code",
   "execution_count": null,
   "metadata": {},
   "outputs": [],
   "source": [
    "# Factor Plot\n",
    "g = sns.factorplot(x='size', \n",
    "                   y='tip', \n",
    "                   data=tips, \n",
    "                   hue='sex',  # Color by stage\n",
    "                   col='sex',  # Separate by stage\n",
    "                   kind='swarm') # Swarmplot\n",
    " \n",
    "# Rotate x-axis labels\n",
    "g.set_xticklabels(rotation=-45)\n",
    " \n",
    "# Doesn't work because only rotates last plot\n",
    "# plt.xticks(rotation=-45)"
   ]
  },
  {
   "cell_type": "markdown",
   "metadata": {},
   "source": [
    "### Density Plot\n",
    "https://seaborn.pydata.org/generated/seaborn.kdeplot.html?highlight=kdeplot#seaborn.kdeplot"
   ]
  },
  {
   "cell_type": "code",
   "execution_count": null,
   "metadata": {},
   "outputs": [],
   "source": [
    "# Density Plot\n",
    "sns.kdeplot(tips.total_bill, tips.tip)"
   ]
  },
  {
   "cell_type": "markdown",
   "metadata": {},
   "source": [
    "### Joint Distribution Plot\n",
    "https://seaborn.pydata.org/generated/seaborn.jointplot.html?highlight=jointplot#seaborn.jointplot"
   ]
  },
  {
   "cell_type": "code",
   "execution_count": null,
   "metadata": {},
   "outputs": [],
   "source": [
    "# Joint Distribution Plot\n",
    "sns.jointplot(x='total_bill', y='tip', data=tips)"
   ]
  },
  {
   "cell_type": "code",
   "execution_count": null,
   "metadata": {},
   "outputs": [],
   "source": [
    "sns.jointplot(\"total_bill\", \"tip\", data=tips, kind=\"hex\")"
   ]
  },
  {
   "cell_type": "code",
   "execution_count": null,
   "metadata": {},
   "outputs": [],
   "source": []
  }
 ],
 "metadata": {
  "kernelspec": {
   "display_name": "Python 3",
   "language": "python",
   "name": "python3"
  },
  "language_info": {
   "codemirror_mode": {
    "name": "ipython",
    "version": 3
   },
   "file_extension": ".py",
   "mimetype": "text/x-python",
   "name": "python",
   "nbconvert_exporter": "python",
   "pygments_lexer": "ipython3",
   "version": "3.7.4"
  }
 },
 "nbformat": 4,
 "nbformat_minor": 2
}
