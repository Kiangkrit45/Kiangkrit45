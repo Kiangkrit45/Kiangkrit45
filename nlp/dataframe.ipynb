{
 "cells": [
  {
   "cell_type": "markdown",
   "metadata": {},
   "source": [
    "# Importing Data"
   ]
  },
  {
   "cell_type": "markdown",
   "metadata": {},
   "source": [
    "## Dataset\n",
    "https://huggingface.co/datasets/pythainlp/wisesight_sentiment"
   ]
  },
  {
   "cell_type": "code",
   "execution_count": null,
   "metadata": {},
   "outputs": [],
   "source": [
    "import pandas as pd\n",
    "\n",
    "splits = {'train': 'wisesight_sentiment/train-00000-of-00001.parquet', 'validation': 'wisesight_sentiment/validation-00000-of-00001.parquet', 'test': 'wisesight_sentiment/test-00000-of-00001.parquet'}\n",
    "df = pd.read_parquet(\"hf://datasets/pythainlp/wisesight_sentiment/\" + splits[\"train\"])\n",
    "df['category'] = df['category'].replace({0: \"pos\", 1: \"neu\", 2: \"neg\"})\n",
    "df = df[df['category'] != 3]\n",
    "df"
   ]
  },
  {
   "cell_type": "code",
   "execution_count": null,
   "metadata": {},
   "outputs": [],
   "source": [
    "df.to_csv(r\"datasets\\wisesight_sentiment.csv\", index=False, encoding='utf-8-sig')"
   ]
  },
  {
   "cell_type": "markdown",
   "metadata": {},
   "source": [
    "## Transformer\n",
    "https://huggingface.co/poom-sci/WangchanBERTa-finetuned-sentiment"
   ]
  },
  {
   "cell_type": "code",
   "execution_count": null,
   "metadata": {},
   "outputs": [],
   "source": [
    "from transformers import AutoTokenizer, AutoModelForSequenceClassification\n",
    "\n",
    "tokenizer = AutoTokenizer.from_pretrained(\"poom-sci/WangchanBERTa-finetuned-sentiment\")\n",
    "model = AutoModelForSequenceClassification.from_pretrained(\"poom-sci/WangchanBERTa-finetuned-sentiment\")"
   ]
  },
  {
   "cell_type": "markdown",
   "metadata": {},
   "source": [
    "# Testing"
   ]
  },
  {
   "cell_type": "code",
   "execution_count": null,
   "metadata": {},
   "outputs": [],
   "source": [
    "import pandas as pd"
   ]
  },
  {
   "cell_type": "markdown",
   "metadata": {},
   "source": [
    "## Opening DFs"
   ]
  },
  {
   "cell_type": "code",
   "execution_count": null,
   "metadata": {},
   "outputs": [],
   "source": [
    "# cleaning\n",
    "def cleaning(df):\n",
    "    df = df[df['sentiment'] != 'q']\n",
    "    df.loc[df['sentiment'] == 'neu', :] = df[df['sentiment'] == 'neu'].sample(frac=1/3, random_state=42)\n",
    "    df.dropna(inplace=True)\n",
    "    return df\n",
    "\n",
    "# new_df = cleaning(df3)"
   ]
  },
  {
   "cell_type": "code",
   "execution_count": 64,
   "metadata": {},
   "outputs": [],
   "source": [
    "df1 = pd.read_csv(r'datasets\\wisesight_sentiment.csv', names=['text', 'sentiment'], header=None)\n",
    "df1 = df1.iloc[1: , :]\n",
    "# print(df1.sentiment.value_counts())\n",
    "\n",
    "df2 = pd.read_csv(r'datasets\\all_aug.csv', header=None)\n",
    "df2 = df2.iloc[1:, :2] # remove first row and get only the first two columns\n",
    "df2 = df2[[1, 0]] # swap columns\n",
    "df2.columns = ['text', 'sentiment']\n",
    "# print(df2.sentiment.value_counts())\n",
    "\n",
    "df3 = pd.read_csv(r'datasets\\all_df.csv', header=None)\n",
    "df3 = df3.iloc[1: , :]\n",
    "df3 = df3[[1, 0]]\n",
    "df3.columns = ['text', 'sentiment']\n",
    "# print(df3.sentiment.value_counts())"
   ]
  },
  {
   "cell_type": "code",
   "execution_count": 65,
   "metadata": {},
   "outputs": [
    {
     "data": {
      "text/plain": [
       "sentiment\n",
       "neg    193\n",
       "pos    148\n",
       "Name: count, dtype: int64"
      ]
     },
     "execution_count": 65,
     "metadata": {},
     "output_type": "execute_result"
    }
   ],
   "source": [
    "amy = pd.read_csv(r'datasets\\general_amy.csv', sep='\\t', names=['text', 'sentiment'], header=None)\n",
    "review = pd.read_csv(r'datasets\\review_shopping.csv', sep='\\t', names=['text', 'sentiment'], header=None)\n",
    "tcas = pd.read_csv(r'datasets\\tcas61.csv', sep='\\t', names=['text', 'sentiment'], header=None)\n",
    "\n",
    "lst = [amy, review, tcas]\n",
    "df4 = pd.concat(lst)\n",
    "df4.sentiment.value_counts()"
   ]
  },
  {
   "cell_type": "markdown",
   "metadata": {},
   "source": [
    "## Concatenate DFs"
   ]
  },
  {
   "cell_type": "code",
   "execution_count": 66,
   "metadata": {},
   "outputs": [
    {
     "data": {
      "text/plain": [
       "sentiment\n",
       "neu    14874\n",
       "neg     6947\n",
       "pos     4700\n",
       "Name: count, dtype: int64"
      ]
     },
     "execution_count": 66,
     "metadata": {},
     "output_type": "execute_result"
    }
   ],
   "source": [
    "pdLst = [df1, df2, df3, df4]\n",
    "\n",
    "new_df = pd.concat(pdLst)\n",
    "new_df.drop_duplicates(inplace=True)\n",
    "new_df = new_df[new_df['sentiment'] != 'q']\n",
    "new_df.dropna(inplace=True)\n",
    "\n",
    "new_df.sentiment.value_counts()"
   ]
  },
  {
   "cell_type": "code",
   "execution_count": 67,
   "metadata": {},
   "outputs": [
    {
     "name": "stdout",
     "output_type": "stream",
     "text": [
      "sentiment\n",
      "neu    7437\n",
      "neg    6947\n",
      "pos    4700\n",
      "Name: count, dtype: int64\n"
     ]
    }
   ],
   "source": [
    "neu_sample = new_df[new_df['sentiment'] == 'neu'].sample(frac=1/2, random_state=42)\n",
    "new_df = pd.concat([new_df[new_df['sentiment'] != 'neu'], neu_sample])\n",
    "new_df = new_df.sample(frac=1, random_state=42).reset_index(drop=True)\n",
    "\n",
    "print(new_df['sentiment'].value_counts())"
   ]
  },
  {
   "cell_type": "markdown",
   "metadata": {},
   "source": [
    "## Save to CSV"
   ]
  },
  {
   "cell_type": "code",
   "execution_count": null,
   "metadata": {},
   "outputs": [],
   "source": [
    "df4.sentiment.value_counts()"
   ]
  },
  {
   "cell_type": "code",
   "execution_count": null,
   "metadata": {},
   "outputs": [],
   "source": [
    "print(df4.sentiment.value_counts())"
   ]
  },
  {
   "cell_type": "code",
   "execution_count": 68,
   "metadata": {},
   "outputs": [],
   "source": [
    "new_df.to_csv(r\"datasets\\big_sample.csv\", index=False, encoding='utf-8-sig')"
   ]
  }
 ],
 "metadata": {
  "kernelspec": {
   "display_name": "base",
   "language": "python",
   "name": "python3"
  },
  "language_info": {
   "codemirror_mode": {
    "name": "ipython",
    "version": 3
   },
   "file_extension": ".py",
   "mimetype": "text/x-python",
   "name": "python",
   "nbconvert_exporter": "python",
   "pygments_lexer": "ipython3",
   "version": "3.11.7"
  }
 },
 "nbformat": 4,
 "nbformat_minor": 2
}
