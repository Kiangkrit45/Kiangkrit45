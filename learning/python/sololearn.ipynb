{
 "cells": [
  {
   "cell_type": "markdown",
   "metadata": {},
   "source": [
    "### Fibonacci"
   ]
  },
  {
   "cell_type": "markdown",
   "metadata": {},
   "source": [
    "The Fibonacci sequence is one of the most famous formulas in mathematics.\n",
    "Each number in the sequence is the sum of the two numbers that precede it.\n",
    "For example, here is the Fibonacci sequence for 10 numbers, starting from 0: 0, 1, 1, 2, 3, 5, 8, 13, 21, 34.\n",
    "\n",
    "Write a program to take N (variable num in code template) positive numbers as input, \n",
    "and recursively calculate and output the first N numbers of the Fibonacci sequence (starting from 0).\n",
    "\n",
    "Sample Input\\\n",
    "6\n",
    "\n",
    "Sample Output\\\n",
    "0\\\n",
    "1\\\n",
    "1\\\n",
    "2\\\n",
    "3\\\n",
    "5"
   ]
  },
  {
   "cell_type": "code",
   "execution_count": null,
   "metadata": {},
   "outputs": [],
   "source": [
    "num = int(input())\n",
    "\n",
    "def fibonacci(n):\n",
    "    return n if n <= 1 else (fibonacci(n-1) + fibonacci(n-2))\n",
    "\n",
    "for i in range(num):\n",
    "    print(fibonacci(i))"
   ]
  },
  {
   "cell_type": "markdown",
   "metadata": {},
   "source": [
    "### House Prices"
   ]
  },
  {
   "cell_type": "markdown",
   "metadata": {},
   "source": [
    "You are given an array that represents house prices.\n",
    "Calculate and output the percentage of houses that are within one standard deviation from the mean.\n",
    "To calculate the percentage, divide the number of houses that satisfy the condition by the total number of houses, and multiply the result by 100."
   ]
  },
  {
   "cell_type": "code",
   "execution_count": null,
   "metadata": {},
   "outputs": [],
   "source": [
    "import numpy as np\n",
    "import math\n",
    "\n",
    "data = np.array([\n",
    "    150000, 125000, 320000, 540000, 200000,\n",
    "    120000, 160000, 230000, 280000, 290000,\n",
    "    300000, 500000, 420000, 100000, 150000, 280000])\n",
    "\n",
    "lower = float((np.mean(data) - np.std(data)))\n",
    "upper = float((np.mean(data) + np.std(data)))\n",
    "\n",
    "my_list = np.array([i for i in data if i > lower and i < upper])\n",
    "\n",
    "print(len(my_list) / len(data) * 100)"
   ]
  },
  {
   "cell_type": "markdown",
   "metadata": {},
   "source": [
    "### Juice Maker"
   ]
  },
  {
   "cell_type": "markdown",
   "metadata": {},
   "source": [
    "You are given a Juice class, which has name and capacity properties.\n",
    "You need to complete the code to enable and adding of two Juice objects, resulting in a new Juice object with the combined capacity and names of the two juices being added.\n",
    "\n",
    "For example, if you add an Orange juice with 1.0 capacity and an Apple juice with 2.5 capacity, the resulting juice should have:\n",
    "name: Orange&Apple\n",
    "capacity: 3.5\n",
    "\n",
    "The names have been combined using an & symbol.\n",
    "Use the \"\\_\\_add\\_\\_\" method to define a custom behavior for the + operator and return the resulting object."
   ]
  },
  {
   "cell_type": "code",
   "execution_count": null,
   "metadata": {},
   "outputs": [],
   "source": [
    "class Juice:\n",
    "    def __init__(self, name, capacity):\n",
    "        self.name = name\n",
    "        self.capacity = capacity\n",
    "\n",
    "    def __str__(self):\n",
    "        return (self.name + ' ('+str(self.capacity)+'L)')\n",
    "\n",
    "    def __add__(self, other):\n",
    "        return Juice(self.name + \"&\" + other.name, self.capacity + other.capacity)\n",
    "\n",
    "a = Juice('Orange', 1.5)\n",
    "b = Juice('Apple', 2.0)\n",
    "\n",
    "result = a + b\n",
    "print(result)"
   ]
  },
  {
   "cell_type": "markdown",
   "metadata": {},
   "source": [
    "### Longest Word"
   ]
  },
  {
   "cell_type": "markdown",
   "metadata": {},
   "source": [
    "Given a text as input, find and output the longest word.\n",
    "\n",
    "Sample Input\n",
    "this is an awesome text\n",
    "\n",
    "Sample Output\\\n",
    "awesome\n",
    "\n",
    "Recall the split(' ') method, which returns a list of words of the string."
   ]
  },
  {
   "cell_type": "code",
   "execution_count": null,
   "metadata": {},
   "outputs": [],
   "source": [
    "def main():\n",
    "    txt = input()\n",
    "    longest_str = max(txt.split(), key=len)\n",
    "    return longest_str\n",
    "print(main())"
   ]
  },
  {
   "cell_type": "markdown",
   "metadata": {},
   "source": [
    "### Phone Number Validator"
   ]
  },
  {
   "cell_type": "markdown",
   "metadata": {},
   "source": [
    "You are given a number input, and need to check if it is a valid phone number.\n",
    "A valid phone number has exactly 8 digits and starts with 1, 8 or 9.\n",
    "Output \"Valid\" if the number is valid and \"Invalid\", if it is not.\n",
    "\n",
    "You can use a regular expression to check if the input matches the given pattern.\n",
    "\n",
    "Sample Input: 81239870\\\n",
    "Sample Output: Valid\n",
    "\n",
    "Test Case 1:\n",
    "\n",
    "Input: 81234567\\\n",
    "Expected Output: Valid\n",
    "\n",
    "Test Case 2:\n",
    "\n",
    "Input: 57345672\\\n",
    "Expected Output: Invalid"
   ]
  },
  {
   "cell_type": "code",
   "execution_count": null,
   "metadata": {},
   "outputs": [],
   "source": [
    "import re\n",
    "\n",
    "phone_num = input()\n",
    "rule = r\"^[189]\"\n",
    "\n",
    "def main():\n",
    "    if re.match(rule, phone_num) and len(phone_num) < 9:\n",
    "        print(\"Valid\")\n",
    "    else:\n",
    "        print(\"Invalid\")\n",
    "main()"
   ]
  },
  {
   "cell_type": "markdown",
   "metadata": {},
   "source": [
    "### Registration System"
   ]
  },
  {
   "cell_type": "markdown",
   "metadata": {},
   "source": [
    "You are making a registration form for a website.\n",
    "The form has a name field, which should be more than 3 characters long.\n",
    "Any name that has less than 4 characters is invalid.\n",
    "Complete the code to take the name as input, and raise an exception if the name is invalid, outputting \"Invalid Name\". Output \"Account Created\" if the name is valid.\n",
    "\n",
    "Sample Input\\\n",
    "abc\n",
    "\n",
    "Sample Output\\\n",
    "Invalid Name"
   ]
  },
  {
   "cell_type": "code",
   "execution_count": null,
   "metadata": {},
   "outputs": [],
   "source": [
    "try:\n",
    "    name = input()\n",
    "    count = 0\n",
    "    for i in name:\n",
    "        count += 1\n",
    "    if count > 3:\n",
    "        print(\"Account Created\")\n",
    "    else:\n",
    "        raise Exception\n",
    "except:\n",
    "    print(\"Invalid Name\")"
   ]
  },
  {
   "cell_type": "markdown",
   "metadata": {},
   "source": [
    "### Shooting Game"
   ]
  },
  {
   "cell_type": "markdown",
   "metadata": {},
   "source": [
    "You are creating a shooting game!\n",
    "The game has two types of enemies, aliens and monsters. You shoot the aliens using your laser, and monsters using your gun.\n",
    "Each hit decreases the lives of the enemies by 1.\n",
    "The given code declares a generic Enemy class, as well as the Alien and Monster classes, with their corresponding lives count.\n",
    "It also defines the hit() method for the Enemy class.\n",
    "\n",
    "You need to do the following to complete the program:\n",
    "\\1. Inherit the Alien and Monster classes from the Enemy class.\n",
    "\\2. Complete the while loop that continuously takes the weapon of choice from user input and call the corresponding object's hit() method.\n",
    "\n",
    "Sample Input\\\n",
    "laser\\\n",
    "laser\\\n",
    "gun\\\n",
    "exit\n",
    "\n",
    "Sample Output\\\n",
    "Alien has 4 lives\\\n",
    "Alien has 3 lives\\\n",
    "Monster has 2 lives\n"
   ]
  },
  {
   "cell_type": "code",
   "execution_count": null,
   "metadata": {},
   "outputs": [],
   "source": [
    "class Enemy:\n",
    "    name = \"\"\n",
    "    lives = 0\n",
    "    def __init__(self, name, lives):\n",
    "        self.name = name\n",
    "        self.lives = lives\n",
    "    def hit(self):\n",
    "        self.lives -= 1\n",
    "        if self.lives <= 0:\n",
    "            print(self.name + ' killed')\n",
    "        else:\n",
    "            print(self.name + ' has '+ str(self.lives) + ' lives')\n",
    "\n",
    "class Monster (Enemy):\n",
    "    def __init__(self):\n",
    "        super().__init__('Monster', 3)    \n",
    "        \n",
    "class Alien (Enemy):\n",
    "    def __init__(self):\n",
    "        super().__init__('Alien', 5)\n",
    "  \n",
    "monster = Monster()\n",
    "alien = Alien()\n",
    "\n",
    "while True:\n",
    "    x = input()\n",
    "    if x == 'exit':\n",
    "        break\n",
    "    elif x == \"laser\":\n",
    "        alien.hit()\n",
    "    elif x == \"gun\":\n",
    "        monster.hit()\n",
    "    else:\n",
    "        raise ValueError(\"Invalid input\")"
   ]
  },
  {
   "cell_type": "markdown",
   "metadata": {},
   "source": [
    "### Text Analysis"
   ]
  },
  {
   "cell_type": "markdown",
   "metadata": {},
   "source": [
    "You are making a program to analyze text.\n",
    "Take the text as the first input and a letter as the second input,\n",
    "and output the frequency of that letter in the text as a whole percentage.\n",
    "\n",
    "Sample Input\\\n",
    "hello\\\n",
    "l\n",
    "\n",
    "Sample Output\\\n",
    "40\n",
    "\n",
    "The letter l appears 2 times in the text hello, which has 5 letters.\n",
    "So, the frequency would be (2/5)*100 = 40."
   ]
  },
  {
   "cell_type": "code",
   "execution_count": null,
   "metadata": {},
   "outputs": [],
   "source": [
    "def main():\n",
    "    string = input()\n",
    "    char = input()\n",
    "    frequency = 0\n",
    "    for i in string:\n",
    "        if i in char:\n",
    "            frequency += 1\n",
    "    frequency = (frequency / len(string)) * 100\n",
    "    print(int(frequency))\n",
    "main()"
   ]
  }
 ],
 "metadata": {
  "kernelspec": {
   "display_name": "base",
   "language": "python",
   "name": "python3"
  },
  "language_info": {
   "codemirror_mode": {
    "name": "ipython",
    "version": 3
   },
   "file_extension": ".py",
   "mimetype": "text/x-python",
   "name": "python",
   "nbconvert_exporter": "python",
   "pygments_lexer": "ipython3",
   "version": "3.11.7"
  }
 },
 "nbformat": 4,
 "nbformat_minor": 2
}
