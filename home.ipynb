{
 "cells": [
  {
   "cell_type": "code",
   "execution_count": null,
   "metadata": {},
   "outputs": [],
   "source": [
    "import os\n",
    "\n",
    "cwd = os.getcwd()\n",
    "\n",
    "cwd"
   ]
  },
  {
   "cell_type": "code",
   "execution_count": null,
   "metadata": {},
   "outputs": [],
   "source": [
    "p = 7/(7+4)\n",
    "r = 7/11\n",
    "f1 = 2*p*r / (p+r)\n",
    "\n",
    "print(f\"p: {p*100:.2f}%\\nr: {r*100:.2f}%\\nf1: {f1*100:.2f}%\")"
   ]
  },
  {
   "cell_type": "code",
   "execution_count": 1,
   "metadata": {},
   "outputs": [
    {
     "name": "stdout",
     "output_type": "stream",
     "text": [
      "Collecting pythainlp\n",
      "  Using cached pythainlp-5.0.4-py3-none-any.whl.metadata (7.7 kB)\n",
      "Requirement already satisfied: requests>=2.22.0 in c:\\users\\kiang\\anaconda3\\lib\\site-packages (from pythainlp) (2.32.2)\n",
      "Requirement already satisfied: tzdata in c:\\users\\kiang\\anaconda3\\lib\\site-packages (from pythainlp) (2023.3)\n",
      "Requirement already satisfied: charset-normalizer<4,>=2 in c:\\users\\kiang\\anaconda3\\lib\\site-packages (from requests>=2.22.0->pythainlp) (2.0.4)\n",
      "Requirement already satisfied: idna<4,>=2.5 in c:\\users\\kiang\\anaconda3\\lib\\site-packages (from requests>=2.22.0->pythainlp) (3.7)\n",
      "Requirement already satisfied: urllib3<3,>=1.21.1 in c:\\users\\kiang\\anaconda3\\lib\\site-packages (from requests>=2.22.0->pythainlp) (2.2.2)\n",
      "Requirement already satisfied: certifi>=2017.4.17 in c:\\users\\kiang\\anaconda3\\lib\\site-packages (from requests>=2.22.0->pythainlp) (2024.8.30)\n",
      "Using cached pythainlp-5.0.4-py3-none-any.whl (17.9 MB)\n",
      "Installing collected packages: pythainlp\n",
      "Successfully installed pythainlp-5.0.4\n"
     ]
    }
   ],
   "source": [
    "!pip3 install pythainlp"
   ]
  },
  {
   "cell_type": "code",
   "execution_count": null,
   "metadata": {},
   "outputs": [],
   "source": [
    "from pythainlp import word_tokenize, Tokenizer\n",
    "\n",
    "text = \"สมชายเห็นชอบกลบทบาทนี้\"\n",
    "\n",
    "print(\"newmm  :\", word_tokenize(text))\n",
    "print(\"longest:\", word_tokenize(text, engine=\"longest\"))"
   ]
  },
  {
   "cell_type": "code",
   "execution_count": null,
   "metadata": {},
   "outputs": [],
   "source": [
    "เห็น = 0.1\n",
    "ชอบ = 0.2\n",
    "เห็นชอบ = 0.3\n",
    "กล = 0.2\n",
    "ชอบกล = 0.4\n",
    "บท = 0.3\n",
    "กลบท = 0.5\n",
    "\n",
    "route1 = round(เห็น * ชอบกล * บท, 4) # เห็น ชอบกล บท\n",
    "route2 = round(เห็น * ชอบ * กล * บท, 4) # เห็น ชอบ กล บท\n",
    "route3 = round(เห็น * ชอบ * กลบท, 4) # เห็น ชอบ กลบท\n",
    "route4 = round(เห็นชอบ * กล * บท, 4) # เห็นชอบ กล บท\n",
    "route5 = round(เห็นชอบ * กลบท, 4) # เห็นชอบ กลบท\n",
    "\n",
    "print(f'เห็น|ชอบกล|บท, p = {route1}')\n",
    "print(f'เห็น|ชอบ|กล|บท, p = {route2}')\n",
    "print(f'เห็น|ชอบ|กลบท, p = {route3}')\n",
    "print(f'เห็นชอบ|กล|บท, p = {route4}')\n",
    "print(f'เห็นชอบ|กลบท, p = {route5}')"
   ]
  },
  {
   "cell_type": "code",
   "execution_count": null,
   "metadata": {},
   "outputs": [],
   "source": [
    "probs = {\n",
    "    'เห็น': 0.1, 'ชอบ': 0.2,'เห็นชอบ': 0.3, 'กล': 0.2,\n",
    "    'ชอบกล': 0.4, 'บท': 0.3, 'กลบท': 0.5\n",
    "}\n",
    "\n",
    "routes = {\n",
    "    'เห็น|ชอบกล|บท': probs['เห็น'] * probs['ชอบกล'] * probs['บท'],\n",
    "    'เห็น|ชอบ|กล|บท': probs['เห็น'] * probs['ชอบ'] * probs['กล'] * probs['บท'],\n",
    "    'เห็น|ชอบ|กลบท': probs['เห็น'] * probs['ชอบ'] * probs['กลบท'],\n",
    "    'เห็นชอบ|กล|บท': probs['เห็นชอบ'] * probs['กล'] * probs['บท'],\n",
    "    'เห็นชอบ|กลบท': probs['เห็นชอบ'] * probs['กลบท']\n",
    "}\n",
    "\n",
    "for route, probability in routes.items():\n",
    "    print(f'{route}, p = {round(probability, 4)}')"
   ]
  },
  {
   "cell_type": "code",
   "execution_count": null,
   "metadata": {},
   "outputs": [],
   "source": [
    "import math\n",
    "\n",
    "def calculate_tfidf(tf_td, N, df_t):\n",
    "    idf_t = math.log(N / (df_t))\n",
    "    return tf_td * idf_t\n",
    "\n",
    "tf_td = 3 \n",
    "N = 100\n",
    "df_t = 10\n",
    "\n",
    "tfidf_weight = calculate_tfidf(tf_td, N, df_t)\n",
    "print(f\"TF-IDF weight: {tfidf_weight}\")"
   ]
  }
 ],
 "metadata": {
  "kernelspec": {
   "display_name": "base",
   "language": "python",
   "name": "python3"
  },
  "language_info": {
   "codemirror_mode": {
    "name": "ipython",
    "version": 3
   },
   "file_extension": ".py",
   "mimetype": "text/x-python",
   "name": "python",
   "nbconvert_exporter": "python",
   "pygments_lexer": "ipython3",
   "version": "3.12.4"
  }
 },
 "nbformat": 4,
 "nbformat_minor": 2
}
