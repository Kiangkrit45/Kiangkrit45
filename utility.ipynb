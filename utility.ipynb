{
 "cells": [
  {
   "cell_type": "markdown",
   "metadata": {},
   "source": [
    "# Days From Today"
   ]
  },
  {
   "cell_type": "markdown",
   "metadata": {},
   "source": [
    "- calculate time difference\n",
    "- take inputs as days and hours\n",
    "- e.g. 22 days from today"
   ]
  },
  {
   "cell_type": "code",
   "execution_count": 1,
   "metadata": {},
   "outputs": [
    {
     "name": "stdout",
     "output_type": "stream",
     "text": [
      "\n",
      "Current time: 2025-01-03 10:51:00\n",
      "Future time: 2025-02-05 12:51:00\n",
      "Time difference: 33 days, 2 hours\n"
     ]
    }
   ],
   "source": [
    "import datetime\n",
    "\n",
    "def round_to_minute(dt):\n",
    "    return dt.replace(second=0, microsecond=0) + datetime.timedelta(minutes=dt.second//30)\n",
    "\n",
    "def calculate_future_time(days=0, hours=0):\n",
    "    current_time = round_to_minute(datetime.datetime.now())\n",
    "    future_time = current_time + datetime.timedelta(days=days, hours=hours)\n",
    "    return future_time\n",
    "\n",
    "def format_time_difference(timedelta):\n",
    "    days = timedelta.days\n",
    "    hours, remainder = divmod(timedelta.seconds, 3600)\n",
    "    if days == 0 and hours == 0:\n",
    "        return \"invalid\"\n",
    "    elif days == 0:\n",
    "        return f\"{hours} hour{'s' if hours != 1 else ''}\"\n",
    "    elif hours == 0:\n",
    "        return f\"{days} day{'s' if days != 1 else ''}\"\n",
    "    else:\n",
    "        return f\"{days} day{'s' if days != 1 else ''}, {hours} hour{'s' if hours != 1 else ''}\"\n",
    "\n",
    "def main():\n",
    "    try:\n",
    "        days = int(input(\"Days: \") or 0)\n",
    "        hours = int(input(\"Hours: \") or 0)\n",
    "    except ValueError:\n",
    "        print(\"Invalid input\")\n",
    "        return\n",
    "\n",
    "    current_time = round_to_minute(datetime.datetime.now())\n",
    "    future_time = calculate_future_time(days, hours)\n",
    "    time_difference = future_time - current_time\n",
    "\n",
    "    print(f\"\\nCurrent time: {current_time}\")\n",
    "    print(f\"Future time: {future_time}\")\n",
    "    print(f\"Time difference: {format_time_difference(time_difference)}\")\n",
    "\n",
    "if __name__ == \"__main__\":\n",
    "    main()"
   ]
  },
  {
   "cell_type": "markdown",
   "metadata": {},
   "source": [
    "# File Counter"
   ]
  },
  {
   "cell_type": "code",
   "execution_count": null,
   "metadata": {},
   "outputs": [],
   "source": [
    "import os\n",
    "\n",
    "def count_files(path, output_file):\n",
    "    total_files = 0\n",
    "    total_subfolders = 0\n",
    "    total_empty_folders = 0\n",
    "    empty_folders = []\n",
    "    output_str = ''\n",
    "    for root, dirs, files in os.walk(path):\n",
    "        folder_name = os.path.basename(root)\n",
    "        indent_level = root.count(os.path.sep)\n",
    "        output_str += \" \" * 2 * indent_level + folder_name + '\\n'\n",
    "        num_files = len(files)\n",
    "        output_str += \" \" * 2 * (indent_level + 1) + \"has \" + str(num_files) + \" file(s)\\n\"\n",
    "        total_files += num_files\n",
    "        total_subfolders += len(dirs)\n",
    "        extensions = set([os.path.splitext(file)[1] for file in files])\n",
    "        for extension in extensions:\n",
    "            if extension:\n",
    "                num_files_ext = len([file for file in files if os.path.splitext(file)[1] == extension])\n",
    "                output_str += \" \" * 2 * (indent_level + 1) + \"- \" + str(num_files_ext) + \" file(s) with extension \" + extension + \"\\n\"\n",
    "        if not any([num_files, len(dirs)]):\n",
    "            total_empty_folders += 1\n",
    "            empty_folders.append(root)\n",
    "        output_str += '\\n'\n",
    "    output_str += path + \" has \" + str(total_files) + \" file(s) + \" + str(total_subfolders) + \" subfolder(s)\\n\"\n",
    "    if total_empty_folders:\n",
    "        output_str += path + \" has \" + str(total_empty_folders) + \" empty folder(s):\\n\"\n",
    "        for folder in empty_folders:\n",
    "            output_str += \" \" * 2 + folder + '\\n'\n",
    "    with open(output_file, 'w', encoding='utf-8') as f:\n",
    "        f.write(output_str)\n",
    "    print(output_str)\n",
    "    \n",
    "path = os.getcwd()\n",
    "output_file = os.path.join(path, 'file_counts.txt')\n",
    "count_files(path, output_file)"
   ]
  },
  {
   "cell_type": "markdown",
   "metadata": {},
   "source": [
    "# File Name Add"
   ]
  },
  {
   "cell_type": "code",
   "execution_count": null,
   "metadata": {},
   "outputs": [],
   "source": [
    "import os\n",
    "\n",
    "# get the current working directory\n",
    "cwd = os.getcwd()\n",
    "\n",
    "# loop through every file in the directory\n",
    "for file_name in os.listdir(cwd):\n",
    "    \n",
    "    # check if the file is a regular file\n",
    "    if os.path.isfile(file_name):\n",
    "\n",
    "        name, ext = os.path.splitext(file_name)\n",
    "        new_name = \"new_\" + name + ext\n",
    "        os.rename(file_name, new_name)\n",
    "        print(f\"Renamed {file_name} to {new_name}\")"
   ]
  },
  {
   "cell_type": "markdown",
   "metadata": {},
   "source": [
    "# File Name Enumerator"
   ]
  },
  {
   "cell_type": "code",
   "execution_count": null,
   "metadata": {},
   "outputs": [],
   "source": [
    "import os\n",
    "\n",
    "cwd = os.getcwd()\n",
    "files = os.listdir(cwd)\n",
    "num_digits = len(str(len(files)))\n",
    "\n",
    "for i, file_name in enumerate(files):\n",
    "    if os.path.isfile(os.path.join(cwd, file_name)):\n",
    "        name, ext = os.path.splitext(file_name)\n",
    "        index_str = str(i+1).zfill(num_digits)\n",
    "        new_file_name = \"\" + index_str + ext\n",
    "        os.rename(os.path.join(cwd, file_name), os.path.join(cwd, new_file_name))\n",
    "        print(f\"Renamed {file_name} to {new_file_name}\")"
   ]
  }
 ],
 "metadata": {
  "kernelspec": {
   "display_name": "base",
   "language": "python",
   "name": "python3"
  },
  "language_info": {
   "codemirror_mode": {
    "name": "ipython",
    "version": 3
   },
   "file_extension": ".py",
   "mimetype": "text/x-python",
   "name": "python",
   "nbconvert_exporter": "python",
   "pygments_lexer": "ipython3",
   "version": "3.11.7"
  }
 },
 "nbformat": 4,
 "nbformat_minor": 2
}
