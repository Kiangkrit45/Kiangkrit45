{
 "cells": [
  {
   "cell_type": "markdown",
   "metadata": {},
   "source": [
    "# Print Command\n",
    "https://realpython.com/python-print/"
   ]
  },
  {
   "cell_type": "markdown",
   "metadata": {},
   "source": [
    "## Print String"
   ]
  },
  {
   "cell_type": "code",
   "execution_count": null,
   "metadata": {},
   "outputs": [],
   "source": [
    "print('Hello World')\n",
    "\n",
    "print('ปรเมษฐ์ ธันวานนท์')\n",
    "\n",
    "print(\"I'm XX years old.\")\n",
    "\n",
    "print('He told me \"Do something !\"')"
   ]
  },
  {
   "cell_type": "code",
   "execution_count": null,
   "metadata": {},
   "outputs": [],
   "source": [
    "print('Hello World')\n",
    "\n",
    "print('ปรเมษฐ์ ธันวานนท์')\n",
    "\n",
    "print('I \\'m XX years old.')\n",
    "\n",
    "print(\"He told me \\\"Do something !\\\"\")"
   ]
  },
  {
   "cell_type": "code",
   "execution_count": null,
   "metadata": {},
   "outputs": [],
   "source": [
    "# %s : string\n",
    "\n",
    "print('%s' %'Hello World')\n",
    "\n",
    "print('%s' %'ปรเมษฐ์ ธันวานนท์')\n",
    "\n",
    "print('%s' %'I\\'m xx years old.')\n",
    "\n",
    "print('%s %s' %('ปรเมษฐ์ ธันวานนท์','xx years'))"
   ]
  },
  {
   "cell_type": "markdown",
   "metadata": {},
   "source": [
    "## Print Numeric"
   ]
  },
  {
   "cell_type": "code",
   "execution_count": null,
   "metadata": {},
   "outputs": [],
   "source": [
    "print('100')\n",
    "\n",
    "print('10000.100')\n",
    "\n",
    "print(10000.100)"
   ]
  },
  {
   "cell_type": "code",
   "execution_count": null,
   "metadata": {},
   "outputs": [],
   "source": [
    "# %d : numeric or decimal\n",
    "\n",
    "print('%d' %100)\n",
    "\n",
    "print('%d' %100.11)\n",
    "\n",
    "print('%d' %-100)\n",
    "\n",
    "print('%d' %-100.11)"
   ]
  },
  {
   "cell_type": "code",
   "execution_count": null,
   "metadata": {},
   "outputs": [],
   "source": [
    "#%f : Float\n",
    "\n",
    "print('%f' %100)\n",
    "\n",
    "print('%f' %100.11)\n",
    "\n",
    "print('%f' %-100)\n",
    "\n",
    "print('%f' %-100.11)"
   ]
  },
  {
   "cell_type": "code",
   "execution_count": null,
   "metadata": {},
   "outputs": [],
   "source": [
    "pi = 3.1415926536\n",
    "\n",
    "print('%d' %pi)\n",
    "\n",
    "print('%f' %pi)\n",
    "\n",
    "print('%.2f' %pi)\n",
    "\n",
    "print('%.4f' %pi)\n",
    "\n",
    "print('%.10f' %pi)"
   ]
  },
  {
   "cell_type": "markdown",
   "metadata": {},
   "source": [
    "# Python Variables and Data types\n",
    "https://www.tutorialspoint.com/python/python_variable_types.htm"
   ]
  },
  {
   "cell_type": "markdown",
   "metadata": {},
   "source": [
    "#Python variables can only begin with a letter(A-Z/a-z) or an underscore(_)."
   ]
  },
  {
   "cell_type": "code",
   "execution_count": null,
   "metadata": {},
   "outputs": [],
   "source": [
    "a = 1\n",
    "\n",
    "b = 2\n",
    "\n",
    "c,d = 3,4\n",
    "\n",
    "x = y = z = 10\n",
    "\n",
    "print(\"a = \" , a)\n",
    "print(\"b = \" , b)\n",
    "print(\"c = \" , c)\n",
    "print(\"d = \" , d)\n",
    "print(\"x = \" , x)\n",
    "print(\"y = \" , y)\n",
    "print(\"z = \" , z)"
   ]
  },
  {
   "cell_type": "code",
   "execution_count": null,
   "metadata": {},
   "outputs": [],
   "source": [
    "var_1 = 12\n",
    "print(var_1)"
   ]
  },
  {
   "cell_type": "code",
   "execution_count": null,
   "metadata": {},
   "outputs": [],
   "source": [
    "1var = 10\n",
    "print(1var)"
   ]
  },
  {
   "cell_type": "code",
   "execution_count": null,
   "metadata": {},
   "outputs": [],
   "source": [
    "1_var = 10\n",
    "print(1_var)"
   ]
  },
  {
   "cell_type": "code",
   "execution_count": null,
   "metadata": {},
   "outputs": [],
   "source": [
    "ตัวแปร = 15\n",
    "\n",
    "print('ค่าที่ได้ : %s' %ตัวแปร)"
   ]
  },
  {
   "cell_type": "markdown",
   "metadata": {},
   "source": [
    "# String"
   ]
  },
  {
   "cell_type": "code",
   "execution_count": null,
   "metadata": {},
   "outputs": [],
   "source": [
    "name = \"Mateo\"\n",
    "country = \"Ukrain\"\n",
    "language = 'Python'\n",
    "interest = 'Mountain Everest'\n",
    "print(name)\n",
    "print(country)\n",
    "print(language)\n",
    "print(interest)"
   ]
  },
  {
   "cell_type": "code",
   "execution_count": null,
   "metadata": {},
   "outputs": [],
   "source": [
    "sentent1 = \"What's your name?\"\n",
    "sentent2 = 'I\\'m Mateo.'\n",
    "sentent3 = \"He said \\\"I would learn Python first\\\".\"\n",
    "sentent4 = 'His teach replied \"Oh well!\"'\n",
    "print (sentent1)\n",
    "print (sentent2)\n",
    "print (sentent3)\n",
    "print (sentent4)"
   ]
  },
  {
   "cell_type": "code",
   "execution_count": null,
   "metadata": {},
   "outputs": [],
   "source": [
    "site = 'python' + '.org'\n",
    "\n",
    "print(site)"
   ]
  },
  {
   "cell_type": "code",
   "execution_count": null,
   "metadata": {},
   "outputs": [],
   "source": [
    "tutorial = 'Python' ' Language'\n",
    "\n",
    "print(tutorial)"
   ]
  },
  {
   "cell_type": "code",
   "execution_count": null,
   "metadata": {},
   "outputs": [],
   "source": [
    "print(site + tutorial)\n",
    "\n",
    "print(site + ' ' + tutorial)\n",
    "\n",
    "print('%s %s' %(site, tutorial))\n",
    "\n",
    "print('It \\'s deference ?: %s %s' %(site, tutorial))"
   ]
  },
  {
   "cell_type": "code",
   "execution_count": null,
   "metadata": {},
   "outputs": [],
   "source": [
    "type(site)"
   ]
  },
  {
   "cell_type": "markdown",
   "metadata": {},
   "source": [
    "# Number"
   ]
  },
  {
   "cell_type": "code",
   "execution_count": null,
   "metadata": {},
   "outputs": [],
   "source": [
    "# Integer\n",
    "a = 7\n",
    "b = 3\n",
    "print ('a = %d' % a)\n",
    "print ('b = %d' % b)"
   ]
  },
  {
   "cell_type": "code",
   "execution_count": null,
   "metadata": {},
   "outputs": [],
   "source": [
    "c = a + b\n",
    "d = a / b\n",
    "\n",
    "print ('c = %d' % c)\n",
    "print ('d = ', d)"
   ]
  },
  {
   "cell_type": "code",
   "execution_count": null,
   "metadata": {},
   "outputs": [],
   "source": [
    "type(a)"
   ]
  },
  {
   "cell_type": "code",
   "execution_count": null,
   "metadata": {},
   "outputs": [],
   "source": [
    "# Floating point number\n",
    "speed = 34.12\n",
    "pi = 3.142\n",
    "print ('speed = %f' % speed)\n",
    "print ('pi = %f' % pi)\n"
   ]
  },
  {
   "cell_type": "code",
   "execution_count": null,
   "metadata": {},
   "outputs": [],
   "source": [
    "var_01 = 2.31E5\n",
    "var_02 = 1.3E-3\n",
    "\n",
    "print ('height = %.2f' % var_01)\n",
    "print ('length = %.4f' % var_02)"
   ]
  },
  {
   "cell_type": "code",
   "execution_count": null,
   "metadata": {},
   "outputs": [],
   "source": [
    "type(speed)"
   ]
  },
  {
   "cell_type": "code",
   "execution_count": null,
   "metadata": {},
   "outputs": [],
   "source": [
    "a = '7'\n",
    "\n",
    "print ('a = %s' % a)"
   ]
  },
  {
   "cell_type": "code",
   "execution_count": null,
   "metadata": {},
   "outputs": [],
   "source": [
    "pi = 3.142\n",
    "\n",
    "print ('pi = %s' % pi)"
   ]
  },
  {
   "cell_type": "markdown",
   "metadata": {},
   "source": [
    "# boolean"
   ]
  },
  {
   "cell_type": "code",
   "execution_count": null,
   "metadata": {},
   "outputs": [],
   "source": [
    "is_male = True\n",
    "print(is_male)"
   ]
  },
  {
   "cell_type": "code",
   "execution_count": null,
   "metadata": {},
   "outputs": [],
   "source": [
    "is_female = False\n",
    "print(is_female)"
   ]
  },
  {
   "cell_type": "code",
   "execution_count": null,
   "metadata": {},
   "outputs": [],
   "source": [
    "print('Male = %s , Female = %s'  %(is_male, is_female ))"
   ]
  },
  {
   "cell_type": "code",
   "execution_count": null,
   "metadata": {},
   "outputs": [],
   "source": [
    "type(is_male)"
   ]
  },
  {
   "cell_type": "markdown",
   "metadata": {},
   "source": [
    "# List & Tuple"
   ]
  },
  {
   "cell_type": "markdown",
   "metadata": {},
   "source": [
    "## Create List\n",
    "#### ใช้วงเล็บเหลี่ยมในการสร้าง สามารถแก้ไขข้อมูลข้างในได้"
   ]
  },
  {
   "cell_type": "code",
   "execution_count": null,
   "metadata": {},
   "outputs": [],
   "source": [
    "# Declare lists\n",
    "list_numbers = [1, 2, 4, 6, 8, 19]\n",
    "\n",
    "list_names = [\"Mateo\", \"Danny\", \"James\", \"Thomas\", \"Luke\"]\n",
    "\n",
    "list_mixed = [-2, 5, 84.2, \"Mountain\", 'Python']\n",
    "\n",
    "# Display lists\n",
    "print(list_numbers)\n",
    "print(list_names)\n",
    "print(list_mixed)"
   ]
  },
  {
   "cell_type": "code",
   "execution_count": null,
   "metadata": {},
   "outputs": [],
   "source": [
    "list_numbers.append(5)\n",
    "\n",
    "print(list_numbers)"
   ]
  },
  {
   "cell_type": "markdown",
   "metadata": {},
   "source": [
    "## Create Tuple\n",
    "#### ใช้วงเล็บธรรมดาในการสร้าง แต่ไม่สามารถแก้ไขข้อมูลข้างในได้"
   ]
  },
  {
   "cell_type": "code",
   "execution_count": null,
   "metadata": {},
   "outputs": [],
   "source": [
    "tuple_numbers = (1, 2, 4, 6, 8, 19)\n",
    "\n",
    "tuple_names = (\"Mateo\", \"Danny\", \"James\", \"Thomas\", \"Luke\")\n",
    "\n",
    "tuple_mixed = (-2, 5, 84.2, \"Mountain\", 'Python')\n",
    "\n",
    "print(numbers)\n",
    "print(names)\n",
    "print(mixed)"
   ]
  },
  {
   "cell_type": "code",
   "execution_count": null,
   "metadata": {},
   "outputs": [],
   "source": [
    "tuple_numbers.append(5)\n",
    "\n",
    "print(tuple_numbers)"
   ]
  },
  {
   "cell_type": "code",
   "execution_count": null,
   "metadata": {},
   "outputs": [],
   "source": [
    "print(len(list_numbers))"
   ]
  },
  {
   "cell_type": "code",
   "execution_count": null,
   "metadata": {},
   "outputs": [],
   "source": [
    "# Display lists using the for loops\n",
    "for n in list_numbers:\n",
    "    \n",
    "    print(n, end=\" \")\n",
    "    "
   ]
  },
  {
   "cell_type": "markdown",
   "metadata": {},
   "source": [
    "## Read List\n",
    "#### ตำแหน่ง(index) เริ่มต้นของ List จะเหมือน Array คือเริ่มต้นที่ 0"
   ]
  },
  {
   "cell_type": "code",
   "execution_count": null,
   "metadata": {},
   "outputs": [],
   "source": [
    "languages = [\"C\", \"C++\", \"Java\", \"Python\", \"PHP\"]\n",
    "\n",
    "print(\"Index at 0 = \", languages[0])\n",
    "\n",
    "print(\"Index at 3 = \", languages[3])"
   ]
  },
  {
   "cell_type": "code",
   "execution_count": null,
   "metadata": {},
   "outputs": [],
   "source": [
    "print(\"Index at -1 = \", languages[-1])\n",
    "\n",
    "print(\"Index at -3 = \", languages[-3])"
   ]
  },
  {
   "cell_type": "code",
   "execution_count": null,
   "metadata": {},
   "outputs": [],
   "source": [
    "languages[0] = \"Scalar\"\n",
    "\n",
    "print(\"Index at 0 = \", languages[0])"
   ]
  },
  {
   "cell_type": "markdown",
   "metadata": {},
   "source": [
    "### Append"
   ]
  },
  {
   "cell_type": "code",
   "execution_count": null,
   "metadata": {},
   "outputs": [],
   "source": [
    "languages.append('C')\n",
    "\n",
    "print(languages)"
   ]
  },
  {
   "cell_type": "code",
   "execution_count": null,
   "metadata": {},
   "outputs": [],
   "source": [
    "languages.append('R')\n",
    "\n",
    "print(languages)"
   ]
  },
  {
   "cell_type": "markdown",
   "metadata": {},
   "source": [
    "### Insert"
   ]
  },
  {
   "cell_type": "code",
   "execution_count": null,
   "metadata": {},
   "outputs": [],
   "source": [
    "languages.insert(1,'R')\n",
    "\n",
    "print(languages)"
   ]
  },
  {
   "cell_type": "code",
   "execution_count": null,
   "metadata": {},
   "outputs": [],
   "source": [
    "languages.insert(5,'Swift')\n",
    "\n",
    "print(languages)"
   ]
  },
  {
   "cell_type": "markdown",
   "metadata": {},
   "source": [
    "### Extend"
   ]
  },
  {
   "cell_type": "code",
   "execution_count": null,
   "metadata": {},
   "outputs": [],
   "source": [
    "list_2 = [1,2,3,4,5]\n",
    "\n",
    "languages.extend(list_2)\n",
    "\n",
    "print(languages)"
   ]
  },
  {
   "cell_type": "markdown",
   "metadata": {},
   "source": [
    "### Del , Remove"
   ]
  },
  {
   "cell_type": "code",
   "execution_count": null,
   "metadata": {},
   "outputs": [],
   "source": [
    "del languages[5]\n",
    "\n",
    "print(languages)"
   ]
  },
  {
   "cell_type": "code",
   "execution_count": null,
   "metadata": {},
   "outputs": [],
   "source": [
    "languages.remove('PHP')\n",
    "\n",
    "print(languages)"
   ]
  },
  {
   "cell_type": "code",
   "execution_count": null,
   "metadata": {},
   "outputs": [],
   "source": [
    "languages.remove('PHP')\n",
    "\n",
    "print(languages)"
   ]
  },
  {
   "cell_type": "code",
   "execution_count": null,
   "metadata": {},
   "outputs": [],
   "source": [
    "languages.remove('R')\n",
    "\n",
    "print(languages)"
   ]
  },
  {
   "cell_type": "code",
   "execution_count": null,
   "metadata": {},
   "outputs": [],
   "source": [
    "languages.remove('R')\n",
    "\n",
    "print(languages)"
   ]
  },
  {
   "cell_type": "code",
   "execution_count": null,
   "metadata": {},
   "outputs": [],
   "source": [
    "check = 'C' in languages\n",
    "\n",
    "print(check)"
   ]
  },
  {
   "cell_type": "code",
   "execution_count": null,
   "metadata": {},
   "outputs": [],
   "source": [
    "check = 'PHP' not in languages\n",
    "\n",
    "print(check)"
   ]
  },
  {
   "cell_type": "code",
   "execution_count": null,
   "metadata": {},
   "outputs": [],
   "source": [
    "print(languages)"
   ]
  },
  {
   "cell_type": "code",
   "execution_count": null,
   "metadata": {},
   "outputs": [],
   "source": [
    "index = languages.index('Java')\n",
    "\n",
    "print(index)"
   ]
  },
  {
   "cell_type": "code",
   "execution_count": null,
   "metadata": {},
   "outputs": [],
   "source": [
    "index = languages.index('PHP')\n",
    "\n",
    "print(index)"
   ]
  },
  {
   "cell_type": "code",
   "execution_count": null,
   "metadata": {},
   "outputs": [],
   "source": [
    "languages.clear()\n",
    "\n",
    "print(languages)"
   ]
  },
  {
   "cell_type": "code",
   "execution_count": null,
   "metadata": {},
   "outputs": [],
   "source": [
    "type(languages)"
   ]
  },
  {
   "cell_type": "markdown",
   "metadata": {},
   "source": [
    "## List 2 dimention"
   ]
  },
  {
   "cell_type": "code",
   "execution_count": null,
   "metadata": {},
   "outputs": [],
   "source": [
    "list_2d = [[1,2],[3,4],[5,6],[7,8]]\n",
    "\n",
    "print(list_2d)"
   ]
  },
  {
   "cell_type": "code",
   "execution_count": null,
   "metadata": {},
   "outputs": [],
   "source": [
    "print('index 0,0 = %d' %list_2d[0][0])"
   ]
  },
  {
   "cell_type": "code",
   "execution_count": null,
   "metadata": {},
   "outputs": [],
   "source": [
    "print('index 2,1 = %d' %list_2d[2][1])"
   ]
  },
  {
   "cell_type": "code",
   "execution_count": null,
   "metadata": {},
   "outputs": [],
   "source": [
    "print('index 3,0 = %d' %list_2d[3][0])"
   ]
  },
  {
   "cell_type": "markdown",
   "metadata": {},
   "source": [
    "## List 3 dimention"
   ]
  },
  {
   "cell_type": "code",
   "execution_count": null,
   "metadata": {},
   "outputs": [],
   "source": [
    "list_3d = [ [[1,2],[3,4]] , [[5,6],[7,8]] , [[9,10],[11,12]] , [[13,14],[15,16]] ]"
   ]
  },
  {
   "cell_type": "code",
   "execution_count": null,
   "metadata": {},
   "outputs": [],
   "source": [
    "print('index 0,1,1 = %d' %list_3d[0][1][1])"
   ]
  },
  {
   "cell_type": "code",
   "execution_count": null,
   "metadata": {},
   "outputs": [],
   "source": [
    "print('index 3,1,0 = %d' %list_3d[3][1][0])"
   ]
  },
  {
   "cell_type": "code",
   "execution_count": null,
   "metadata": {},
   "outputs": [],
   "source": [
    "print('index 2,0,1 = %d' %list_3d[2][0][1])"
   ]
  },
  {
   "cell_type": "markdown",
   "metadata": {},
   "source": [
    "# Dictonary"
   ]
  },
  {
   "cell_type": "markdown",
   "metadata": {},
   "source": [
    "## Create Dictionary\n",
    "\n",
    "#### ใช้วงเล็บปีกกาในการสร้าง\n",
    "\n",
    "variable = { 'key' : 'value', 'key' : 'value', .... }"
   ]
  },
  {
   "cell_type": "code",
   "execution_count": null,
   "metadata": {},
   "outputs": [],
   "source": [
    "scores = {'james': 1828, 'thomas': 3628, 'danny': 9310}\n",
    "print(scores)"
   ]
  },
  {
   "cell_type": "code",
   "execution_count": null,
   "metadata": {},
   "outputs": [],
   "source": [
    "numbers = {1: 'One', 2: 'Two', 3: 'Three'}\n",
    "print(numbers)"
   ]
  },
  {
   "cell_type": "code",
   "execution_count": null,
   "metadata": {},
   "outputs": [],
   "source": [
    "scores = {'james': 1828, 'thomas': 3628, 'danny': 9310, 'bobby': 4401}\n",
    "\n",
    "print(scores)"
   ]
  },
  {
   "cell_type": "markdown",
   "metadata": {},
   "source": [
    "## Read Dictionary"
   ]
  },
  {
   "cell_type": "code",
   "execution_count": null,
   "metadata": {},
   "outputs": [],
   "source": [
    "# display data\n",
    "\n",
    "print('james =>', scores['james'])\n",
    "\n",
    "print('thomas =>', scores['thomas'])\n",
    "\n",
    "print('danny =>', scores['danny'])\n",
    "\n",
    "print('bobby =>', scores['bobby'])\n"
   ]
  },
  {
   "cell_type": "markdown",
   "metadata": {},
   "source": [
    "## Update Dictionary"
   ]
  },
  {
   "cell_type": "code",
   "execution_count": null,
   "metadata": {},
   "outputs": [],
   "source": [
    "scores['james'] = scores['james'] + 1000\n",
    "\n",
    "scores['thomas'] = 100\n",
    "\n",
    "print('james =>', scores['james'])\n",
    "\n",
    "print('thomas =>', scores['thomas'])"
   ]
  },
  {
   "cell_type": "code",
   "execution_count": null,
   "metadata": {},
   "outputs": [],
   "source": [
    "scores['peter'] = 1999\n",
    "\n",
    "print(scores)"
   ]
  },
  {
   "cell_type": "code",
   "execution_count": null,
   "metadata": {},
   "outputs": [],
   "source": [
    "dict_01 = {'firstname' : 'Peter' , 'lastname' : 'Parker', 'age' : '28', 'exgirl_name' : ['gift','cherry','wine']}\n",
    "\n",
    "print(dict_01)"
   ]
  },
  {
   "cell_type": "code",
   "execution_count": null,
   "metadata": {},
   "outputs": [],
   "source": [
    "type(dict_01['exgirl_name'])"
   ]
  },
  {
   "cell_type": "code",
   "execution_count": null,
   "metadata": {},
   "outputs": [],
   "source": [
    "print(dict_01['exgirl_name'][0])"
   ]
  },
  {
   "cell_type": "code",
   "execution_count": null,
   "metadata": {},
   "outputs": [],
   "source": [
    "dict_02 = { 0 : {'firstname' : 'Peter' , 'lastname' : 'Parker', 'age' : '28', 'height' : '181 cm', 'weight' : '72 kg'}\n",
    "           , 1 : {'firstname' : 'Tom' , 'lastname' : 'Hang', 'age' : '43', 'height' : '172 cm', 'weight' : '70 kg'}}\n",
    "\n",
    "print(dict_02)\n"
   ]
  },
  {
   "cell_type": "code",
   "execution_count": null,
   "metadata": {},
   "outputs": [],
   "source": [
    "dict_02"
   ]
  },
  {
   "cell_type": "code",
   "execution_count": null,
   "metadata": {},
   "outputs": [],
   "source": [
    "print(dict_02[0]['firstname'])"
   ]
  },
  {
   "cell_type": "code",
   "execution_count": null,
   "metadata": {},
   "outputs": [],
   "source": [
    "print(dict_02[1]['firstname'])"
   ]
  },
  {
   "cell_type": "code",
   "execution_count": null,
   "metadata": {},
   "outputs": [],
   "source": [
    "dict_03 = { 0 : {'firstname' : 'Peter' , 'lastname' : 'Parker', 'age' : '28'}\n",
    "           , 1 : {'firstname' : 'Tom' , 'lastname' : 'Hang', 'age' : '43','exgirl_name' : ['gift','cherry','wine']}}\n",
    "\n",
    "print(dict_03)"
   ]
  },
  {
   "cell_type": "code",
   "execution_count": null,
   "metadata": {},
   "outputs": [],
   "source": [
    "print(dict_03[1]['exgirl_name'])"
   ]
  },
  {
   "cell_type": "code",
   "execution_count": null,
   "metadata": {},
   "outputs": [],
   "source": [
    "print(dict_03[0]['exgirl_name'])"
   ]
  },
  {
   "cell_type": "markdown",
   "metadata": {},
   "source": [
    "## Delete Dictionary"
   ]
  },
  {
   "cell_type": "code",
   "execution_count": null,
   "metadata": {},
   "outputs": [],
   "source": [
    "del dict_03[0]['age']\n",
    "\n",
    "print(dict_03)"
   ]
  },
  {
   "cell_type": "code",
   "execution_count": null,
   "metadata": {},
   "outputs": [],
   "source": [
    "dict_03.clear()\n",
    "\n",
    "print(dict_03)"
   ]
  },
  {
   "cell_type": "markdown",
   "metadata": {},
   "source": [
    "## Read Dictionary by For loop"
   ]
  },
  {
   "cell_type": "code",
   "execution_count": null,
   "metadata": {},
   "outputs": [],
   "source": [
    "countries = {'de': 'Germany', 'ua': 'Ukraine',\n",
    "             'th': 'Thailand', 'nl': 'Netherlands'}\n",
    "\n",
    "print(countries)"
   ]
  },
  {
   "cell_type": "code",
   "execution_count": null,
   "metadata": {},
   "outputs": [],
   "source": [
    "print(len(countries))"
   ]
  },
  {
   "cell_type": "code",
   "execution_count": null,
   "metadata": {},
   "outputs": [],
   "source": [
    "for k, v in countries.items():\n",
    "    \n",
    "    print(k, v)\n"
   ]
  },
  {
   "cell_type": "code",
   "execution_count": null,
   "metadata": {},
   "outputs": [],
   "source": [
    "# iterate through keys\n",
    "\n",
    "print('Key:', end = ' ')\n",
    "\n",
    "for k in countries.keys():\n",
    "    \n",
    "    print(k, end = ' ')\n"
   ]
  },
  {
   "cell_type": "code",
   "execution_count": null,
   "metadata": {},
   "outputs": [],
   "source": [
    "print(countries.keys())"
   ]
  },
  {
   "cell_type": "code",
   "execution_count": null,
   "metadata": {},
   "outputs": [],
   "source": [
    "# iterate through values\n",
    "\n",
    "print('\\nValue:', end = ' ')\n",
    "\n",
    "for v in countries.values():\n",
    "    \n",
    "    print(v, end = ' ')"
   ]
  },
  {
   "cell_type": "code",
   "execution_count": null,
   "metadata": {},
   "outputs": [],
   "source": [
    "print(countries.values())"
   ]
  },
  {
   "cell_type": "code",
   "execution_count": null,
   "metadata": {},
   "outputs": [],
   "source": [
    "check = 'de' in countries\n",
    "\n",
    "print(check)"
   ]
  },
  {
   "cell_type": "code",
   "execution_count": null,
   "metadata": {},
   "outputs": [],
   "source": [
    "check = 'usa' not in countries\n",
    "\n",
    "print(check)"
   ]
  },
  {
   "cell_type": "markdown",
   "metadata": {},
   "source": [
    "# Input & Output\n",
    "https://pynative.com/python-input-function-get-user-input/"
   ]
  },
  {
   "cell_type": "code",
   "execution_count": null,
   "metadata": {},
   "outputs": [],
   "source": [
    "name = input(\"Enter your name: \")\n",
    "\n",
    "print(\"Hello \" + name)"
   ]
  },
  {
   "cell_type": "code",
   "execution_count": null,
   "metadata": {},
   "outputs": [],
   "source": [
    "a = int(input(\"Enter first number: \"))\n",
    "\n",
    "b = int(input(\"Enter second number: \"))\n",
    "\n",
    "print(\"a + b = %d\" % (a + b))"
   ]
  },
  {
   "cell_type": "markdown",
   "metadata": {},
   "source": [
    "# Operator\n",
    "https://data-flair.training/blogs/python-operator/"
   ]
  },
  {
   "cell_type": "markdown",
   "metadata": {},
   "source": [
    "### Arithmetic operators"
   ]
  },
  {
   "cell_type": "code",
   "execution_count": null,
   "metadata": {},
   "outputs": [],
   "source": [
    "a = 5\n",
    "b = 3\n",
    "print(\"a + b = \", a + b)\n",
    "print(\"a - b = \", a - b)\n",
    "print(\"a * b = \", a * b)\n",
    "print(\"a / b = \", a / b)\n",
    "print(\"a // b = \", a // b) # floor number to integer\n",
    "print(\"a % b = \", a % b)   # get division remainder\n",
    "print(\"a ** b = \", a ** b) # power"
   ]
  },
  {
   "cell_type": "markdown",
   "metadata": {},
   "source": [
    "### Constant Comparison"
   ]
  },
  {
   "cell_type": "code",
   "execution_count": null,
   "metadata": {},
   "outputs": [],
   "source": [
    "a = 5\n",
    "b = 'name'"
   ]
  },
  {
   "cell_type": "code",
   "execution_count": null,
   "metadata": {},
   "outputs": [],
   "source": [
    "print('a == 5 :', a == 5)\n",
    "print('a == 7 :', a == 7)\n",
    "print('b == \\'name\\' :', b == 'name')\n",
    "print('b == \\'fullname\\' :', b == 'fullname')"
   ]
  },
  {
   "cell_type": "code",
   "execution_count": null,
   "metadata": {},
   "outputs": [],
   "source": [
    "print('a != 5 :', a != 5)\n",
    "print('a != 7 :', a != 7)\n",
    "print('b != \\'name\\' :', b != 'name')\n",
    "print('b != \\'fullname\\' :', b != 'fullname')"
   ]
  },
  {
   "cell_type": "code",
   "execution_count": null,
   "metadata": {},
   "outputs": [],
   "source": [
    "print('a > 4 :', a > 4)\n",
    "print('a > 5 :', a > 5)\n",
    "print('a > 6 :', a > 6)\n"
   ]
  },
  {
   "cell_type": "code",
   "execution_count": null,
   "metadata": {},
   "outputs": [],
   "source": [
    "print('a >= 4 :', a >= 4)\n",
    "print('a >= 5 :', a >= 5)\n",
    "print('a >= 6 :', a >= 6)"
   ]
  },
  {
   "cell_type": "code",
   "execution_count": null,
   "metadata": {},
   "outputs": [],
   "source": [
    "print('a < 4 :', a < 4)\n",
    "print('a < 5 :', a < 5)\n",
    "print('a < 6 :', a < 6)"
   ]
  },
  {
   "cell_type": "code",
   "execution_count": null,
   "metadata": {},
   "outputs": [],
   "source": [
    "print('a <= 4 :', a <= 4)\n",
    "print('a <= 5 :', a <= 5)\n",
    "print('a <= 6 :', a <= 6)"
   ]
  },
  {
   "cell_type": "code",
   "execution_count": null,
   "metadata": {},
   "outputs": [],
   "source": [
    "a = 10\n",
    "b = 8\n",
    "\n",
    "print('a - b == 2:', a - b == 2)"
   ]
  },
  {
   "cell_type": "markdown",
   "metadata": {},
   "source": [
    "### Logical Operators"
   ]
  },
  {
   "cell_type": "code",
   "execution_count": null,
   "metadata": {},
   "outputs": [],
   "source": [
    "T = True\n",
    "F = False"
   ]
  },
  {
   "cell_type": "code",
   "execution_count": null,
   "metadata": {},
   "outputs": [],
   "source": [
    "print('T and T :', T and T)\n",
    "print('T and F :', T and F)\n",
    "print('F and T :', F and T)\n",
    "print('F and F :', F and F)"
   ]
  },
  {
   "cell_type": "code",
   "execution_count": null,
   "metadata": {},
   "outputs": [],
   "source": [
    "print('T or T :', T or T)\n",
    "print('T or F :', T or F)\n",
    "print('F or T :', F or T)\n",
    "print('F or F :', F or F)"
   ]
  },
  {
   "cell_type": "code",
   "execution_count": null,
   "metadata": {},
   "outputs": [],
   "source": [
    "print('not T :', not T)\n",
    "print('not F :', not F)"
   ]
  },
  {
   "cell_type": "code",
   "execution_count": null,
   "metadata": {},
   "outputs": [],
   "source": [
    "print('Log in page')\n",
    "username = input('Username: ')\n",
    "password = input('Password: ')\n",
    "\n",
    "if (username == 'mateo' and password == '3456'):\n",
    "    print('Welcome Mateo, you\\'ve logged in.')\n",
    "else:\n",
    "    print('Invalid username or password.')"
   ]
  },
  {
   "cell_type": "markdown",
   "metadata": {},
   "source": [
    "# Condition Operator"
   ]
  },
  {
   "attachments": {
    "image.png": {
     "image/png": "[encoded data removed]"
    }
   },
   "cell_type": "markdown",
   "metadata": {},
   "source": [
    "![image.png](attachment:image.png)"
   ]
  },
  {
   "cell_type": "markdown",
   "metadata": {},
   "source": [
    "### if"
   ]
  },
  {
   "cell_type": "code",
   "execution_count": null,
   "metadata": {},
   "outputs": [],
   "source": [
    "score = int(input('Please in put score : '))\n",
    "\n",
    "if score >= 20 :\n",
    "    \n",
    "    print('Pass')"
   ]
  },
  {
   "cell_type": "markdown",
   "metadata": {},
   "source": [
    "### if-else"
   ]
  },
  {
   "cell_type": "code",
   "execution_count": null,
   "metadata": {},
   "outputs": [],
   "source": [
    "score = int(input('Please in put score : '))\n",
    "\n",
    "if score >= 20 :\n",
    "    print('Pass')\n",
    "else:\n",
    "    print('Fail')\n"
   ]
  },
  {
   "cell_type": "markdown",
   "metadata": {},
   "source": [
    "### if-elif"
   ]
  },
  {
   "cell_type": "code",
   "execution_count": null,
   "metadata": {},
   "outputs": [],
   "source": [
    "score = int(input('Please in put score : '))\n",
    "\n",
    "if score >= 20 :\n",
    "    \n",
    "    print('Pass')\n",
    "\n",
    "elif score < 20 :\n",
    "    \n",
    "    print('Fail')\n"
   ]
  },
  {
   "cell_type": "markdown",
   "metadata": {},
   "source": [
    "### if-elif-else"
   ]
  },
  {
   "cell_type": "code",
   "execution_count": null,
   "metadata": {},
   "outputs": [],
   "source": [
    "score = int(input('Please in put score : '))\n",
    "\n",
    "if score >= 20 :\n",
    "    \n",
    "    print('A')\n",
    "\n",
    "elif score >= 10 :\n",
    "    \n",
    "    print('B')\n",
    "    \n",
    "elif score < 10 :\n",
    "    \n",
    "    print('C')\n"
   ]
  },
  {
   "cell_type": "markdown",
   "metadata": {},
   "source": [
    "# While loop & For loop"
   ]
  },
  {
   "attachments": {
    "image.png": {
     "image/png": "[encoded data removed]"
    }
   },
   "cell_type": "markdown",
   "metadata": {},
   "source": [
    "![image.png](attachment:image.png)"
   ]
  },
  {
   "cell_type": "markdown",
   "metadata": {},
   "source": [
    "## While loop"
   ]
  },
  {
   "cell_type": "code",
   "execution_count": null,
   "metadata": {},
   "outputs": [],
   "source": [
    "i = 1\n",
    "\n",
    "while i <= 10:\n",
    "    \n",
    "    print(i, end = ', ')\n",
    "    \n",
    "    i = i + 1"
   ]
  },
  {
   "cell_type": "code",
   "execution_count": null,
   "metadata": {},
   "outputs": [],
   "source": [
    "# decrease numbers by 5, start from 50\n",
    "i = 50\n",
    "\n",
    "while i >= 0:\n",
    "    \n",
    "    print(i, end = ', ')\n",
    "    \n",
    "    i = i - 5"
   ]
  },
  {
   "cell_type": "code",
   "execution_count": null,
   "metadata": {},
   "outputs": [],
   "source": [
    "# print number series for 2n + 1\n",
    "# where 1 <= n <= 10\n",
    "\n",
    "n = 1\n",
    "\n",
    "while n <= 10:\n",
    "    \n",
    "    print(2 * n + 1, end = ', ')\n",
    "    \n",
    "    n = n + 1"
   ]
  },
  {
   "cell_type": "markdown",
   "metadata": {},
   "source": [
    "## For loop"
   ]
  },
  {
   "cell_type": "markdown",
   "metadata": {},
   "source": [
    "#### range"
   ]
  },
  {
   "cell_type": "code",
   "execution_count": null,
   "metadata": {},
   "outputs": [],
   "source": [
    "a = [range(10)] # range(end)\n",
    "print(a)"
   ]
  },
  {
   "cell_type": "code",
   "execution_count": null,
   "metadata": {},
   "outputs": [],
   "source": [
    "a = [*range(10)]\n",
    "print(a)"
   ]
  },
  {
   "cell_type": "code",
   "execution_count": null,
   "metadata": {},
   "outputs": [],
   "source": [
    "b = [*range(1,11)] # range(start, end)\n",
    "print(b)"
   ]
  },
  {
   "cell_type": "code",
   "execution_count": null,
   "metadata": {},
   "outputs": [],
   "source": [
    "c = [*range(0,30,5)] # range(start, end, step)\n",
    "print(c)"
   ]
  },
  {
   "cell_type": "code",
   "execution_count": null,
   "metadata": {},
   "outputs": [],
   "source": [
    "d = [*range(0,-10,-1)] # range(start, end,step)\n",
    "print(d)"
   ]
  },
  {
   "cell_type": "code",
   "execution_count": null,
   "metadata": {},
   "outputs": [],
   "source": [
    "for n in range(10):\n",
    "    \n",
    "    print(n, end=' ')"
   ]
  },
  {
   "cell_type": "code",
   "execution_count": null,
   "metadata": {},
   "outputs": [],
   "source": [
    "for n in range(0,30,5):\n",
    "    \n",
    "    print(n, end=' ')"
   ]
  },
  {
   "cell_type": "code",
   "execution_count": null,
   "metadata": {},
   "outputs": [],
   "source": [
    "for n in range(0,-10,-1):\n",
    "    \n",
    "    print(n, end=' ')"
   ]
  },
  {
   "cell_type": "code",
   "execution_count": null,
   "metadata": {},
   "outputs": [],
   "source": [
    "names = ['Mateo', 'John', 'Eric', 'Mark', 'Robert']\n",
    "\n",
    "for i in range(len(names)):\n",
    "    \n",
    "    print(names[i], end = ', ')"
   ]
  },
  {
   "cell_type": "code",
   "execution_count": null,
   "metadata": {},
   "outputs": [],
   "source": [
    "for i in names:\n",
    "    \n",
    "    print(i, end = ', ')"
   ]
  },
  {
   "cell_type": "code",
   "execution_count": null,
   "metadata": {},
   "outputs": [],
   "source": [
    "names = ['Mateo', 'John', 'Eric', 'Mark', 'Robert']\n",
    "\n",
    "search = 'Mark'\n",
    "\n",
    "for n in names:\n",
    "    \n",
    "    if search == n:\n",
    "        \n",
    "        print(search + ' is found in list')\n",
    "        \n",
    "        #break\n",
    "        \n",
    "    else:\n",
    "    \n",
    "        print('Not found!')"
   ]
  },
  {
   "cell_type": "markdown",
   "metadata": {},
   "source": [
    "# Easy Test #"
   ]
  },
  {
   "cell_type": "markdown",
   "metadata": {},
   "source": [
    "#จงเขียนโปรแกรมคำนวณหาค่าดัชนีมวลกาย\n",
    "#input 1 : น้ำหนัก (kg.)\n",
    "#input 2 : ส่วนสูง (cm.)\n",
    "#สูตรคำนวณ น้ำหนัก (kg.) / [ส่วนสูง(m.)]ยกกำลัง 2\n",
    "#โดยมีเงื่อนดังนี้\n",
    "#BMI น้อยกว่า 18.50 : ผอม\n",
    "#BMI ระหว่าง 18.50 - 22.90 : ปกติ\n",
    "#ฺBMI ระหว่าง 23 - 24.90 : โรคอ้วนระดับ 1\n",
    "#ฺBMI ระหว่าง 25 - 29.90 : โรคอ้วนระดับ 2\n",
    "#BMI มากกว่า 30 : โรคอ้วนระดับ 3"
   ]
  },
  {
   "cell_type": "code",
   "execution_count": null,
   "metadata": {},
   "outputs": [],
   "source": []
  },
  {
   "cell_type": "markdown",
   "metadata": {},
   "source": [
    "# Easy Test 2\n",
    "\n",
    "bmi_array = [29.5, 17.25, 23.5, 46.5, 11.25]\n",
    "\n",
    "เขียนโปรแกรมเพื่อนำข้อมูลใน bmi_array ไปเช็คเงื่อนไขว่าอยู่ในเกณฑ์ใด\n",
    "\n",
    "Result\n",
    "\n",
    "ค่า BMI = 29.50 อยู่เกณฑ์ โรคอ้วนระดับ 2\n",
    "\n",
    "ค่า BMI = 17.25 อยู่เกณฑ์ ผอม\n",
    "\n",
    "ค่า BMI = 23.50 อยู่เกณฑ์ โรคอ้วนระดับ 1\n",
    "\n",
    "ค่า BMI = 46.50 อยู่เกณฑ์ โรคอ้วนระดับ 3\n",
    "\n",
    "ค่า BMI = 11.25 อยู่เกณฑ์ ผอม"
   ]
  },
  {
   "cell_type": "code",
   "execution_count": null,
   "metadata": {},
   "outputs": [],
   "source": []
  },
  {
   "cell_type": "markdown",
   "metadata": {},
   "source": [
    "# Easy Test 3\n",
    "\n",
    "#dictionary = {'A': 29.50, 'B': 17.25, 'C': 23.50, 'D': 46.50, 'F' : 11.25}"
   ]
  },
  {
   "cell_type": "code",
   "execution_count": null,
   "metadata": {},
   "outputs": [],
   "source": []
  }
 ],
 "metadata": {
  "kernelspec": {
   "display_name": "Python 3",
   "language": "python",
   "name": "python3"
  },
  "language_info": {
   "codemirror_mode": {
    "name": "ipython",
    "version": 3
   },
   "file_extension": ".py",
   "mimetype": "text/x-python",
   "name": "python",
   "nbconvert_exporter": "python",
   "pygments_lexer": "ipython3",
   "version": "3.7.4"
  }
 },
 "nbformat": 4,
 "nbformat_minor": 2
}
