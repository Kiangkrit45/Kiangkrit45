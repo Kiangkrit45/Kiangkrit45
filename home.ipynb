{
 "cells": [
  {
   "cell_type": "code",
   "execution_count": null,
   "metadata": {},
   "outputs": [],
   "source": [
    "import os\n",
    "\n",
    "cwd = os.getcwd()\n",
    "\n",
    "cwd"
   ]
  },
  {
   "cell_type": "code",
   "execution_count": 7,
   "metadata": {},
   "outputs": [
    {
     "name": "stdout",
     "output_type": "stream",
     "text": [
      "p: 63.64%\n",
      "r: 63.64%\n",
      "f1: 63.64%\n"
     ]
    }
   ],
   "source": [
    "p = 7/(7+4)\n",
    "r = 7/11\n",
    "f1 = 2*p*r / (p+r)\n",
    "\n",
    "print(f\"p: {p*100:.2f}%\\nr: {r*100:.2f}%\\nf1: {f1*100:.2f}%\")\n"
   ]
  },
  {
   "cell_type": "code",
   "execution_count": 1,
   "metadata": {},
   "outputs": [
    {
     "name": "stdout",
     "output_type": "stream",
     "text": [
      "Collecting openai\n",
      "  Downloading openai-1.51.0-py3-none-any.whl.metadata (24 kB)\n",
      "Requirement already satisfied: anyio<5,>=3.5.0 in c:\\users\\kiang\\anaconda3\\lib\\site-packages (from openai) (4.2.0)\n",
      "Requirement already satisfied: distro<2,>=1.7.0 in c:\\users\\kiang\\anaconda3\\lib\\site-packages (from openai) (1.9.0)\n",
      "Requirement already satisfied: httpx<1,>=0.23.0 in c:\\users\\kiang\\anaconda3\\lib\\site-packages (from openai) (0.27.0)\n",
      "Collecting jiter<1,>=0.4.0 (from openai)\n",
      "  Downloading jiter-0.5.0-cp312-none-win_amd64.whl.metadata (3.7 kB)\n",
      "Requirement already satisfied: pydantic<3,>=1.9.0 in c:\\users\\kiang\\anaconda3\\lib\\site-packages (from openai) (2.5.3)\n",
      "Requirement already satisfied: sniffio in c:\\users\\kiang\\anaconda3\\lib\\site-packages (from openai) (1.3.0)\n",
      "Requirement already satisfied: tqdm>4 in c:\\users\\kiang\\anaconda3\\lib\\site-packages (from openai) (4.66.4)\n",
      "Requirement already satisfied: typing-extensions<5,>=4.11 in c:\\users\\kiang\\anaconda3\\lib\\site-packages (from openai) (4.11.0)\n",
      "Requirement already satisfied: idna>=2.8 in c:\\users\\kiang\\anaconda3\\lib\\site-packages (from anyio<5,>=3.5.0->openai) (3.7)\n",
      "Requirement already satisfied: certifi in c:\\users\\kiang\\anaconda3\\lib\\site-packages (from httpx<1,>=0.23.0->openai) (2024.8.30)\n",
      "Requirement already satisfied: httpcore==1.* in c:\\users\\kiang\\anaconda3\\lib\\site-packages (from httpx<1,>=0.23.0->openai) (1.0.2)\n",
      "Requirement already satisfied: h11<0.15,>=0.13 in c:\\users\\kiang\\anaconda3\\lib\\site-packages (from httpcore==1.*->httpx<1,>=0.23.0->openai) (0.14.0)\n",
      "Requirement already satisfied: annotated-types>=0.4.0 in c:\\users\\kiang\\anaconda3\\lib\\site-packages (from pydantic<3,>=1.9.0->openai) (0.6.0)\n",
      "Requirement already satisfied: pydantic-core==2.14.6 in c:\\users\\kiang\\anaconda3\\lib\\site-packages (from pydantic<3,>=1.9.0->openai) (2.14.6)\n",
      "Requirement already satisfied: colorama in c:\\users\\kiang\\anaconda3\\lib\\site-packages (from tqdm>4->openai) (0.4.6)\n",
      "Downloading openai-1.51.0-py3-none-any.whl (383 kB)\n",
      "Downloading jiter-0.5.0-cp312-none-win_amd64.whl (189 kB)\n",
      "Installing collected packages: jiter, openai\n",
      "Successfully installed jiter-0.5.0 openai-1.51.0\n"
     ]
    }
   ],
   "source": []
  },
  {
   "cell_type": "code",
   "execution_count": null,
   "metadata": {},
   "outputs": [],
   "source": [
    "from pythainlp import word_tokenize, Tokenizer\n",
    "\n",
    "text = \"สมชายเห็นชอบกลบทบาทนี้\"\n",
    "\n",
    "print(\"newmm  :\", word_tokenize(text))\n",
    "print(\"longest:\", word_tokenize(text, engine=\"longest\"))"
   ]
  },
  {
   "cell_type": "code",
   "execution_count": null,
   "metadata": {},
   "outputs": [],
   "source": [
    "เห็น = 0.1\n",
    "ชอบ = 0.2\n",
    "เห็นชอบ = 0.3\n",
    "กล = 0.2\n",
    "ชอบกล = 0.4\n",
    "บท = 0.3\n",
    "กลบท = 0.5\n",
    "\n",
    "route1 = round(เห็น * ชอบกล * บท, 4) # เห็น ชอบกล บท\n",
    "route2 = round(เห็น * ชอบ * กล * บท, 4) # เห็น ชอบ กล บท\n",
    "route3 = round(เห็น * ชอบ * กลบท, 4) # เห็น ชอบ กลบท\n",
    "route4 = round(เห็นชอบ * กล * บท, 4) # เห็นชอบ กล บท\n",
    "route5 = round(เห็นชอบ * กลบท, 4) # เห็นชอบ กลบท\n",
    "\n",
    "print(f'เห็น|ชอบกล|บท, p = {route1}')\n",
    "print(f'เห็น|ชอบ|กล|บท, p = {route2}')\n",
    "print(f'เห็น|ชอบ|กลบท, p = {route3}')\n",
    "print(f'เห็นชอบ|กล|บท, p = {route4}')\n",
    "print(f'เห็นชอบ|กลบท, p = {route5}')"
   ]
  },
  {
   "cell_type": "code",
   "execution_count": 1,
   "metadata": {},
   "outputs": [
    {
     "name": "stdout",
     "output_type": "stream",
     "text": [
      "เห็น|ชอบกล|บท, p = 0.012\n",
      "เห็น|ชอบ|กล|บท, p = 0.0012\n",
      "เห็น|ชอบ|กลบท, p = 0.01\n",
      "เห็นชอบ|กล|บท, p = 0.018\n",
      "เห็นชอบ|กลบท, p = 0.15\n"
     ]
    }
   ],
   "source": [
    "probs = {\n",
    "    'เห็น': 0.1, 'ชอบ': 0.2,'เห็นชอบ': 0.3, 'กล': 0.2,\n",
    "    'ชอบกล': 0.4, 'บท': 0.3, 'กลบท': 0.5\n",
    "}\n",
    "\n",
    "routes = {\n",
    "    'เห็น|ชอบกล|บท': probs['เห็น'] * probs['ชอบกล'] * probs['บท'],\n",
    "    'เห็น|ชอบ|กล|บท': probs['เห็น'] * probs['ชอบ'] * probs['กล'] * probs['บท'],\n",
    "    'เห็น|ชอบ|กลบท': probs['เห็น'] * probs['ชอบ'] * probs['กลบท'],\n",
    "    'เห็นชอบ|กล|บท': probs['เห็นชอบ'] * probs['กล'] * probs['บท'],\n",
    "    'เห็นชอบ|กลบท': probs['เห็นชอบ'] * probs['กลบท']\n",
    "}\n",
    "\n",
    "for route, probability in routes.items():\n",
    "    print(f'{route}, p = {round(probability, 4)}')"
   ]
  },
  {
   "cell_type": "code",
   "execution_count": 3,
   "metadata": {},
   "outputs": [
    {
     "name": "stdout",
     "output_type": "stream",
     "text": [
      "TF-IDF weight: 6.907755278982138\n"
     ]
    }
   ],
   "source": [
    "import math\n",
    "\n",
    "def calculate_tfidf(tf_td, N, df_t):\n",
    "    idf_t = math.log(N / (df_t))\n",
    "    return tf_td * idf_t\n",
    "\n",
    "tf_td = 3 \n",
    "N = 100\n",
    "df_t = 10\n",
    "\n",
    "tfidf_weight = calculate_tfidf(tf_td, N, df_t)\n",
    "print(f\"TF-IDF weight: {tfidf_weight}\")"
   ]
  }
 ],
 "metadata": {
  "kernelspec": {
   "display_name": "base",
   "language": "python",
   "name": "python3"
  },
  "language_info": {
   "codemirror_mode": {
    "name": "ipython",
    "version": 3
   },
   "file_extension": ".py",
   "mimetype": "text/x-python",
   "name": "python",
   "nbconvert_exporter": "python",
   "pygments_lexer": "ipython3",
   "version": "3.12.4"
  }
 },
 "nbformat": 4,
 "nbformat_minor": 2
}
