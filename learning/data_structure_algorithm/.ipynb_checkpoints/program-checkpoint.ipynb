{
 "cells": [
  {
   "cell_type": "markdown",
   "id": "7919570a-74ea-4a80-bc86-bbe8e5091b47",
   "metadata": {
    "jp-MarkdownHeadingCollapsed": true
   },
   "source": [
    "# บทที่ 1\n",
    "\n",
    "โครงสร้างข้อมูล คือ ก.จัดการข้อมูลในหน่วยความจำภายในเครื่องคอมพิวเตอร์ \n",
    "\n",
    "อัลกอริทึม คือ ลำดับขั้นตอนการทำงานเพื่อใช้ในการแก้ไขปัญหา\n",
    "\n",
    "ผังงาน เป็นเครื่องมือที่ช่วยออกแบบขั้นตอนการทำงานด้วยสัญลักษณ์\n",
    "\n",
    "โค้ดรหัสเทียม เป็นโครงสร้างรหัสที่มีการร่วมกันทั้งภาษาเขียนกับภาษาคอมพิวเตอร์ เพื่อใช้อธิบายโครงสร้างและลำดับขั้นตอมการทำงานของโปรแกรม โดยไม่อ้างอิงภาษาการเขียนโปรแกรมภาษาหนึ่ง\n",
    "\n",
    "Abstract Data Type เป็นการบอกถึงคุณสมบัติของโครงสร้างข้อมูลและกลุ่มตัวดำเนินการที่กระทำกับโครงสร้างข้อมูล\n",
    "\n",
    "ประเภทของอัลกอริทึมแยกได้เหมือนกับแยกรูปแบบในการแก้ไขปัญหาของโปรแกรมการแยกประเภทของอัลกอริทึมเพื่อแยกรูปแบบอัลกอริทึมในการแก้ไขปัญหานั่นเอง"
   ]
  },
  {
   "cell_type": "code",
   "execution_count": 1,
   "id": "aab16dce-3209-468c-99a7-9581980c2b04",
   "metadata": {},
   "outputs": [
    {
     "name": "stdin",
     "output_type": "stream",
     "text": [
      " 12\n",
      " 2\n"
     ]
    },
    {
     "name": "stdout",
     "output_type": "stream",
     "text": [
      "144\n"
     ]
    }
   ],
   "source": [
    "\"\"\"\n",
    "คำนวณเลขยกกำลังกำหนดให้รับตัวเลข 2 ค่า คือ เลขฐานและเลขยกกำลัง เพื่อนำมาคำนวณเลขยกกำลัง\n",
    "\"\"\"\n",
    "\n",
    "def main():\n",
    "    base = int(input())\n",
    "    power = int(input())\n",
    "    print(base ** power)\n",
    "main()"
   ]
  },
  {
   "cell_type": "code",
   "execution_count": 2,
   "id": "d49978b0-2834-4a74-b592-fb1ba47cda6e",
   "metadata": {},
   "outputs": [
    {
     "name": "stdin",
     "output_type": "stream",
     "text": [
      " 213\n"
     ]
    },
    {
     "name": "stdout",
     "output_type": "stream",
     "text": [
      "0 hr, 3 min, 33 sec\n"
     ]
    }
   ],
   "source": [
    "\"\"\"\n",
    "เปลี่ยนค่าหน่วยเวลาจากหน่วยวินาทีที่รับเข้ามาให้เป็นหน่วยชั่วโมง นาที และวินาที\n",
    "\"\"\"\n",
    "\n",
    "def main():\n",
    "    time = int(input())\n",
    "    hour = time // 3600\n",
    "    minute = (time % 3600) // 60\n",
    "    second = (time % 3600) % 60\n",
    "    print(f\"{hour} hr, {minute} min, {second} sec\")\n",
    "main()"
   ]
  },
  {
   "cell_type": "code",
   "execution_count": null,
   "id": "3dbeb21c-7f37-4314-923c-e891deccb63e",
   "metadata": {},
   "outputs": [],
   "source": [
    "\"\"\"\n",
    "คำนวณอัตราแลกเปลี่ยนจากข้อมูลตัวเลขที่ป้อนเข้ามากำหนดให้เป็นสกุลเงินบาท เปลี่ยนเป็นสกุลเงินประเทศสหรัฐอเมริกา ญี่ปุ่น และจีน กำหนดให้อ้างอิงอัตราแลกเปลี่ยนปัจจุบันในการซื้อขาย\n",
    "\"\"\"\n",
    "\n",
    "def main():\n",
    "    BTH = float(input())\n",
    "    USD = float(BTH * 0.02997)\n",
    "    JPY = float(BTH * 3.44918)\n",
    "    CNY = float(BTH * 0.19101)\n",
    "    print(f\"{USD:.2f} USD\")\n",
    "    print(f\"{JPY:.2f} JPY\")\n",
    "    print(f\"{CNY:.2f} CNY\")\n",
    "main()"
   ]
  },
  {
   "cell_type": "code",
   "execution_count": null,
   "id": "7f42e130-3389-4a43-ad2a-8390c55b275a",
   "metadata": {},
   "outputs": [],
   "source": [
    "\"\"\"\n",
    "รับข้อมูลตัวเลขจำนวน 20 ตัว กำหนดให้นำเฉพาะข้อมูลที่เป็นเลขคู่มาบวกกันและแสดงผลการบวก\n",
    "\"\"\"\n",
    "\n",
    "def main():\n",
    "    list = []\n",
    "    round = 1\n",
    "    while (round < 21):\n",
    "        round += 1\n",
    "        number = int(input())\n",
    "        list.append(number)\n",
    "    sum = 0\n",
    "    for i in list:\n",
    "        if i % 2 == 0:\n",
    "            sum += i\n",
    "    print(sum)\n",
    "main()"
   ]
  },
  {
   "cell_type": "code",
   "execution_count": null,
   "id": "82432643-1244-4f9f-8b31-2da2f38ed79f",
   "metadata": {},
   "outputs": [],
   "source": [
    "\"\"\"\n",
    "คำนวณการถอนเงิน โดยให้รับช้อมูลตัวเลขเข้ามา 2 จำนวน คือ ยอดเงินที่ลูกค้าซื้อ\n",
    "และจำนวนเงินที่ลูกค้าจ่าย แล้วให้คำนวณว่าต้องถอนแบงก์ 1,000 500 100 50 20\n",
    "เหรียญ 10 5 2 1 .50 .25 บาท จำนวนอย่างละเท่าไหร่\n",
    "\"\"\"\n",
    "\n",
    "def main():\n",
    "    money = float(input())\n",
    "    pay = float(input())\n",
    "    change = money - pay\n",
    "    if (change <= 0):\n",
    "        print(\"The transaction cannot be completed.\")\n",
    "        return False\n",
    "    bill1000 = int(change // 1000)\n",
    "    bill500 = int((change % 1000) // 500)\n",
    "    bill100 = int((change % 1000) % 500 // 100)\n",
    "    bill50 = int((change % 1000) % 500 % 100 // 50)\n",
    "    bill20 = int((change % 1000) % 500 % 100 % 50 // 20)\n",
    "    coin10 = int((change % 1000) % 500 % 100 % 50 % 20 // 10)\n",
    "    coin5 = int((change % 1000) % 500 % 100 % 50 % 20 % 10 // 5)\n",
    "    coin2 = int((change % 1000) % 500 % 100 % 50 % 20 % 10 % 5 // 2)\n",
    "    coin1 = int((change % 1000) % 500 % 100 % 50 % 20 % 10 % 5 % 2 // 1)\n",
    "    coin05 = int((change % 1000) % 500 % 100 % 50 % 20 % 10 % 5 % 2 % 1 // 0.5)\n",
    "    coin025 = int((change % 1000) % 500 % 100 % 50 % 20 % 10 % 5 % 2 % 1 % 0.5 // 0.25)\n",
    "    print(f\"{bill1000} 1000THB Bill\") if bill1000 != 0 else False\n",
    "    print(f\"{bill500} 500THB Bill\") if bill500 != 0 else False\n",
    "    print(f\"{bill100} 100THB Bill\") if bill100 != 0 else False\n",
    "    print(f\"{bill50} 50THB Bill\") if bill50 != 0 else False\n",
    "    print(f\"{bill20} 20THB Bill\") if bill20 != 0 else False\n",
    "    print(f\"{coin10} 10THB Coin\") if coin10 != 0 else False\n",
    "    print(f\"{coin5} 5THB Coin\") if coin5 != 0 else False\n",
    "    print(f\"{coin2} 2THB Coin\") if coin2 != 0 else False\n",
    "    print(f\"{coin1} 1THB Coin\") if coin1 != 0 else False\n",
    "    print(f\"{coin05} 0.5THB Coin\") if coin05 != 0 else False\n",
    "    print(f\"{coin025} 0.25THB Coin\") if coin025 != 0 else False\n",
    "main()"
   ]
  },
  {
   "cell_type": "code",
   "execution_count": null,
   "id": "dcdf505d-60f9-45ed-a7b8-1a73179d3391",
   "metadata": {},
   "outputs": [],
   "source": [
    "\"\"\"\n",
    "รับคะแนนสอบของนักศึกษาจำนวน 20 คนว่ามีนักศึกษาที่ได้เกรดจำนวนกี่คน และหาค่าเฉลี่ยว่า\n",
    "นักศึกษากลุ่มนี้มีค่าคะแนนเฉลี่ยอยู่ที่เกรดอะไร โดยกำหนดค่าคะแนนในยแต่ละช่วงเกรดดังนี้\n",
    "\"\"\"\n",
    "\n",
    "def main():\n",
    "    score_list = []\n",
    "    i = 0\n",
    "    sum = 0\n",
    "    while (i < 20):\n",
    "        score = int(input())\n",
    "        if score > 100 or score < 0:\n",
    "            print(\"Invalid score\")\n",
    "            return False\n",
    "        score_list.append(score)\n",
    "        i += 1\n",
    "    for score in score_list: \n",
    "        sum += score\n",
    "        average = sum / 20\n",
    "        if average > 79:\n",
    "            grade = \"A\"\n",
    "        elif average > 74:\n",
    "            grade = \"B+\"\n",
    "        elif average > 69:\n",
    "            grade = \"B\"\n",
    "        elif average > 64:\n",
    "            grade = \"C+\"\n",
    "        elif average > 59:\n",
    "            grade = \"C\"\n",
    "        elif average > 54:\n",
    "            grade = \"D+\"\n",
    "        elif average > 49:\n",
    "            grade = \"D\"\n",
    "        else:\n",
    "            grade = \"F\"\n",
    "    print(f\"The average grade is {grade}.\") if True else False\n",
    "main()"
   ]
  },
  {
   "cell_type": "code",
   "execution_count": null,
   "id": "08132593-3b63-42e3-9aa4-d8b59b34e8d2",
   "metadata": {},
   "outputs": [],
   "source": [
    "\"\"\"\n",
    "รับข้อมูลอายุจำนวน 20 คน กำหนดให้นับจำนวนคนในแต่ละช่วงวัยและหาค่าเฉลี่ยจากอายุที่รับเข้า\n",
    "มาว่าอยู่ในช่วงวัยไหน โดยแยกช่วงวัยดังนี้\n",
    "    - วัยเด็กอายุน้อยกว่า 15 ปี\n",
    "    - วัยรุ่นอายุมากกว่าและเท่ากับ 15 ปี ถึง 20 ปี\n",
    "    - วัยผู้ใหญ่ตอนต้นอายุมากกว่า 20 ปี ถึง 40 ปี\n",
    "    - วัยกลางคนอายุมากกว่า 40 ปี ถึง 60 ปี\n",
    "    - วัยชราอายุมากกว่า 60 ปีขึ้นไป\n",
    "\"\"\"\n",
    "\n",
    "def main():\n",
    "    i = 0\n",
    "    age_list = []\n",
    "    Child = 0\n",
    "    Teenager = 0\n",
    "    Adult = 0\n",
    "    Middle = 0\n",
    "    Old = 0\n",
    "    while (i < 20):\n",
    "        age = int(input())\n",
    "        age_list.append(age)\n",
    "        i += 1\n",
    "    for age in age_list:\n",
    "        if age < 15:\n",
    "            Child += 1\n",
    "        elif age >= 15 and age <= 20:\n",
    "            Teenager += 1\n",
    "        elif age > 20 and age <= 40:\n",
    "            Adult += 1\n",
    "        elif age > 40 and age <= 60:\n",
    "            Middle += 1\n",
    "        else:\n",
    "            Old += 1\n",
    "    print(f\"Child: {Child}\")\n",
    "    print(f\"Teenager: {Teenager}\")\n",
    "    print(f\"Adult: {Adult}\")\n",
    "    print(f\"Middle: {Middle}\")\n",
    "    print(f\"Old: {Old}\")\n",
    "main()"
   ]
  },
  {
   "cell_type": "code",
   "execution_count": null,
   "id": "671286cc-1f42-4a42-9b07-5315d44ce9b0",
   "metadata": {},
   "outputs": [],
   "source": [
    "\"\"\"\n",
    "รับข้อมูลตัวเลขจำนวนชั่วโมงการทำงานในแต่ละสัปดาห์จำนวน 4 สัปดาห์ และประเภทของงานที่\n",
    "ทำงานเพื่อคำนวณค่าจ้าง โดยกำหนดให้ประเภทของงานและอัตราค่าจ้างดังนี้\n",
    "    ลำดับประเภทงาน // ชื่อประเภทงาน // อัตราค่าจ้าง/ชั่วโมง\n",
    "    0 // แรงงานระดับใช้แรงงาน // 20\n",
    "    1 // แรงงานระดับฝีมือ // 25\n",
    "    2 // แรงงานระดับชำนาญเฉพาะด้าน // 30\n",
    "    3 // แรงงานระดับฝีมือชำนาญเฉพาะด้าน // 35\n",
    "\"\"\"\n",
    "\n",
    "def main():\n",
    "    hour = int(input())\n",
    "    category = int(input())\n",
    "    if category == 0:\n",
    "        wage = hour * 20\n",
    "    elif category == 1:\n",
    "        wage = hour * 25\n",
    "    elif category == 2:\n",
    "        wage = hour * 30\n",
    "    elif category == 3:\n",
    "        wage = hour * 35\n",
    "    else:\n",
    "        return False\n",
    "    print(wage)\n",
    "main()"
   ]
  }
 ],
 "metadata": {
  "kernelspec": {
   "display_name": "Python 3 (ipykernel)",
   "language": "python",
   "name": "python3"
  },
  "language_info": {
   "codemirror_mode": {
    "name": "ipython",
    "version": 3
   },
   "file_extension": ".py",
   "mimetype": "text/x-python",
   "name": "python",
   "nbconvert_exporter": "python",
   "pygments_lexer": "ipython3",
   "version": "3.12.0"
  }
 },
 "nbformat": 4,
 "nbformat_minor": 5
}
