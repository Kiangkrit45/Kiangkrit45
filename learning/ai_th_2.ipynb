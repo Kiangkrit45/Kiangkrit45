{
 "cells": [
  {
   "cell_type": "markdown",
   "id": "3988a74f",
   "metadata": {},
   "source": [
    "# วิชาที่ 2 เทคนิคการค้นหาเส้นทางที่สั้นที่สุดด้วย เอ-สตาร์"
   ]
  },
  {
   "cell_type": "markdown",
   "id": "3b279ee8",
   "metadata": {},
   "source": [
    "## บทที่ 1 ปริภูมิสภานะ (State Space)"
   ]
  },
  {
   "cell_type": "markdown",
   "id": "eebb280b",
   "metadata": {},
   "source": [
    "### State Space\n",
    "\n",
    "การนำเสนอการแทนปัญหาในรูปแบบของแผนภาพ\n",
    "\n",
    "State Space ประกอบด้วย\n",
    "\n",
    "    * Node or Vertex เพื่อแสดงสถานะ\n",
    "    * เส้นเชื่อมสถานะ Edge Line เพื่อแทนการเปลี่ยนแปลง โดยมี Operator และ Path Cost\n",
    "\n",
    "State Space จะถูกนำเสนอในรูปแบบของโครงสร้างข้อมูลกราฟ"
   ]
  },
  {
   "cell_type": "markdown",
   "id": "50bbab7a",
   "metadata": {},
   "source": [
    "Search Techniques::\n",
    "       \n",
    "       Blind Search:\n",
    "       \n",
    "           Breadth First\n",
    "           Depth First\n",
    "           Bidirectional\n",
    "           Depth Limited\n",
    "           Iterative Deepening\n",
    "       \n",
    "       Heurisitc Search:\n",
    "       \n",
    "           Hill Climbing\n",
    "           Simulated Annealing\n",
    "           Best First Search\n",
    "           A* Search\n",
    "           Tabu Search"
   ]
  },
  {
   "cell_type": "markdown",
   "id": "8128fdd5",
   "metadata": {},
   "source": [
    "## บทที่ 2 การค้นหาแบบบอด (Blind Search)"
   ]
  },
  {
   "cell_type": "markdown",
   "id": "d2d6c7d7",
   "metadata": {},
   "source": []
  }
 ],
 "metadata": {
  "interpreter": {
   "hash": "37430c57759b4c992aa2ec1d3e315c52e0ce96ffd03b57260ea94e1cc94339da"
  },
  "kernelspec": {
   "display_name": "Python 3",
   "language": "python",
   "name": "python3"
  },
  "language_info": {
   "codemirror_mode": {
    "name": "ipython",
    "version": 3
   },
   "file_extension": ".py",
   "mimetype": "text/x-python",
   "name": "python",
   "nbconvert_exporter": "python",
   "pygments_lexer": "ipython3",
   "version": "3.8.8"
  }
 },
 "nbformat": 4,
 "nbformat_minor": 5
}
