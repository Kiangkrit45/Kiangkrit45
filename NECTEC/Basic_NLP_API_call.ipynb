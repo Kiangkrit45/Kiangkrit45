{
 "cells": [
  {
   "cell_type": "markdown",
   "metadata": {
    "id": "sBVJ_GIyVbL7"
   },
   "source": [
    "# https://aiforthai.in.th/"
   ]
  },
  {
   "cell_type": "code",
   "execution_count": 1,
   "metadata": {
    "id": "9deThaGA9EX8"
   },
   "outputs": [],
   "source": [
    "import requests"
   ]
  },
  {
   "cell_type": "code",
   "execution_count": 2,
   "metadata": {
    "id": "zbgQRADHMD4x"
   },
   "outputs": [],
   "source": [
    "Apikey='kHIllIH4ODKsOvvi7QJINN5FIzf6sFgR'"
   ]
  },
  {
   "cell_type": "markdown",
   "metadata": {
    "id": "ia-xcZwTLhAH"
   },
   "source": [
    "## 1. TLexPlus API\n",
    "- Host\n",
    "https://api.aiforthai.in.th/tlexplus\n",
    "- Method\tGET/POST\n",
    "- Header\n",
    "  - Apikey : apikey\n",
    "- Parameter\n",
    "  - text : ข้อความที่ต้องการวิเคราะห์"
   ]
  },
  {
   "cell_type": "markdown",
   "metadata": {
    "id": "xAHmZqf4a5h3"
   },
   "source": [
    "### GET"
   ]
  },
  {
   "cell_type": "code",
   "execution_count": 5,
   "metadata": {
    "colab": {
     "base_uri": "https://localhost:8080/"
    },
    "id": "71Hgr9F-Kbjq",
    "outputId": "40e7c239-60d3-4b5e-d604-9a5d62ab224b"
   },
   "outputs": [
    {
     "name": "stdout",
     "output_type": "stream",
     "text": [
      "{'input': 'ฉันนั่งรถไฟฟ้าไปสยามพารากอน', 'tokens': ['ฉัน', 'นั่ง', 'รถ', 'ไฟฟ้า', 'ไป', 'สยาม', 'พารากอน']}\n",
      "CPU times: total: 203 ms\n",
      "Wall time: 340 ms\n"
     ]
    }
   ],
   "source": [
    "%%time\n",
    "url ='https://api.aiforthai.in.th/tlexplus'\n",
    "headers = {'Apikey':Apikey}\n",
    "\n",
    "params = {'text':'ฉันนั่งรถไฟฟ้าไปสยามพารากอน'}\n",
    "\n",
    "res = requests.get(url, params=params, headers=headers)\n",
    "# print(res.status_code)\n",
    "# print(res.headers)\n",
    "print(res.json())"
   ]
  },
  {
   "cell_type": "markdown",
   "metadata": {
    "id": "bG1_K72wa7Lw"
   },
   "source": [
    "### POST"
   ]
  },
  {
   "cell_type": "code",
   "execution_count": null,
   "metadata": {
    "id": "wmVoacIMbQgS"
   },
   "outputs": [],
   "source": [
    "%%time\n",
    "url ='https://api.aiforthai.in.th/tlexplus'\n",
    "headers = {'Apikey':Apikey}\n",
    "\n",
    "data = {'text':'ฉันนั่งรถไฟฟ้าไปสยามพารากอน'}\n",
    "res = requests.post(url, data=data, headers=headers)\n",
    "print(res.status_code)\n",
    "print(res.headers)\n",
    "print(res.json())"
   ]
  },
  {
   "cell_type": "markdown",
   "metadata": {
    "id": "v1m8bI7mE-I7"
   },
   "source": [
    "## 2. LexToPlus API\n",
    "- Host\n",
    "https://api.aiforthai.in.th/lextoplus\n",
    "- Method\tGET/POST\n",
    "- Header\n",
    "  - Apikey : apikey\n",
    "  - Content-Type : application/x-www-form-urlencoded\n",
    "- Parameter\n",
    "  - text : ข้อความที่ต้องการตัดคำ\n",
    "  - norm : การลดรูปตัวอักษรที่พิมพ์ซ้ำ (normalize)\n",
    "         0 = ไม่ทำการ normalize (default)\n",
    "         1 = ทำ normalize"
   ]
  },
  {
   "cell_type": "markdown",
   "metadata": {
    "id": "9KbUip2wZg5P"
   },
   "source": [
    "### GET"
   ]
  },
  {
   "cell_type": "code",
   "execution_count": 4,
   "metadata": {
    "colab": {
     "base_uri": "https://localhost:8080/"
    },
    "id": "He-0vMb6B4-i",
    "outputId": "f240c2e8-e67d-4e81-c30d-86a55095e485"
   },
   "outputs": [
    {
     "name": "stdout",
     "output_type": "stream",
     "text": [
      "{'input': 'ฉันนั่งรถไฟฟ้าไปสยามพารากอนนนนน', 'types': [1, 1, 1, 1, 1], 'normalized': 'ฉันนั่งรถไฟฟ้าไปสยามพารากอน', 'tokens': ['ฉัน', 'นั่ง', 'รถไฟฟ้า', 'ไป', 'สยามพารากอน']}\n",
      "CPU times: total: 219 ms\n",
      "Wall time: 315 ms\n"
     ]
    }
   ],
   "source": [
    "%%time\n",
    "url ='https://api.aiforthai.in.th/lextoplus'\n",
    "headers = {'Apikey':Apikey}\n",
    "text = 'ฉันนั่งรถไฟฟ้าไปสยามพารากอนนนนน'\n",
    "params = {'text':text,'norm':'1'}\n",
    "res = requests.get(url, params=params, headers=headers)\n",
    "# print(res.status_code)\n",
    "# print(res.headers)\n",
    "print(res.json())"
   ]
  },
  {
   "cell_type": "markdown",
   "metadata": {
    "id": "hj4wrbU7ZixI"
   },
   "source": [
    "### POST"
   ]
  },
  {
   "cell_type": "code",
   "execution_count": null,
   "metadata": {
    "colab": {
     "base_uri": "https://localhost:8080/"
    },
    "id": "YkEwzPIf9yG5",
    "outputId": "cd140af4-c332-404f-d65a-77e43191206e"
   },
   "outputs": [
    {
     "name": "stdout",
     "output_type": "stream",
     "text": [
      "{'input': 'ฉันนั่งรถไฟฟ้าไปสยามพารากอนนนนน', 'types': [1, 1, 1, 1, 1], 'normalized': 'ฉันนั่งรถไฟฟ้าไปสยามพารากอน', 'tokens': ['ฉัน', 'นั่ง', 'รถไฟฟ้า', 'ไป', 'สยามพารากอน']}\n",
      "CPU times: user 70.2 ms, sys: 1.74 ms, total: 71.9 ms\n",
      "Wall time: 791 ms\n"
     ]
    }
   ],
   "source": [
    "%%time\n",
    "url ='https://api.aiforthai.in.th/lextoplus'\n",
    "headers = {'Apikey':Apikey}\n",
    "text = 'ฉันนั่งรถไฟฟ้าไปสยามพารากอนนนนน'\n",
    "params = {'text':text,'norm':'1'}\n",
    "res = requests.post(url, data=params, headers=headers)\n",
    "# print(res.status_code)\n",
    "# print(res.headers)\n",
    "print(res.json())"
   ]
  },
  {
   "cell_type": "markdown",
   "metadata": {
    "id": "nfdQVltAA4vM"
   },
   "source": [
    "## 3. G2P API\n",
    "- URL\n",
    "https://api.aiforthai.in.th/vaja\n",
    "\n",
    "- Header\n",
    "  - Apikey : apikey\n",
    "\n",
    "- Parameters\n",
    "  - text : ข้อความที่ต้องการแปลง\n",
    "  - mode : ta"
   ]
  },
  {
   "cell_type": "markdown",
   "metadata": {
    "id": "smYGluD8ZX82"
   },
   "source": [
    "### GET"
   ]
  },
  {
   "cell_type": "code",
   "execution_count": null,
   "metadata": {
    "colab": {
     "base_uri": "https://localhost:8080/"
    },
    "id": "AEv9nczeEVFj",
    "outputId": "008693c0-bf13-4f57-c019-279b5c0e37b8"
   },
   "outputs": [
    {
     "name": "stdout",
     "output_type": "stream",
     "text": [
      "pl-xx-ng^-0|*p-aa-z^-0|p-aa-z^-1|*p-aa-z^-2|p-aa-z^-3|*p-aa-z^-4|*ph-@@-z^-0|s-@@-z^-4|*s-@@-ng^-4|h-aa-z^-2|h-o-k^-1|s-@@-ng^-4|*\n",
      "CPU times: user 72.6 ms, sys: 0 ns, total: 72.6 ms\n",
      "Wall time: 1.12 s\n"
     ]
    }
   ],
   "source": [
    "%%time\n",
    "text = 'แปลงปาป่าป้าป๊าป๋า พ.ศ.2562'\n",
    "params = {'text':text,'mode':'ta'}\n",
    "url = 'https://api.aiforthai.in.th/vaja'\n",
    "headers = {'Apikey':Apikey}\n",
    "res = requests.get(url, params=params, headers=headers)\n",
    "# print(res.status_code)\n",
    "# print(res.headers)\n",
    "# print(res.json())\n",
    "print(res.json()['output']['result'])"
   ]
  },
  {
   "cell_type": "markdown",
   "metadata": {
    "id": "ppAl_1y2Zaiv"
   },
   "source": [
    "### POST"
   ]
  },
  {
   "cell_type": "code",
   "execution_count": null,
   "metadata": {
    "colab": {
     "base_uri": "https://localhost:8080/"
    },
    "id": "U21vFDhu_F1H",
    "outputId": "aded194a-d3eb-476a-dc6b-aebed26bc7d2"
   },
   "outputs": [
    {
     "name": "stdout",
     "output_type": "stream",
     "text": [
      "{'output': {'mode': 'ta', 'result': 'c-u-t^-1|*s-@@-ng^-4|h-aa-z^-2|h-o-k^-1|s-@@-ng^-4|*'}, 'return': {'massage': '1', 'status': 'success'}}\n",
      "c-u-t^-1|*s-@@-ng^-4|h-aa-z^-2|h-o-k^-1|s-@@-ng^-4|*\n",
      "CPU times: user 81.1 ms, sys: 2.22 ms, total: 83.3 ms\n",
      "Wall time: 846 ms\n"
     ]
    }
   ],
   "source": [
    "%%time\n",
    "text = 'แปลงปาป่าป้าป๊าป๋า พ.ศ.2562'\n",
    "params = {'text':text,'mode':'ta'}\n",
    "url = 'https://api.aiforthai.in.th/vaja'\n",
    "headers = {'Apikey':Apikey}\n",
    "res = requests.post(url, data=params, headers=headers)\n",
    "# print(res.status_code)\n",
    "# print(res.headers)\n",
    "print(res.json())\n",
    "print(res.json()['output']['result'])"
   ]
  },
  {
   "cell_type": "markdown",
   "metadata": {
    "id": "iFtCooN3HVTd"
   },
   "source": [
    "## 4. Soundex API\n",
    "### Host\n",
    "https://api.aiforthai.in.th/soundex\n",
    "### Method\tGET/POST\n",
    "### Header\n",
    "- Apikey : apikey\n",
    "\n",
    "### Parameter\n",
    "- word : ข้อความที่ต้องการแปลง\n",
    "- model : ประเภทของโมเดล\n",
    "         personname = รายชื่อคนไทยยอดนิยม\n",
    "         royin = พจนานุกรมราชบัณฑิต"
   ]
  },
  {
   "cell_type": "markdown",
   "metadata": {
    "id": "kxc1r1UMadKe"
   },
   "source": [
    "### GET"
   ]
  },
  {
   "cell_type": "code",
   "execution_count": null,
   "metadata": {
    "colab": {
     "base_uri": "https://localhost:8080/"
    },
    "id": "v5ZnQeOrE9Wa",
    "outputId": "8bf7fa56-4ab8-4da0-d671-1265ba685260"
   },
   "outputs": [
    {
     "name": "stdout",
     "output_type": "stream",
     "text": [
      "{'distance': 0.0, 'word': 'กันยารัตน์'}\n",
      "{'distance': 0.0, 'word': 'กัญญารัตน์'}\n",
      "{'distance': 0.5, 'word': 'ธัญญารัตน์'}\n",
      "{'distance': 1.0, 'word': 'กัญญาณัฐ'}\n",
      "CPU times: user 68.8 ms, sys: 651 µs, total: 69.5 ms\n",
      "Wall time: 803 ms\n"
     ]
    }
   ],
   "source": [
    "%%time\n",
    "url ='https://api.aiforthai.in.th/soundex'\n",
    "headers = {'Apikey': Apikey}\n",
    "\n",
    "params = {'word':'กันยารัด','model':'personname'}\n",
    "res = requests.get(url, params=params, headers=headers)\n",
    "# print(res.status_code)\n",
    "# print(res.headers)\n",
    "# print(res.json())\n",
    "for data in res.json()['words']:\n",
    "  print(data)"
   ]
  },
  {
   "cell_type": "markdown",
   "metadata": {
    "id": "VXtiNJ1Yaez_"
   },
   "source": [
    "### POST"
   ]
  },
  {
   "cell_type": "code",
   "execution_count": null,
   "metadata": {
    "colab": {
     "base_uri": "https://localhost:8080/"
    },
    "id": "URM0Q951agaA",
    "outputId": "0e66933a-0be8-4838-a7e1-7255ff33c756"
   },
   "outputs": [
    {
     "name": "stdout",
     "output_type": "stream",
     "text": [
      "{'distance': 0.0, 'word': 'กันยารัตน์'}\n",
      "{'distance': 0.0, 'word': 'กัญญารัตน์'}\n",
      "{'distance': 0.5, 'word': 'ธัญญารัตน์'}\n",
      "{'distance': 1.0, 'word': 'กัญญาณัฐ'}\n"
     ]
    }
   ],
   "source": [
    "url ='https://api.aiforthai.in.th/soundex'\n",
    "headers = {'Apikey': Apikey}\n",
    "\n",
    "params = {'word':'กันยารัด','model':'personname'}\n",
    "res = requests.post(url, data=params, headers=headers)\n",
    "# print(res.status_code)\n",
    "# print(res.headers)\n",
    "# print(res.json())\n",
    "for data in res.json()['words']:\n",
    "  print(data)"
   ]
  },
  {
   "cell_type": "markdown",
   "metadata": {
    "id": "PkbxkevwNA1U"
   },
   "source": [
    "## 5. TLex++ API\n",
    "- Host\n",
    "https://api.aiforthai.in.th/tpos\n",
    "- Method\tGET/POST\n",
    "- Header\n",
    "  - Apikey : apikey\n",
    "- Parameter\n",
    "  - text : ข้อความที่ต้องการวิเคราะห์"
   ]
  },
  {
   "cell_type": "markdown",
   "metadata": {
    "id": "qVx98iMgb6V3"
   },
   "source": [
    "### GET"
   ]
  },
  {
   "cell_type": "code",
   "execution_count": null,
   "metadata": {
    "colab": {
     "base_uri": "https://localhost:8080/"
    },
    "id": "2eUuvMm2MTy1",
    "outputId": "0ee5a73a-a780-4a9b-9fd2-293e6e0596e3"
   },
   "outputs": [
    {
     "name": "stdout",
     "output_type": "stream",
     "text": [
      "[('ฉัน', 'PPER'), (' ', ' '), ('นั่ง', 'VV'), ('รถ', 'NN'), ('ไฟฟ้า', 'NN'), ('ไป', 'VV'), ('สยามพารากอน', 'NR')]\n",
      "CPU times: user 75.7 ms, sys: 1.33 ms, total: 77 ms\n",
      "Wall time: 1.33 s\n"
     ]
    }
   ],
   "source": [
    "%%time\n",
    "url ='https://api.aiforthai.in.th/tpos'\n",
    "headers = {'Apikey':Apikey}\n",
    "\n",
    "params = {'text':'ฉัน นั่งรถไฟฟ้าไปสยามพารากอน'}\n",
    "res = requests.get(url, params=params, headers=headers)\n",
    "# print(res.status_code)\n",
    "# print(res.headers)\n",
    "# print(res.json())\n",
    "\n",
    "data = list(zip(res.json()['words'],res.json()['tags']))\n",
    "print(data)"
   ]
  },
  {
   "cell_type": "markdown",
   "metadata": {
    "id": "nBHXzQJNb8OB"
   },
   "source": [
    "### POST"
   ]
  },
  {
   "cell_type": "code",
   "execution_count": null,
   "metadata": {
    "colab": {
     "base_uri": "https://localhost:8080/"
    },
    "id": "MKhBfeBSb9M4",
    "outputId": "84e0a167-3e01-4acc-dc6d-51b86ee7346e"
   },
   "outputs": [
    {
     "name": "stdout",
     "output_type": "stream",
     "text": [
      "[('ฉัน', 'PPER'), ('นั่ง', 'VV'), ('รถ', 'NN'), ('ไฟฟ้า', 'NN'), ('ไป', 'VV'), ('สยามพารากอน', 'NR')]\n",
      "CPU times: user 72.6 ms, sys: 1.92 ms, total: 74.5 ms\n",
      "Wall time: 1.3 s\n"
     ]
    }
   ],
   "source": [
    "%%time\n",
    "url ='https://api.aiforthai.in.th/tpos'\n",
    "headers = {'Apikey':Apikey}\n",
    "\n",
    "data = {'text':'ฉันนั่งรถไฟฟ้าไปสยามพารากอน'}\n",
    "res = requests.post(url, data=data, headers=headers)\n",
    "# print(res.status_code)\n",
    "# print(res.headers)\n",
    "# print(res.json())\n",
    "\n",
    "data = list(zip(res.json()['words'],res.json()['tags']))\n",
    "print(data)"
   ]
  },
  {
   "cell_type": "markdown",
   "metadata": {
    "id": "Rgy46Bo0OcF-"
   },
   "source": [
    "## 6. TNer API\n",
    "- Host\n",
    "  - https://api.aiforthai.in.th/tner\n",
    "- Method\tGET/POST\n",
    "- Header\n",
    "  - Apikey : apikey\n",
    "- Parameter\n",
    "  - text : ข้อความที่ต้องการวิเคราะห์"
   ]
  },
  {
   "cell_type": "markdown",
   "metadata": {
    "id": "mmvlPNk3cquZ"
   },
   "source": [
    "### GET"
   ]
  },
  {
   "cell_type": "code",
   "execution_count": null,
   "metadata": {
    "colab": {
     "base_uri": "https://localhost:8080/"
    },
    "id": "diIBnCXiNghS",
    "outputId": "81a391c4-4c5d-44dc-e7f6-4b70bed27510"
   },
   "outputs": [
    {
     "name": "stdout",
     "output_type": "stream",
     "text": [
      "[('เรา', 'PPER', 'O'), ('นั่ง', 'VV', 'O'), ('รถ', 'NN', 'O'), ('จาก', 'P', 'O'), ('สยามพารากอน', 'NR', 'B-LOC'), ('ไป', 'VV', 'O'), ('ศูนย์', 'CD', 'B-NUM'), ('เนคเทค', 'NN', 'O')]\n",
      "CPU times: user 114 ms, sys: 0 ns, total: 114 ms\n",
      "Wall time: 1.65 s\n"
     ]
    }
   ],
   "source": [
    "%%time\n",
    "import requests\n",
    "\n",
    "url = \"https://api.aiforthai.in.th/tner\"\n",
    "\n",
    "params = {'text':'เรานั่งรถจากสยามพารากอนไปศูนย์เนคเทค'}\n",
    "\n",
    "\n",
    "headers = {\n",
    "    'Apikey': Apikey,\n",
    "    }\n",
    "\n",
    "response = requests.request(\"GET\", url, headers=headers, params=params)\n",
    "\n",
    "# print(response.json())\n",
    "# print(response.status_code)\n",
    "# print(response.headers)\n",
    "# print(response.json())\n",
    "data = list(zip(response.json()['words'],response.json()['POS'],response.json()['tags']))\n",
    "print(data)"
   ]
  },
  {
   "cell_type": "markdown",
   "metadata": {
    "id": "fDI_eFcOcsTP"
   },
   "source": [
    "### POST"
   ]
  },
  {
   "cell_type": "code",
   "execution_count": null,
   "metadata": {
    "colab": {
     "base_uri": "https://localhost:8080/"
    },
    "id": "Dnf2Orw5cttg",
    "outputId": "b3dbd07a-9ed8-47ea-de1b-b1f66ced79b7"
   },
   "outputs": [
    {
     "name": "stdout",
     "output_type": "stream",
     "text": [
      "[('เรา', 'PPER', 'O'), ('นั่ง', 'VV', 'O'), ('รถ', 'NN', 'O'), ('จาก', 'P', 'O'), ('สยามพารากอน', 'NR', 'B-LOC'), ('ไป', 'VV', 'O'), ('ศูนย์', 'CD', 'B-NUM'), ('เนคเทค', 'NN', 'O')]\n",
      "CPU times: user 78.9 ms, sys: 0 ns, total: 78.9 ms\n",
      "Wall time: 1.43 s\n"
     ]
    }
   ],
   "source": [
    "%%time\n",
    "import requests\n",
    "\n",
    "url = \"https://api.aiforthai.in.th/tner\"\n",
    "\n",
    "data = {'text':'เรานั่งรถจากสยามพารากอนไปศูนย์เนคเทค'}\n",
    "\n",
    "headers = {\n",
    "    'Apikey': Apikey,\n",
    "    }\n",
    "\n",
    "response = requests.post(url, data=data, headers=headers)\n",
    "\n",
    "# print(response.json())\n",
    "# print(response.status_code)\n",
    "# print(response.headers)\n",
    "# print(response.json())\n",
    "data = list(zip(response.json()['words'],response.json()['POS'],response.json()['tags']))\n",
    "print(data)"
   ]
  },
  {
   "cell_type": "markdown",
   "metadata": {
    "id": "-MCtFFG4POYG"
   },
   "source": [
    "## 7. WordApprox API\n",
    "- Host\n",
    "  - https://api.aiforthai.in.th/wordapprox\n",
    "- Method\tGET/POST\n",
    "- Header\n",
    "  - Apikey : apikey\n",
    "- Parameter\n",
    "  - word : คำที่ต้องการหาคำใกล้เคียง\n",
    "  - model : ประเภทของโมเดล\n",
    "         personname = รายชื่อคนไทยยอดนิยม\n",
    "         royin = พจนานุกรมราชบัณฑิต"
   ]
  },
  {
   "cell_type": "markdown",
   "metadata": {
    "id": "PtjuAWj_dx90"
   },
   "source": [
    "### GET"
   ]
  },
  {
   "cell_type": "code",
   "execution_count": null,
   "metadata": {
    "id": "osPS7RBzPGz5"
   },
   "outputs": [],
   "source": [
    "url = \"https://api.aiforthai.in.th/wordapprox\"\n",
    "\n",
    "data = {'word':'กันยารัด','model':'personname'}\n",
    "\n",
    "headers = {\n",
    "    'Apikey': Apikey,\n",
    "    }\n",
    "res = requests.request(\"GET\", url, headers=headers, params=params)\n",
    "\n",
    "# print(res.status_code)\n",
    "# print(res.headers)\n",
    "# print(res.json())\n",
    "for data in res.json()['words']:\n",
    "  print(data)"
   ]
  },
  {
   "cell_type": "markdown",
   "metadata": {
    "id": "HCrcWUABd0Bw"
   },
   "source": [
    "### POST"
   ]
  },
  {
   "cell_type": "code",
   "execution_count": null,
   "metadata": {
    "colab": {
     "base_uri": "https://localhost:8080/"
    },
    "id": "38jNxAzEd2PA",
    "outputId": "f8cbbb37-e2d5-4534-89a0-987aa0fc11cd"
   },
   "outputs": [
    {
     "name": "stdout",
     "output_type": "stream",
     "text": [
      "{'distance': 1.0, 'word': 'กันยารัตน์'}\n",
      "{'distance': 2.0, 'word': 'กัญญารัตน์'}\n"
     ]
    }
   ],
   "source": [
    "url = \"https://api.aiforthai.in.th/wordapprox\"\n",
    "\n",
    "data = {'word':'กันยารัด','model':'personname'}\n",
    "\n",
    "headers = {\n",
    "    'Apikey':Apikey,\n",
    "    }\n",
    "res = requests.post(url, data=data, headers=headers)\n",
    "\n",
    "# print(res.status_code)\n",
    "# print(res.headers)\n",
    "# print(res.json())\n",
    "for data in res.json()['words']:\n",
    "  print(data)"
   ]
  },
  {
   "cell_type": "markdown",
   "metadata": {
    "id": "k9EpacwdQCYY"
   },
   "source": [
    "## 8. Word Similarity\n",
    "- Host\n",
    "  - https://api.aiforthai.in.th/thaiwordsim\n",
    "- Method\tGET/POST\n",
    "- Header\n",
    "  - Apikey : apikey\n",
    "- Parameter\n",
    "  - word : คำที่ต้องการค้นหา\n",
    "  - numword : จำนวนคำที่ต้องการแสดงผลลัพธ์\n",
    "  - model : ประเภทของโมเดล\n",
    "         thwiki = ข้อมูลวิกิพีเดียภาษาไทย\n",
    "         twitter = ข้อมูลทวิตเตอร์ภาษาไทย"
   ]
  },
  {
   "cell_type": "markdown",
   "metadata": {
    "id": "eFpEl2c4e-bB"
   },
   "source": [
    "### GET"
   ]
  },
  {
   "cell_type": "code",
   "execution_count": null,
   "metadata": {
    "colab": {
     "base_uri": "https://localhost:8080/"
    },
    "id": "jt4-HcjCPuq8",
    "outputId": "a62a9155-6db7-442e-af53-b6e185a31822"
   },
   "outputs": [
    {
     "name": "stdout",
     "output_type": "stream",
     "text": [
      "{'score': 0.7554842829704285, 'word': 'ร่าเริง'}\n",
      "{'score': 0.7349501848220825, 'word': 'หน้าตา'}\n",
      "{'score': 0.7228124141693115, 'word': 'สวย'}\n",
      "{'score': 0.7152109146118164, 'word': 'ขี้เล่น'}\n",
      "{'score': 0.7029339075088501, 'word': 'มีเสน่ห์'}\n",
      "{'score': 0.6759860515594482, 'word': 'ใจดี'}\n",
      "{'score': 0.6626837253570557, 'word': 'อ่อนหวาน'}\n",
      "{'score': 0.6578060984611511, 'word': 'เป็นสาว'}\n",
      "{'score': 0.6551058292388916, 'word': 'นิสัย'}\n",
      "{'score': 0.6543658375740051, 'word': 'อ่อนโยน'}\n",
      "{'score': 0.6518895626068115, 'word': 'ใสซื่อ'}\n",
      "{'score': 0.651246190071106, 'word': 'บุคลิก'}\n"
     ]
    }
   ],
   "source": [
    "url ='https://api.aiforthai.in.th/thaiwordsim'\n",
    "headers = {'Apikey': Apikey}\n",
    "params = {'word':'น่ารัก','model':'thwiki','numword':'12'}\n",
    "res = requests.get(url, params=params, headers=headers)\n",
    "# print(res.status_code)\n",
    "# print(res.headers)\n",
    "# print(res.json())\n",
    "for data in res.json()['words']:\n",
    "  print(data)"
   ]
  },
  {
   "cell_type": "markdown",
   "metadata": {
    "id": "0j0esYP1e__R"
   },
   "source": [
    "### POST"
   ]
  },
  {
   "cell_type": "code",
   "execution_count": null,
   "metadata": {
    "colab": {
     "base_uri": "https://localhost:8080/"
    },
    "id": "K8S_ESS6RKH_",
    "outputId": "68d54ae8-5794-40be-a20a-d116f951f550"
   },
   "outputs": [
    {
     "name": "stdout",
     "output_type": "stream",
     "text": [
      "{'score': 0.6751366257667542, 'word': 'มีเสน่ห์'}\n",
      "{'score': 0.6676637530326843, 'word': 'น่ารัก'}\n",
      "{'score': 0.6476621031761169, 'word': 'หล่อ'}\n",
      "{'score': 0.6239952445030212, 'word': 'ดูดี'}\n",
      "{'score': 0.6012705564498901, 'word': 'เซ็กซี่'}\n",
      "{'score': 0.5751025080680847, 'word': 'สง่า'}\n",
      "{'score': 0.5734766721725464, 'word': 'น่ามอง'}\n",
      "{'score': 0.5687690377235413, 'word': 'สวยหวาน'}\n",
      "{'score': 0.5595844388008118, 'word': 'สดใส'}\n",
      "{'score': 0.5581150054931641, 'word': 'สวยงาม'}\n",
      "{'score': 0.5552994012832642, 'word': 'หุ่นดี'}\n",
      "{'score': 0.5542542338371277, 'word': 'เริ่ด'}\n"
     ]
    }
   ],
   "source": [
    "url = \"https://api.aiforthai.in.th/thaiwordsim\"\n",
    "data = {'word':'สวย','model':'twitter','numword':'12'}\n",
    "headers = {'Apikey': Apikey}\n",
    "res = requests.post( url, data=data, headers=headers)\n",
    "# print(res.status_code)\n",
    "# print(res.headers)\n",
    "# print(res.json())\n",
    "for data in res.json()['words']:\n",
    "  print(data)"
   ]
  },
  {
   "cell_type": "markdown",
   "metadata": {
    "id": "mlCqpzSEBooh"
   },
   "source": [
    "## 9. Text Summarization\n",
    "- Host\n",
    "  - https://api.aiforthai.in.th/textsummarize\n",
    "- Method\tPOST\n",
    "- Header\n",
    "  - Apikey : apikey\n",
    "- Parameter\n",
    "  - id : 100\n",
    "  - src : ข้อความที่ต้องการสรุปความ (ขนาด 400-1,000 คำ)\n",
    "  - comp_rate : เปอร์เซ็นต์การสรุปความ (สามารถระบุค่าได้ระหว่าง 20-40)\n",
    "       "
   ]
  },
  {
   "cell_type": "markdown",
   "metadata": {
    "id": "RVnTAmdWCy7a"
   },
   "source": [
    "### POST"
   ]
  },
  {
   "cell_type": "code",
   "execution_count": null,
   "metadata": {
    "colab": {
     "base_uri": "https://localhost:8080/"
    },
    "id": "vi6ZXOBoCrWb",
    "outputId": "652dabcf-6f71-4890-f638-d611ea7f5669"
   },
   "outputs": [
    {
     "name": "stdout",
     "output_type": "stream",
     "text": [
      "\"ข้าวเป็นเมล็ดของพืชหญ้า Oryza sativa ชื่อออกเป็นต่างชาติข้าวเป็นธัญพืชสำคัญที่สุดในด้านโภชนาการและการได้รับแคลอรีของมนุษย์เพราะข้าวโพดส่วนใหญ่เป็นพลังงานกว่าหนึ่งในห้าที่มนุษย์ทั่วโลกด้วย แต่เสนอว่าข้าวมีการนำมาปลูกในเขตหุบข้าวจีนจากเอเชียตะวันออกไปยังเอเชียตะวันออกเฉียงใต้และเอเชียใต้ข้าวถูกนำมายังทวีปยุโรปผ่านเอเชียตะวันตก และการค้าขายและการส่งออกอุดมสมบูรณ์ของดินเป็นหลักมีใบเรียว ยาว 50 - 100 เซนติเมตรและกว้าง 2 - 2.5 เซนติเมตร ช่อชีส์ชีส์บุพการีของมันเป็นสิ่งพื้นเมืองส่วนที่แน่นอนของแอฟริกาดั้งเดิมสำหรับเตรียมดินสำหรับข้าวคือทำให้น้ำท่วมแปลงชั่วขณะที่หลังจากการตั้งของต้นกล้าอายุน้อย วิธีเรียบง่ายนี้ต้องการการวางแผนที่แข็งแรงและการให้บริการของเขื่อนและแผนที่น้ำ แต่ลดพัฒนาการของเมล็ดที่ไม่ค่อยแข็งแรงและวัชพืชที่ไม่มีภาวะเติบโตขณะจมน้ำ\"\n",
      "\n"
     ]
    }
   ],
   "source": [
    "## Code here\n",
    "import requests,json\n",
    "\n",
    "url ='https://api.aiforthai.in.th/textsummarize'\n",
    "\n",
    "headers = {'Apikey':Apikey, 'Content-Type':'application/json'}\n",
    "\n",
    "\n",
    "params = json.dumps([{\"id\":100,\"comp_rate\":30,\"src\":\"ข้าว เป็นเมล็ดของพืชหญ้า Oryza sativa (ชื่อสามัญ: ข้าวเอเชีย) ที่พบมากในทวีปเอเชีย ข้าวเป็นธัญพืชซึ่งประชากรโลกบริโภคเป็นอาหารสำคัญ โดยเฉพาะอย่างยิ่งในทวีปเอเชีย จากข้อมูลเมื่อปี 2553 ข้าวเป็นธัญพืชซึ่งมีการปลูกมากที่สุดเป็นอันดับสามทั่วโลก รองจากข้าวสาลีและข้าวโพด ข้าวเป็นธัญพืชสำคัญที่สุดในด้านโภชนาการและการได้รับแคลอรีของมนุษย์ เพราะข้าวโพดส่วนใหญ่ปลูกเพื่อจุดประสงค์อื่น มิใช่ให้มนุษย์บริโภค ทั้งนี้ ข้าวคิดเป็นพลังงานกว่าหนึ่งในห้าที่มนุษย์ทั่วโลกบริโภค หลักฐานพันธุศาสตร์แสดงว่าข้าวมาจากการนำมาปลูกเมื่อราว 8,200–13,500 ปีก่อน ในภูมิภาคหุบแม่น้ำจูเจียงของจีน ก่อนหน้านี้ หลักฐานโบราณคดีเสนอว่า ข้าวมีการนำมาปลูกในเขตหุบแม่น้ำแยงซีในจีน ข้าวแพร่กระจายจากเอเชียตะวันออกไปยังเอเชียตะวันออกเฉียงใต้และเอเชียใต้ ข้าวถูกนำมายังทวีปยุโรปผ่านเอเชียตะวันตก และทวีปอเมริกาผ่านการยึดอาณานิคมของยุโรป[3] ปกติการปลูกข้าวเป็นแบบปีต่อปี ทว่าในเขตร้อน ข้าวสามารถมีชีวิตอยู่ได้หลายปีและสามารถไว้ตอ (ratoon) ได้นานถึง 30 ปี ต้นข้าวสามารถโตได้ถึง 1–1.8 เมตร ขึ้นอยู่กับพันธุ์และความอุดมสมบูรณ์ของดินเป็นหลัก มีใบเรียว ยาว 50-100 เซนติเมตร และกว้าง 2-2.5 เซนติเมตร ช่อดอกห้อยยาว 30-50 เซนติเมตร เมล็ดกินได้เป็นผลธัญพืชยาว 5-12 มิลลิเมตร และหนา 2-3 มิลลิเมตร การเตรียมดินสำหรับเพาะปลูกข้าวเหมาะกับประเทศและภูมิภาคที่ค่าแรงต่ำและฝนตกมาก เนื่องจากมันใช้แรงงานมากที่จะเตรียมดินและต้องการน้ำเพียงพอ อย่างไรก็ตาม ข้าวสามารถโตได้เกือบทุกที่ แม้บนเนินชันหรือเขตภูเขาที่ใช้ระบบควบคุมน้ำแบบขั้นบันได แม้ว่าสปีชีส์บุพการีของมันเป็นสิ่งพื้นเมืองของเอเชียและส่วนที่แน่นอนของแอฟริกา ร้อยปีของการค้าขายและการส่งออกทำให้มันสามัญในหลายวัฒนธรรมทั่วโลก วิธีแบบดั้งเดิมสำหรับเตรียมดินสำหรับข้าวคือทำให้น้ำท่วมแปลงชั่วขณะหนึ่งหรือหลังจากการตั้งของต้นกล้าอายุน้อย วิธีเรียบง่ายนี้ต้องการการวางแผนที่แข็งแรงและการให้บริการของเขื่อนและร่องน้ำ แต่ลดพัฒนาการของเมล็ดที่ไม่ค่อยแข็งแรงและวัชพืชที่ไม่มีภาวะเติบโตขณะจมน้ำ และยับยั้งศัตรูพืช ขณะที่การทำให้น้ำท่วมไม่จำเป็นสำหรับการเตรียมดินสำหรับเพาะปลูกข้าว วิธีทั้งหมดในการชลประทานต้องการความพยายามสูงกว่าในการควบคุมวัชพืชและศัตรูพืชระหว่างช่วงเวลาการเจริญเติบโตและวิธีที่แตกต่างสำหรับใส่ปุ๋ยลงดิน\"}])\n",
    "\n",
    "response = requests.post(url, data=params, headers=headers)\n",
    "txt = response.text\n",
    "\n",
    "decode_text = bytes(txt, \"utf-8\").decode(\"unicode_escape\")\n",
    "print(decode_text)"
   ]
  },
  {
   "cell_type": "markdown",
   "metadata": {
    "id": "q8rJb6pcDD13"
   },
   "source": [
    "## Text Cleansing\n",
    "- Host\n",
    "  - https://api.aiforthai.in.th/textcleansing\n",
    "- Method\tGET/POST\n",
    "- Header\n",
    "  - Apikey : apikey\n",
    "- Parameter\n",
    "  - text : ข้อความที่ต้องการแก้ไข\n"
   ]
  },
  {
   "cell_type": "markdown",
   "metadata": {
    "id": "r905xtZ-Dlls"
   },
   "source": [
    "### GET"
   ]
  },
  {
   "cell_type": "code",
   "execution_count": null,
   "metadata": {
    "colab": {
     "base_uri": "https://localhost:8080/"
    },
    "id": "gH6sz_xyDo3a",
    "outputId": "fe29672f-5ad0-490c-a6e8-9932a096c169"
   },
   "outputs": [
    {
     "name": "stdout",
     "output_type": "stream",
     "text": [
      "{'original_text': 'พุ่่ม พวง', 'cleansing_text': 'พุ่ม พวง'}\n"
     ]
    }
   ],
   "source": [
    "## code here\n",
    "import requests\n",
    "\n",
    "url = \"https://api.aiforthai.in.th/textcleansing\"\n",
    "\n",
    "params = {'text':'พุ่่มพวง'}\n",
    "\n",
    "\n",
    "headers = {\n",
    "    'Apikey': \"kHIllIH4ODKsOvvi7QJINN5FIzf6sFgR\",\n",
    "    }\n",
    "\n",
    "response = requests.request(\"GET\", url, headers=headers, params=params)\n",
    "\n",
    "print(response.json())"
   ]
  },
  {
   "cell_type": "markdown",
   "metadata": {
    "id": "tgEfbqdIDcrq"
   },
   "source": [
    "### POST"
   ]
  },
  {
   "cell_type": "code",
   "execution_count": null,
   "metadata": {
    "colab": {
     "base_uri": "https://localhost:8080/"
    },
    "id": "pOBFzYVjDuzy",
    "outputId": "2edd0221-cae7-4b72-8cd6-3a92bfd8b879"
   },
   "outputs": [
    {
     "name": "stdout",
     "output_type": "stream",
     "text": [
      "{'original_text': 'ฟุุ่่มเฟืือยเเละน้ำ', 'cleansing_text': 'ฟุ่มเฟือยและน้ำ'}\n"
     ]
    }
   ],
   "source": [
    "## Code here\n",
    "import requests\n",
    "\n",
    "url = \"https://api.aiforthai.in.th/textcleansing\"\n",
    "\n",
    "data = {'text':'ฟุุ่่มเฟืือยเเละน้ำ'}\n",
    "\n",
    "headers = {\n",
    "    'Apikey': \"kHIllIH4ODKsOvvi7QJINN5FIzf6sFgR\",\n",
    "    }\n",
    "\n",
    "response = requests.post(url, data=data, headers=headers)\n",
    "\n",
    "print(response.json())"
   ]
  },
  {
   "cell_type": "markdown",
   "metadata": {
    "id": "ecdN7Re_KE0s"
   },
   "source": [
    "# Exercises"
   ]
  },
  {
   "cell_type": "code",
   "execution_count": null,
   "metadata": {
    "colab": {
     "base_uri": "https://localhost:8080/"
    },
    "id": "BczU2wZTudrL",
    "outputId": "0803ad99-a316-4853-d5ea-561468a6286c"
   },
   "outputs": [
    {
     "name": "stdout",
     "output_type": "stream",
     "text": [
      "{\"result\":[\"ข้าว|เป็น|เมล็ด|ของ|พืช|หญ้า|ที่|พบ|มาก|ใน|ทวีป|เอเชีย\",\"ข้าว|เป็นธัญพืช|ซึ่ง|ประชากร|โลก|บริโภค|เป็น|อาหาร|สำคัญ\",\"โดยเฉพาะ|อย่าง|ยิ่ง|ใน|ทวีป|เอเชีย\",\"จาก|ข้อมูล|เมื่อ|ปี| |2553| |ข้าว|เป็น|ธัญพืช|ซึ่ง|มีการ|ปลูก|มาก|ที่สุด|เป็น|อันดับ|สาม|ทั่ว|โลก| |รอง|จาก|ข้าว|สาลี|และ|ข้าวโพด| |ข้าว|เป็น|ธัญพืช|สำคัญ|ที่สุด|ใน|ด้าน|โภชนาการ|และ|การ|ได้รับ|แคลอรี|ของ|มนุษย์| |เพราะ|ข้าวโพด|ส่วนใหญ่|ปลูก|เพื่อ|จุดประสงค์|อื่น\",\"มิ|ใช่|ให้|มนุษย์|บริโภค\",\"ทั้งนี้| |ข้าว|คิด|เป็น|พลังงาน|กว่า|หนึ่ง|ใน|ห้า|ที่|มนุษย์|ทั่ว|โลก|บริโภค\",\"หลักฐาน|พันธุศาสตร์|แสดง|ว่า|ข้าว|มา|จาก|การ|นำ|มา|ปลูก|เมื่อ|ราว| |8,200–13,500| |ปี|ก่อน\",\"ใน|ภูมิภาค|หุบ|แม่น้ำ|จูเจียง|ของ|จีน| |ก่อนหน้า|นี้\",\"หลักฐาน|โบราณคดี|เสนอ|ว่า| |ข้าว|มีการ|นำ|มา|ปลูก|ใน|เขต|หุบ|แม่น้ำ|แยง|ซี|ใน|จีน| |ข้าว|แพร่กระจาย|จาก|เอเชีย|ตะวันออก|ไป|ยัง|เอเชีย|ตะวันออก|เฉียงใต้|และ|เอเชีย|ใต้| |ข้าว|ถูก|นำ|มา|ยัง|ทวีป|ยุโรป|ผ่าน|เอเชีย|ตะวัน|ตก\",\"และ|ทวีปอเมริกา|ผ่าน|การ|ยึด|อาณานิคม|ของ|ยุโรป[3]| |ปกติ|การ|ปลูก|ข้าว|เป็น|แบบ|ปี|ต่อ|ปี\",\"ทว่า|ใน|เขต|ร้อน| |ข้าว|สามารถ|มี|ชีวิต|อยู่|ได้|หลาย|ปี|และ|สามารถ|ไว้|ตอ| |(|ratoon|)\",\"ได้|นาน|ถึง| |30| |ปี| |ต้น|ข้าว|สามารถ|โต|ได้|ถึง\",\"1–1.8| |เมตร\",\"ขึ้น|อยู่|กับ|พันธุ์|และ|ความ|อุดมสมบูรณ์|ของ|ดิน|เป็น|หลัก| |มี|ใบ|เรียว\",\"ยาว| |50|-|100| |เซนติเมตร| |และ|กว้าง| |2|-|2.5| |เซนติเมตร\",\"ช่อ|ดอกห้อย|ยาว| |30|-|50| |เซนติเมตร\",\"เมล็ด|กิน|ได้|เป็น|ผล|ธัญพืช|ยาว| |5-12| |มิลลิเมตร\",\"และ|หนา| |2-3\",\"มิลลิเมตร| |การ|เตรียม|ดิน|สำหรับ|เพาะปลูก|ข้าว|เหมาะ|กับ|ประเทศ|และ|ภูมิภาค|ที่|ค่า|แรง|ต่ำ|และ|ฝน|ตก|มาก\",\"เนื่องจาก|มัน|ใช้|แรงงาน|มาก|ที่|จะ|เตรียม|ดิน|และ|ต้องการ|น้ำ|เพียงพอ\",\"อย่างไรก็ตาม| |ข้าว|สามารถ|โต|ได้|เกือบ|ทุก|ที่\",\"แม้|บน|เนินชัน|หรือ|เขต|ภูเขา|ที่|ใช้|ระบบ|ควบคุม|น้ำ|แบบ|ขั้น|บันได\",\"แม้|ว่า|สปี|ชีส์|บุพการี|ของ|มัน|เป็น|สิ่ง|พื้นเมือง|ของ|เอเชีย|และ|ส่วน|ที่|แน่นอน|ของ|แอฟริกา| |ร้อย|ปี|ของ|การ|ค้าขาย|และ|การ|ส่ง|ออก|ทำให้|มัน|สามัญ|ใน|หลาย|วัฒนธรรม|ทั่ว|โลก\",\"วิธี|แบบ|ดั้งเดิม|สำหรับ|เตรียม|ดิน|สำหรับ|ข้าว|คือ|ทำให้|น้ำ|ท่วม|แปลงชั่ว|ขณะ|หนึ่ง|หรือ|หลัง|จาก|การ|ตั้ง|ของ|ต้น|กล้า|อายุ|น้อย\",\"วิธี|เรียบ|ง่าย|นี้|ต้องการ|การ|วาง|แผนที่|แข็งแรง|และ|การ|ให้|บริการ|ของ|เขื่อน|และ|ร่อง|น้ำ\",\"แต่|ลด|พัฒนาการ|ของ|เมล็ด|ที่|ไม่|ค่อย|แข็งแรง|และ|วัชพืช|ที่|ไม่|มี|ภาวะ|เติบโต|ขณะ|จม|น้ำ| |และ|ยับยั้ง|ศัตรู|พืช\",\"ขณะ|ที่|การ|ทำให้|น้ำ|ท่วม|ไม่|จำเป็น|สำหรับ|การ|เตรียม|ดิน|สำหรับ|เพาะปลูก|ข้าว\",\"วิธี|ทั้งหมด|ใน|การ|ชลประทาน|ต้องการ|ความ|พยายาม|สูง|กว่า|ใน|การ|ควบคุม|วัชพืช|และ|ศัตรู|พืช|ระหว่าง|ช่วง|เวลา|การ|เจริญเติบโต|และ|วิธี|ที่|แตกต่าง|สำหรับ|ใส่|ปุ๋ย|ลง|ดิน\"]}\n"
     ]
    }
   ],
   "source": [
    "## Code here\n",
    "import requests, urllib\n",
    "\n",
    "url ='https://api.aiforthai.in.th/longan/tokenize'\n",
    "txt = \"ข้าวเป็นเมล็ดของพืชหญ้าที่พบมากในทวีปเอเชีย ข้าวเป็นธัญพืชซึ่งประชากรโลกบริโภคเป็นอาหารสำคัญ โดยเฉพาะอย่างยิ่งในทวีปเอเชีย จากข้อมูลเมื่อปี 2553 ข้าวเป็นธัญพืชซึ่งมีการปลูกมากที่สุดเป็นอันดับสามทั่วโลก รองจากข้าวสาลีและข้าวโพด ข้าวเป็นธัญพืชสำคัญที่สุดในด้านโภชนาการและการได้รับแคลอรีของมนุษย์ เพราะข้าวโพดส่วนใหญ่ปลูกเพื่อจุดประสงค์อื่น มิใช่ให้มนุษย์บริโภค ทั้งนี้ ข้าวคิดเป็นพลังงานกว่าหนึ่งในห้าที่มนุษย์ทั่วโลกบริโภค หลักฐานพันธุศาสตร์แสดงว่าข้าวมาจากการนำมาปลูกเมื่อราว 8,200–13,500 ปีก่อน ในภูมิภาคหุบแม่น้ำจูเจียงของจีน ก่อนหน้านี้ หลักฐานโบราณคดีเสนอว่า ข้าวมีการนำมาปลูกในเขตหุบแม่น้ำแยงซีในจีน ข้าวแพร่กระจายจากเอเชียตะวันออกไปยังเอเชียตะวันออกเฉียงใต้และเอเชียใต้ ข้าวถูกนำมายังทวีปยุโรปผ่านเอเชียตะวันตก และทวีปอเมริกาผ่านการยึดอาณานิคมของยุโรป[3] ปกติการปลูกข้าวเป็นแบบปีต่อปี ทว่าในเขตร้อน ข้าวสามารถมีชีวิตอยู่ได้หลายปีและสามารถไว้ตอ (ratoon) ได้นานถึง 30 ปี ต้นข้าวสามารถโตได้ถึง 1–1.8 เมตร ขึ้นอยู่กับพันธุ์และความอุดมสมบูรณ์ของดินเป็นหลัก มีใบเรียว ยาว 50-100 เซนติเมตร และกว้าง 2-2.5 เซนติเมตร ช่อดอกห้อยยาว 30-50 เซนติเมตร เมล็ดกินได้เป็นผลธัญพืชยาว 5-12 มิลลิเมตร และหนา 2-3 มิลลิเมตร การเตรียมดินสำหรับเพาะปลูกข้าวเหมาะกับประเทศและภูมิภาคที่ค่าแรงต่ำและฝนตกมาก เนื่องจากมันใช้แรงงานมากที่จะเตรียมดินและต้องการน้ำเพียงพอ อย่างไรก็ตาม ข้าวสามารถโตได้เกือบทุกที่ แม้บนเนินชันหรือเขตภูเขาที่ใช้ระบบควบคุมน้ำแบบขั้นบันได แม้ว่าสปีชีส์บุพการีของมันเป็นสิ่งพื้นเมืองของเอเชียและส่วนที่แน่นอนของแอฟริกา ร้อยปีของการค้าขายและการส่งออกทำให้มันสามัญในหลายวัฒนธรรมทั่วโลก วิธีแบบดั้งเดิมสำหรับเตรียมดินสำหรับข้าวคือทำให้น้ำท่วมแปลงชั่วขณะหนึ่งหรือหลังจากการตั้งของต้นกล้าอายุน้อย วิธีเรียบง่ายนี้ต้องการการวางแผนที่แข็งแรงและการให้บริการของเขื่อนและร่องน้ำ แต่ลดพัฒนาการของเมล็ดที่ไม่ค่อยแข็งแรงและวัชพืชที่ไม่มีภาวะเติบโตขณะจมน้ำ และยับยั้งศัตรูพืช ขณะที่การทำให้น้ำท่วมไม่จำเป็นสำหรับการเตรียมดินสำหรับเพาะปลูกข้าว วิธีทั้งหมดในการชลประทานต้องการความพยายามสูงกว่าในการควบคุมวัชพืชและศัตรูพืชระหว่างช่วงเวลาการเจริญเติบโตและวิธีที่แตกต่างสำหรับใส่ปุ๋ยลงดิน\"\n",
    "\n",
    "encoded_txt = urllib.parse.quote(txt)\n",
    "payload = 'text='+encoded_txt+'&sep=|&wordseg=true&sentseg=true'\n",
    "\n",
    "headers = {'Apikey':Apikey, 'Content-Type':'application/x-www-form-urlencoded'}\n",
    "\n",
    "response = requests.request(\"POST\", url, headers=headers, data=payload)\n",
    "\n",
    "# output = response.text\n",
    "\n",
    "# print(output)\n",
    "\n",
    "print(response.text)"
   ]
  },
  {
   "cell_type": "code",
   "execution_count": null,
   "metadata": {
    "colab": {
     "base_uri": "https://localhost:8080/"
    },
    "id": "sNK_r4Jr3di4",
    "outputId": "c0fe94ed-35dd-4881-b4ae-610e04598da9"
   },
   "outputs": [
    {
     "name": "stdout",
     "output_type": "stream",
     "text": [
      "{'neutral': 0.40221258997917175, 'sadness': 0.2670925557613373, 'surprise': 0.14076431095600128, 'pleasant': 0.06396777927875519, 'anger': 0.0549667552113533, 'fear': 0.05367019772529602, 'joy': 0.0}\n"
     ]
    }
   ],
   "source": [
    "import requests\n",
    "\n",
    "url =\"https://api.aiforthai.in.th/emonews/prediction\"\n",
    "headers = {\"apikey\":\"kHIllIH4ODKsOvvi7QJINN5FIzf6sFgR\"}\n",
    "params = {\"text\":\"ก่อนเสือคนมองว่าเกมนี้ อาร์เซนอลมีโอกาสสูงที่จะล้างตาเสือใต้ได้สำเร็จ เนื่องจากฟอร์มการเล่นที่ดูดีกว่าเพราะปืนใหญ่สามารถยกระดับตัวเองขึ้นมาจนเป็นทีมลุ้นแชมป์แถมปีนี้\"}\n",
    "\n",
    "response = requests.get(url, params=params, headers=headers)\n",
    "print(response.json()['result'])"
   ]
  },
  {
   "cell_type": "code",
   "execution_count": null,
   "metadata": {
    "colab": {
     "base_uri": "https://localhost:8080/"
    },
    "id": "o-faBWl826_w",
    "outputId": "6a722cf0-1cb0-4c37-d8c8-ea64ab1f8f02"
   },
   "outputs": [
    {
     "name": "stdout",
     "output_type": "stream",
     "text": [
      "\"ก่อนเสือคนมองว่าเกมนี้ อาร์เซนอลมีโอกาสสูงที่จะล้างตาเสือใต้ได้สำเร็จ เนื่องจากฟอร์มการเล่นที่ดูดีกว่าเพราะปืนใหญ่สามารถยกระดับตัวเองขึ้นมาจนเป็นทีมลุ้นแชมป์แถมปีนี้ บาเยิร์นมิวนิคเองก็เล่นผิดฟอร์มจนจ่อจะพลาดแชมป์ลีก ยิ่งไปกว่านั้นวันนี้ยังเล่นในเอมิเรตส์สเตเดียม นั่นน่าจะทำให้ทีมของ มิเกลอาร์เตตามีโอกาสเปิดรังล้างแค้นหลังจากช่วงที่ผ่านมาโดนพี่เสือยำเละมาโดยตลอดแต่เกมนี้มันไม่ได้เป็นเช่นนั้นเลยแม้ปืนใหญ่จะพยายามเปิดเกมบุกเข้าใส่และออกนำก่อน แต่บาเยิร์นแค้นเองก็ตั้งรับได้ดีแถมยังฉวยโอกาสจากความผิดพลาดจนแซงกลับมานำ 2-1 นั่นทำให้อาร์เซนอล ต้องเหนื่อยกว่าจะไล่ตีกว่าจากลูกยิงของคิงส์เลย์โกม็อง ที่ไปชนเสาช่วงท้ายเกม รอดตายมาได้อย่างหวุดหวิดในที่สุดรูปเกมในวันนี้อาร์เซนอล ดูดีกว่าในเรื่องการครองบอลก็จริงแต่นั้นดูเหมือนจะเป็นแผนของโธมัสทูเคิล ที่วางไว้\"\n",
      "\n",
      "{'sadness': 0.3277629017829895, 'neutral': 0.28409889340400696, 'surprise': 0.1591254323720932, 'anger': 0.09424390643835068, 'pleasant': 0.06359412521123886, 'fear': 0.06018197536468506, 'joy': 0.0}\n"
     ]
    }
   ],
   "source": [
    "import requests, json\n",
    "\n",
    "url1 ='https://api.aiforthai.in.th/textsummarize'\n",
    "url2 =\"https://api.aiforthai.in.th/emonews/prediction\"\n",
    "\n",
    "Apikey = 'kHIllIH4ODKsOvvi7QJINN5FIzf6sFgR'\n",
    "\n",
    "file1 = open(\"news1.txt\", 'r', encoding=\"utf-8\")\n",
    "content = \"\"\n",
    "lines = file1.readlines()\n",
    "for line in lines:\n",
    "  content += line\n",
    "\n",
    "headers1 = {'Apikey': Apikey, 'Content-Type':'application/json'}\n",
    "params1 = json.dumps([{\"id\":100,\"comp_rate\":30,\"src\": content}])\n",
    "\n",
    "response1 = requests.post(url1, data=params1, headers=headers1)\n",
    "\n",
    "txt1 = response1.text\n",
    "decode_text = bytes(txt1, \"utf-8\").decode(\"unicode_escape\")\n",
    "\n",
    "headers2 = {'Apikey': Apikey}\n",
    "params2 = {\"text\": decode_text}\n",
    "\n",
    "response2 = requests.get(url2, params=params2, headers=headers2)\n",
    "\n",
    "print(decode_text)\n",
    "print(response2.json()['result'])"
   ]
  },
  {
   "cell_type": "code",
   "execution_count": null,
   "metadata": {
    "colab": {
     "base_uri": "https://localhost:8080/"
    },
    "id": "CSrsvzZX0_o2",
    "outputId": "df42c456-1cdf-473a-e17d-2f6ebef24556"
   },
   "outputs": [
    {
     "name": "stdout",
     "output_type": "stream",
     "text": [
      "--2024-06-20 08:50:04--  https://aiforthai.in.th/files/news1.txt\n",
      "Resolving aiforthai.in.th (aiforthai.in.th)... 203.151.85.181\n",
      "Connecting to aiforthai.in.th (aiforthai.in.th)|203.151.85.181|:443... connected.\n",
      "HTTP request sent, awaiting response... 200 OK\n",
      "Length: 6987 (6.8K) [text/plain]\n",
      "Saving to: ‘news1.txt.1’\n",
      "\n",
      "news1.txt.1         100%[===================>]   6.82K  --.-KB/s    in 0s      \n",
      "\n",
      "2024-06-20 08:50:06 (1.85 GB/s) - ‘news1.txt.1’ saved [6987/6987]\n",
      "\n"
     ]
    }
   ],
   "source": [
    "!wget https://aiforthai.in.th/files/news1.txt"
   ]
  },
  {
   "cell_type": "code",
   "execution_count": null,
   "metadata": {
    "colab": {
     "base_uri": "https://localhost:8080/"
    },
    "id": "I2NYuekgK7w_",
    "outputId": "3507b260-b2b7-46a4-862f-e9a8efd9f4ea"
   },
   "outputs": [
    {
     "name": "stdout",
     "output_type": "stream",
     "text": [
      "{'sentiment': {'score': '88.89', 'polarity-neg': True, 'polarity-pos': True, 'polarity': 'negative'}, 'preprocess': {'input': '\"ก่อนเสือคนมองว่าเกมนี้ อาร์เซนอลมีโอกาสสูงที่จะล้างตาเสือใต้ได้สำเร็จ เนื่องจากฟอร์มการเล่นที่ดูดีกว่าเพราะปืนใหญ่สามารถยกระดับตัวเองขึ้นมาจนเป็นทีมลุ้นแชมป์แถมปีนี้ บาเยิร์นมิวนิคเองก็เล่นผิดฟอร์มจนจ่อจะพลาดแชมป์ลีก ยิ่งไปกว่านั้นวันนี้ยังเล่นในเอมิเรตส์สเตเดียม นั่นน่าจะทำให้ทีมของ มิเกลอาร์เตตามีโอกาสเปิดรังล้างแค้นหลังจากช่วงที่ผ่านมาโดนพี่เสือยำเละมาโดยตลอดแต่เกมนี้มันไม่ได้เป็นเช่นนั้นเลยแม้ปืนใหญ่จะพยายามเปิดเกมบุกเข้าใส่และออกนำก่อน แต่บาเยิร์นแค้นเองก็ตั้งรับได้ดีแถมยังฉวยโอกาสจากความผิดพลาดจนแซงกลับมานำ 2-1 นั่นทำให้อาร์เซนอล ต้องเหนื่อยกว่าจะไล่ตีกว่าจากลูกยิงของคิงส์เลย์โกม็อง ที่ไปชนเสาช่วงท้ายเกม รอดตายมาได้อย่างหวุดหวิดในที่สุดรูปเกมในวันนี้อาร์เซนอล ดูดีกว่าในเรื่องการครองบอลก็จริงแต่นั้นดูเหมือนจะเป็นแผนของโธมัสทูเคิล ที่วางไว้\"\\n', 'neg': ['จน', 'ผิด', 'จน', 'พลาด', 'โดน', 'เละ', 'ไม่ได้', 'แค้น', 'ฉวยโอกาส', 'ความผิดพลาด', 'จน', 'เหนื่อย'], 'pos': ['มีโอกาส', 'สำเร็จ', 'ดูดี', 'ยกระดับ', 'มีโอกาส', 'รับได้', 'ดี', 'ดูดี'], 'segmented': ['\"', 'ก่อน', 'เสือ', 'คน', 'มองว่า', 'เกม', 'นี้', ' ', 'อาร์เซนอล', 'มีโอกาส', 'สูง', 'ที่จะ', 'ล้าง', 'ตา', 'เสือ', 'ใต้', 'ได้', 'สำเร็จ', ' ', 'เนื่องจาก', 'ฟอร์ม', 'การ', 'เล่น', 'ที่', 'ดูดี', 'กว่า', 'เพราะ', 'ปืนใหญ่', 'สามารถ', 'ยกระดับ', 'ตัวเอง', 'ขึ้น', 'มา', 'จน', 'เป็น', 'ทีม', 'ลุ้น', 'แชมป์', 'แถม', 'ปี', 'นี้', ' ', 'บา', 'เยิร์', 'นมิ', 'วนิค', 'เอง', 'ก็', 'เล่น', 'ผิด', 'ฟอร์ม', 'จน', 'จ่อ', 'จะ', 'พลาด', 'แชมป์', 'ลีก', ' ', 'ยิ่งไปกว่านั้น', 'วันนี้', 'ยัง', 'เล่น', 'ใน', 'เอ', 'มิ', 'เรตส์สเต', 'เดีย', 'ม', ' ', 'นั่น', 'น่าจะ', 'ทำให้', 'ทีม', 'ของ', ' ', 'มิเกล', 'อาร์', 'เ', 'ตตา', 'มีโอกาส', 'เปิด', 'รัง', 'ล้างแค้น', 'หลังจาก', 'ช่วง', 'ที่ผ่านมา', 'โดน', 'พี่', 'เสือ', 'ยำ', 'เละ', 'มาโดยตลอด', 'แต่', 'เกม', 'นี้', 'มัน', 'ไม่ได้', 'เป็น', 'เช่นนั้น', 'เลย', 'แม้', 'ปืนใหญ่', 'จะ', 'พยายาม', 'เปิด', 'เกม', 'บุก', 'เข้าใส่', 'และ', 'ออก', 'นำ', 'ก่อน', ' ', 'แต่', 'บา', 'เยิร์น', 'แค้น', 'เอง', 'ก็', 'ตั้ง', 'รับได้', 'ดี', 'แถม', 'ยัง', 'ฉวยโอกาส', 'จาก', 'ความผิดพลาด', 'จน', 'แซง', 'กลับมา', 'นำ', ' ', '2', '-', '1', ' ', 'นั่น', 'ทำให้', 'อาร์เซนอล', ' ', 'ต้อง', 'เหนื่อย', 'กว่า', 'จะ', 'ไล่', 'ตี', 'กว่า', 'จาก', 'ลูก', 'ยิง', 'ของ', 'คิงส์', 'เลย์', 'โก', 'ม็อง', ' ', 'ที่ไป', 'ชน', 'เสา', 'ช่วง', 'ท้าย', 'เกม', ' ', 'รอดตาย', 'มา', 'ได้', 'อย่างหวุดหวิด', 'ในที่สุด', 'รูป', 'เกม', 'ใน', 'วันนี้', 'อาร์เซนอล', ' ', 'ดูดี', 'กว่า', 'ใน', 'เรื่องการ', 'ครอง', 'บอล', 'ก็', 'จริง', 'แต่', 'นั้น', 'ดูเหมือน', 'จะเป็น', 'แผน', 'ของ', 'โธ', 'มัส', 'ทู', 'เคิล', ' ', 'ที่', 'วางไว้', '\"', '\\n'], 'keyword': ['เสือ', 'คน', 'มองว่า', 'เกม', 'อาร์เซนอล', 'สูง', 'ที่จะ', 'ล้าง', 'ตา', 'เสือ', 'ใต้', 'ฟอร์ม', 'เล่น', 'ปืนใหญ่', 'สามารถ', 'ตัวเอง', 'ทีม', 'ลุ้น', 'แชมป์', 'แถม', 'ปี', 'บา', 'เยิร์', 'นมิ', 'วนิค', 'เล่น', 'ฟอร์ม', 'จ่อ', 'แชมป์', 'ลีก', 'ยิ่งไปกว่านั้น', 'วันนี้', 'เล่น', 'เอ', 'มิ', 'เดีย', 'นั่น', 'น่าจะ', 'ทีม', 'มิเกล', 'อาร์', 'ตตา', 'รัง', 'ล้างแค้น', 'ที่ผ่านมา', 'พี่', 'เสือ', 'ยำ', 'มาโดยตลอด', 'เกม', 'เช่นนั้น', 'แม้', 'ปืนใหญ่', 'พยายาม', 'เกม', 'บุก', 'เข้าใส่', 'บา', 'เยิร์น', 'แถม', 'แซง', 'กลับมา', 'นั่น', 'อาร์เซนอล', 'ไล่', 'ตี', 'ลูก', 'ยิง', 'คิงส์', 'เลย์', 'โก', 'ม็อง', 'ที่ไป', 'ชน', 'เสา', 'ท้าย', 'เกม', 'รอดตาย', 'อย่างหวุดหวิด', 'ในที่สุด', 'รูป', 'เกม', 'วันนี้', 'อาร์เซนอล', 'เรื่องการ', 'ครอง', 'บอล', 'จริง', 'ดูเหมือน', 'จะเป็น', 'แผน', 'โธ', 'ทู', 'เคิล', 'วางไว้']}, 'alert': [], 'comparative': [], 'associative': [], 'intention': {'request': '0', 'sentiment': '100', 'question': '0', 'announcement': '0'}}\n",
      "{'score': '88.89', 'polarity-neg': True, 'polarity-pos': True, 'polarity': 'negative'}\n",
      "{'request': '0', 'sentiment': '100', 'question': '0', 'announcement': '0'}\n"
     ]
    }
   ],
   "source": [
    "import requests, json\n",
    "\n",
    "url1 = 'https://api.aiforthai.in.th/textsummarize'\n",
    "url2 = 'https://api.aiforthai.in.th/ssense'\n",
    "\n",
    "Apikey = 'kHIllIH4ODKsOvvi7QJINN5FIzf6sFgR'\n",
    "\n",
    "file1 = open(\"news1.txt\", 'r', encoding=\"utf-8\")\n",
    "content = \"\"\n",
    "lines = file1.readlines()\n",
    "for line in lines:\n",
    "  content += line\n",
    "\n",
    "headers1 = {'Apikey': Apikey, 'Content-Type':'application/json'}\n",
    "params1 = json.dumps([{\"id\":100,\"comp_rate\":30,\"src\": content}])\n",
    "\n",
    "response1 = requests.post(url1, data=params1, headers=headers1)\n",
    "\n",
    "txt1 = response1.text\n",
    "decode_text = bytes(txt1, \"utf-8\").decode(\"unicode_escape\")\n",
    "\n",
    "headers2 = {'Apikey': Apikey}\n",
    "params2 = {\"text\": decode_text}\n",
    "\n",
    "response2 = requests.get(url2, headers=headers2, params=params2)\n",
    "\n",
    "print(response2.json())\n",
    "print(response2.json()['sentiment'])\n",
    "print(response2.json()['intention'])"
   ]
  }
 ],
 "metadata": {
  "colab": {
   "collapsed_sections": [
    "ia-xcZwTLhAH",
    "bG1_K72wa7Lw",
    "v1m8bI7mE-I7",
    "hj4wrbU7ZixI",
    "nfdQVltAA4vM",
    "ppAl_1y2Zaiv",
    "iFtCooN3HVTd",
    "VXtiNJ1Yaez_",
    "mmvlPNk3cquZ",
    "fDI_eFcOcsTP",
    "-MCtFFG4POYG",
    "k9EpacwdQCYY",
    "0j0esYP1e__R",
    "RVnTAmdWCy7a",
    "r905xtZ-Dlls",
    "tgEfbqdIDcrq"
   ],
   "provenance": [],
   "toc_visible": true
  },
  "kernelspec": {
   "display_name": "Python 3 (ipykernel)",
   "language": "python",
   "name": "python3"
  },
  "language_info": {
   "codemirror_mode": {
    "name": "ipython",
    "version": 3
   },
   "file_extension": ".py",
   "mimetype": "text/x-python",
   "name": "python",
   "nbconvert_exporter": "python",
   "pygments_lexer": "ipython3",
   "version": "3.11.7"
  }
 },
 "nbformat": 4,
 "nbformat_minor": 4
}
