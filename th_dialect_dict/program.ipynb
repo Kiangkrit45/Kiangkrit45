{
 "cells": [
  {
   "cell_type": "code",
   "execution_count": 1,
   "id": "08fcbf38-7927-4d12-82a4-721a489c33fc",
   "metadata": {},
   "outputs": [
    {
     "name": "stdout",
     "output_type": "stream",
     "text": [
      "\n",
      "--> C:\\Users\\Kiang\\OneDrive\\Documents\\Programming\\th_dialect_dict <--\n",
      "\n"
     ]
    }
   ],
   "source": [
    "import os\n",
    "\n",
    "cwd = os.getcwd()\n",
    "\n",
    "print(\"\\n--> {} <--\\n\".format(cwd))"
   ]
  },
  {
   "cell_type": "code",
   "execution_count": 3,
   "id": "8a1777e3-6d0b-4063-96a1-d307038f3200",
   "metadata": {},
   "outputs": [],
   "source": [
    "import pandas as pd\n",
    "import numpy as np\n",
    "import csv"
   ]
  },
  {
   "cell_type": "code",
   "execution_count": 31,
   "id": "0fed98bc-37a4-44da-8541-e64608c31eee",
   "metadata": {},
   "outputs": [
    {
     "data": {
      "text/html": [
       "<div>\n",
       "<style scoped>\n",
       "    .dataframe tbody tr th:only-of-type {\n",
       "        vertical-align: middle;\n",
       "    }\n",
       "\n",
       "    .dataframe tbody tr th {\n",
       "        vertical-align: top;\n",
       "    }\n",
       "\n",
       "    .dataframe thead th {\n",
       "        text-align: right;\n",
       "    }\n",
       "</style>\n",
       "<table border=\"1\" class=\"dataframe\">\n",
       "  <thead>\n",
       "    <tr style=\"text-align: right;\">\n",
       "      <th></th>\n",
       "      <th>0</th>\n",
       "      <th>1</th>\n",
       "      <th>2</th>\n",
       "      <th>3</th>\n",
       "    </tr>\n",
       "  </thead>\n",
       "  <tbody>\n",
       "    <tr>\n",
       "      <th>0</th>\n",
       "      <td>กก</td>\n",
       "      <td>น. กก, ชื่อไม้ล้มลุกชนิดหนึ่งเกิดในที่ชุ่มน้ำ ...</td>\n",
       "      <td>NaN</td>\n",
       "      <td>NaN</td>\n",
       "    </tr>\n",
       "    <tr>\n",
       "      <th>1</th>\n",
       "      <td>NaN</td>\n",
       "      <td>กกขี้หมา</td>\n",
       "      <td>น. กกลังกาชนิดหนึ่ง แต่ต้นเล็กกว่า ใช้เป็นสมุนไพร</td>\n",
       "      <td>NaN</td>\n",
       "    </tr>\n",
       "    <tr>\n",
       "      <th>2</th>\n",
       "      <td>NaN</td>\n",
       "      <td>กกลังกา</td>\n",
       "      <td>น. กกชนิดต้นกลม ใช้เป็นสมุนไพร</td>\n",
       "      <td>NaN</td>\n",
       "    </tr>\n",
       "    <tr>\n",
       "      <th>3</th>\n",
       "      <td>NaN</td>\n",
       "      <td>NaN</td>\n",
       "      <td>๒ ก๊ก, เหล่า, กำพืด ๓ อวัยวะเพศหญิง (ดู เคย น....</td>\n",
       "      <td>NaN</td>\n",
       "    </tr>\n",
       "    <tr>\n",
       "      <th>4</th>\n",
       "      <td>กกกก</td>\n",
       "      <td>ว. มาก, ยิ่ง เช่น แก่กกกก - แก่มาก, แห้งกกกก -...</td>\n",
       "      <td>NaN</td>\n",
       "      <td>NaN</td>\n",
       "    </tr>\n",
       "  </tbody>\n",
       "</table>\n",
       "</div>"
      ],
      "text/plain": [
       "      0                                                  1  \\\n",
       "0    กก  น. กก, ชื่อไม้ล้มลุกชนิดหนึ่งเกิดในที่ชุ่มน้ำ ...   \n",
       "1   NaN                                           กกขี้หมา   \n",
       "2   NaN                                            กกลังกา   \n",
       "3   NaN                                                NaN   \n",
       "4  กกกก  ว. มาก, ยิ่ง เช่น แก่กกกก - แก่มาก, แห้งกกกก -...   \n",
       "\n",
       "                                                   2    3  \n",
       "0                                                NaN  NaN  \n",
       "1  น. กกลังกาชนิดหนึ่ง แต่ต้นเล็กกว่า ใช้เป็นสมุนไพร  NaN  \n",
       "2                     น. กกชนิดต้นกลม ใช้เป็นสมุนไพร  NaN  \n",
       "3  ๒ ก๊ก, เหล่า, กำพืด ๓ อวัยวะเพศหญิง (ดู เคย น....  NaN  \n",
       "4                                                NaN  NaN  "
      ]
     },
     "execution_count": 31,
     "metadata": {},
     "output_type": "execute_result"
    }
   ],
   "source": [
    "southern = pd.read_excel(r'datasets\\พจนานุกรมภาษาถิ่นใต้.xlsx', header=None)\n",
    "\n",
    "# df.head(n=5)\n",
    "\n",
    "sample = southern.head(n=5)\n",
    "\n",
    "sample\n",
    "\n",
    "# กกขึ้หมา iloc[1,1]\n",
    "# iloc[column, row]\n",
    "\n",
    "# \"\"\"\n",
    "# iloc[n-1, 1] if \"source_word\" in target_word == Trues\n",
    "# \"\"\"\n",
    "\n",
    "# sample[0]\n",
    "# sample[:0]"
   ]
  },
  {
   "cell_type": "code",
   "execution_count": 23,
   "id": "f8a8a87b-c796-4fdc-9d5a-0c0c00949f50",
   "metadata": {},
   "outputs": [
    {
     "name": "stdout",
     "output_type": "stream",
     "text": [
      "dogshit\n"
     ]
    }
   ],
   "source": []
  }
 ],
 "metadata": {
  "kernelspec": {
   "display_name": "Python 3 (ipykernel)",
   "language": "python",
   "name": "python3"
  },
  "language_info": {
   "codemirror_mode": {
    "name": "ipython",
    "version": 3
   },
   "file_extension": ".py",
   "mimetype": "text/x-python",
   "name": "python",
   "nbconvert_exporter": "python",
   "pygments_lexer": "ipython3",
   "version": "3.12.0"
  }
 },
 "nbformat": 4,
 "nbformat_minor": 5
}
